{
  "nbformat": 4,
  "nbformat_minor": 0,
  "metadata": {
    "colab": {
      "provenance": [],
      "collapsed_sections": [
        "hz_2i7uZoIIb",
        "qHF_EvB1ok5g",
        "UxYinv6eomTw",
        "zUwcYcxJoriY",
        "CTKBJl9Oos6q",
        "efaIkcBqzPhr",
        "fmEQizdCBq95",
        "HsI1G36HHj27",
        "x22diyVvONBc",
        "7pXvcl56FBlj",
        "kty3d-NnB2ZR",
        "v0mt_8D0B4o4",
        "eRkwHzOSB-kQ",
        "Tj-_59xKCuhC",
        "m8dWe8UdnAri",
        "fQCX_d8OtuGo",
        "BoVhNo9BuYPR",
        "jC3orj-4C88i",
        "bFZz_wVWC2d2",
        "jBIKvpOeSOto",
        "bd0AMwpHSZBu",
        "DUcBSsGAShkD",
        "L_4p6pUeSnPr",
        "IQDaaFgMSu3b",
        "isKFQAfVS35j",
        "ex-wym_aDHQe",
        "YQ73MEHDDIWl",
        "Fm_E43bsDLzj",
        "itHGuKjyDjPp",
        "I6eh8xiVDq6b",
        "AOYHas5tDyuQ",
        "V6YKkvJNAAWs",
        "iIgpE_TiAJpg",
        "Ur-BKTH9gxld",
        "tNJMj5Slg01h",
        "4gGodgJOECLi",
        "-rsYzvr-hoj2",
        "WEVcDCckHJCP",
        "Q5WYovVIHM7s",
        "cD6B3XVTHPG8",
        "PzhAqVJEHSTR",
        "9Px6NFhkHYEW",
        "UP97z59YdZhE"
      ]
    },
    "kernelspec": {
      "display_name": "Python 3",
      "language": "python",
      "name": "python3"
    },
    "accelerator": "GPU",
    "gpuClass": "standard"
  },
  "cells": [
    {
      "cell_type": "markdown",
      "metadata": {
        "id": "bYVyLRKTONBE"
      },
      "source": [
        "## Milestone 2 (final milestone)\n",
        "#### *(last edited: 11:15 PM, 12/12/2022)*\n",
        "\n",
        "---\n",
        "\n",
        "The main goal of this milestone is to use Neural Networks to find out what are the optimal weights that can be used to aggregate different features scores to indicate the importance of sentences in the dataset assigned to your group.\n",
        "\n",
        "The final outcome of this project is to create a Neural Network model with appropriate loss and metric functions that will produce the optimal weights for aggregating various NLP feature scores.\n",
        "\n",
        "**Please follow the instruction to work out this milestone. DO NOT use any ready to use algorithms or libraries for this milestone**"
      ]
    },
    {
      "cell_type": "markdown",
      "source": [
        "<center>\n",
        "  <font size=\"8\">CS256 Team Project</font><br>\n",
        "  <font size=\"6\"> Team 1</font><br>\n",
        "  Nitin Datta Movva, Shruti Sharma, Yosha Mundhra, Summanth Redde Mulkkalla, Michael Nguyen</center>\n",
        "\n",
        "\n",
        "---\n",
        "#### *(last edited: 4:30 PM, 12/5/2022)*\n",
        "\n",
        "---\n",
        "\n",
        "The main goal of this milestone is to use Neural Networks to find out what are the optimal weights that can be used to aggregate different features scores to indicate the importance of sentences in the dataset assigned to your group.\n",
        "\n",
        "The final outcome of this project is to create a Neural Network model with appropriate loss and metric functions that will produce the optimal weights for aggregating various NLP feature scores.\n",
        "\n",
        "**Please follow the instruction to work out this milestone. DO NOT use any ready to use algorithms or libraries for this milestone**"
      ],
      "metadata": {
        "id": "hz_2i7uZoIIb"
      }
    },
    {
      "cell_type": "markdown",
      "metadata": {
        "id": "gliu_55hONBK"
      },
      "source": [
        "**What's in the dataset and which one to use:**  \n",
        "a)   \n",
        "Team #1 please use\n",
        "[BBC News Summary/News Article/tech](https://drive.google.com/drive/folders/1wyTM67xGJwYlmxG33sbgQevUrSM4gZJ5?usp=share_link)\n",
        "\n",
        "Team #2 please use\n",
        "[BBC News Summary/News Article/sport](https://drive.google.com/drive/folders/1Ad8ZuvmVwccPLpuHGQ35TvlPDowf3knb?usp=share_link)\n",
        "\n",
        "\n",
        "Team #3 please use\n",
        "[BBC News Summary/News Article/politics](https://drive.google.com/drive/folders/1mzVdLFmImv86M6tFa03DxrEIelqKIQQU?usp=share_link)\n",
        "\n",
        "\n",
        "Team #4 please use\n",
        "[BBC News Summary/News Article/entertainment](https://drive.google.com/drive/folders/1VJumzOPuIASdNDmbjqoylfNzvVXSAOIB?usp=share_link)\n",
        "\n",
        "Team #5 please use\n",
        "[BBC News Summary/News Article/business](https://drive.google.com/drive/folders/11zVw9d1ewLamBlgPpolf6FBu5onaoAny?usp=share_link)  \n",
        "\n",
        "\n",
        "b) Each dataset has around four to five hundred  news articles of BBC from 2004 to 2005. The first clause of the text of articles is the respective title.\n",
        "\n",
        "\n",
        "\n",
        "c) There may be unwanted words or characters in the datasets.\n",
        "\n",
        "d) Try to retain the original information provided in the dataset. Try not to change or delete any part of the given dataset unless it is absolutely necessary.\n",
        "\n",
        "e) You must use this template to add your code and comments when you submit your team project results in the form of another Colab.\n",
        "\n",
        "f) The summary section can be found udner BBC News Summary/Summaries/xxx, where xxx is your assigned data domain\n"
      ]
    },
    {
      "cell_type": "markdown",
      "source": [
        "#### Essential info\n",
        "- Which features are the key determining factors in deciding the representative summary statement: ???? (how and why)\n",
        "- Bonus part(s): ??? and collaboratively done by which team memeber(s)(if any)\n",
        "- Additional notes (if any): ???"
      ],
      "metadata": {
        "id": "qHF_EvB1ok5g"
      }
    },
    {
      "cell_type": "markdown",
      "source": [
        "### Who did what\n",
        "| What            | Description | By |\n",
        "| ----------- | -----------       | ----------- |\n",
        "| Data preparation| Examine the data and peroform data cleansing |  Nitin,summanth|\n",
        "| Define Metric and Loss function  | Define Metric and Loss function    | Nitin, Shruti, Summanth |\n",
        "| Build Keras NN   | Creating network architecture      | Nitin |\n",
        "| Training Model   | Training model     | Yosha |\n",
        "| Post processing   | Collecting weights and averaging them based on every epoch    | Nitin |\n",
        "| Plotting weights   | Plotting all weights in single plot  | Shruti |\n",
        "| Repeating process 10 times | Repeating process 10 times  | Nitin |\n",
        "| Conclusive weights   | Conclusion on which weights are important  | Michael|\n",
        "| Classification Report  | Testing on test set and generating classification report  | Nitin |\n",
        "| Grid Search CV   | Testing different hyperparameters  | Michael |\n",
        "| Bonus Item B1 - TextRank | Implementing TextRank  | Shruti |\n",
        "| Bonus Item B4 - ROUGE | Implementing ROUGE  | Shruti |"
      ],
      "metadata": {
        "id": "UxYinv6eomTw"
      }
    },
    {
      "cell_type": "markdown",
      "source": [
        "### Link to your online discussion forum for this project: [discussion link](https://trello.com/invite/b/wmG1hjf0/ATTIdb70555ac40a55574b36a1982971712f0BB346CF/cs256-project) (*replace it with your own link*)"
      ],
      "metadata": {
        "id": "zUwcYcxJoriY"
      }
    },
    {
      "cell_type": "markdown",
      "source": [
        "## We are working on <font color= red>tech topic</font> !"
      ],
      "metadata": {
        "id": "CTKBJl9Oos6q"
      }
    },
    {
      "cell_type": "markdown",
      "source": [
        "**What's in the dataset and which one to use:**  \n",
        "a)   \n",
        "Team #1 please use\n",
        "[BBC News Summary/News Article/tech](https://drive.google.com/drive/folders/1wyTM67xGJwYlmxG33sbgQevUrSM4gZJ5?usp=share_link)\n",
        "\n",
        "Team #2 please use\n",
        "[BBC News Summary/News Article/sport](https://drive.google.com/drive/folders/1Ad8ZuvmVwccPLpuHGQ35TvlPDowf3knb?usp=share_link)\n",
        "\n",
        "\n",
        "Team #3 please use\n",
        "[BBC News Summary/News Article/politics](https://drive.google.com/drive/folders/1mzVdLFmImv86M6tFa03DxrEIelqKIQQU?usp=share_link)\n",
        "\n",
        "\n",
        "Team #4 please use\n",
        "[BBC News Summary/News Article/entertainment](https://drive.google.com/drive/folders/1VJumzOPuIASdNDmbjqoylfNzvVXSAOIB?usp=share_link)\n",
        "\n",
        "Team #5 please use\n",
        "[BBC News Summary/News Article/business](https://drive.google.com/drive/folders/11zVw9d1ewLamBlgPpolf6FBu5onaoAny?usp=share_link)  \n",
        "\n",
        "\n",
        "b) Each dataset has around four to five hundred  news articles of BBC from 2004 to 2005. The first clause of the text of articles is the respective title.\n",
        "\n",
        "\n",
        "\n",
        "c) There may be unwanted words or characters in the datasets.\n",
        "\n",
        "d) Try to retain the original information provided in the dataset. Try not to change or delete any part of the given dataset unless it is absolutely necessary.\n",
        "\n",
        "e) You must use this template to add your code and comments when you submit your team project results in the form of another Colab.\n",
        "\n",
        "f) The summary section can be found udner BBC News Summary/Summaries/xxx, where xxx is your assigned data domain\n"
      ],
      "metadata": {
        "id": "zJ0pafWWo01B"
      }
    },
    {
      "cell_type": "markdown",
      "source": [
        "Please make sure\n",
        "- Provide <font color= red>clear and explicit explanation</font> on the process and results in your work\n",
        "- <font color= red>No ad hoc manual methodology</font> should be used in any task below.\n",
        "- Provide <font color= red>generic solution</font> that is not specific/valid to your data file only\n",
        "- Comments, in Markdown cells, should be added wherever appropriate\n",
        "- Always use charts, figures, or other visual formats to present your results\n",
        "- Copy and rename this file as teamXfinalproject.ipynb in your submission\n",
        "- Your <font color= red>submitted Colab</font> can be <font color= red>run</font> from the beginning to the end <font color= red>without any error</font> ( you may opt for a different Colab file to showcase your bonus parts).\n",
        "\n"
      ],
      "metadata": {
        "id": "deKa9XEoo4YX"
      }
    },
    {
      "cell_type": "markdown",
      "source": [
        "## Main tasks\n"
      ],
      "metadata": {
        "id": "efaIkcBqzPhr"
      }
    },
    {
      "cell_type": "markdown",
      "source": [
        "---\n",
        "**Remember to use Markdown cells to describe your work**   \n",
        "*Do not simply use #s in your code cells for commemnt description*"
      ],
      "metadata": {
        "id": "cN7unhSRk4LC"
      }
    },
    {
      "cell_type": "markdown",
      "source": [
        "## Project Result Outline\n",
        "- [How many txt files assigned to you (2%)](#how_many_data)\n",
        "\n",
        "- [Tokenize with TFIDF (5%)](#tokenize)\n",
        "- [Show stop words (5%)](#stopwords)\n",
        "\n",
        "- [Features (30%)](#features)\n",
        "\t- [Title (5%)](#title)\n",
        "\t- [Sentence Length (5%)](#sentencelength)\n",
        "\t- [Sentence position (5%) ](#position)\n",
        "  - [Term Weight (5%)](#termweight)\n",
        "\t- [Proper Noun (5%)](#propernoun)\n",
        "\t- [Numerical Data (5%) ](#numerical)\n",
        "                                     \n",
        "- [Combining features (5%)](#combine)\n",
        "\n",
        "- [Validation (5%)](#validation)\n",
        "- [Experimenting with stopwords, lemmatization, and stemming (5%)](#experiment)\n",
        "\n",
        "- [Making sure sentences are properly separated (3%) ](#separation)  \n",
        "- [Extract sentences from the news articles and summaries (5%) ](#extraction)\n",
        "- [Tokenize extracted sentences (5%) ](#tokenize_extraction)\n",
        "- [Defining metric and loss function (5%) ](#metric)\n",
        "  - [Neural Netwrokds with customized metric function (5%) ](#keras)\n",
        "  - [Training Neural Netwrokds (5%) ](#training)\n",
        "  - [Weights profile (5%) ](#weight_plots)\n",
        "  - [Conclusive weights  (5%) ](#weight_plots)\n",
        "- [GridSearch Hyperparameters (8%) ](#grid)\n",
        "\n",
        "---\n",
        "- [Bonus item B1: TextRank (+13%)](#textrank)\n",
        "\n",
        "- [Bonus item B2: TFHub (+12%)](#tfhub)\n",
        "\n",
        "- [Bonus item B3: Additional features (+15%)](#additional)\n",
        "\n",
        "- [Bonus item B4: ROUGE (+15%)](#rouge)\n",
        "\n",
        "---\n",
        "- [Additional related results not shown above](#additional_results)"
      ],
      "metadata": {
        "id": "fmEQizdCBq95"
      }
    },
    {
      "cell_type": "markdown",
      "metadata": {
        "id": "08quaphDONBR"
      },
      "source": [
        "**Load packages:**"
      ]
    },
    {
      "cell_type": "code",
      "execution_count": null,
      "metadata": {
        "collapsed": true,
        "id": "WlSVt4OYP2ri"
      },
      "outputs": [],
      "source": [
        "import pandas as pd\n",
        "import numpy as np\n",
        "import scipy as sp\n",
        "from sklearn.model_selection import train_test_split\n",
        "from sklearn.feature_extraction.text import CountVectorizer, TfidfVectorizer\n",
        "from sklearn.naive_bayes import MultinomialNB         # Naive Bayes\n",
        "from sklearn.linear_model import LogisticRegression\n",
        "from sklearn import metrics\n",
        "from textblob import TextBlob, Word\n",
        "from nltk.stem.snowball import SnowballStemmer\n",
        "\n",
        "%matplotlib inline\n",
        "import matplotlib.pyplot as plt"
      ]
    },
    {
      "cell_type": "code",
      "source": [
        "import tensorflow as tf\n",
        "tf.config.list_physical_devices('GPU')"
      ],
      "metadata": {
        "colab": {
          "base_uri": "https://localhost:8080/"
        },
        "id": "DkpQ1r07LrsY",
        "outputId": "b4aee127-277a-4481-9fed-8d891d576401"
      },
      "execution_count": null,
      "outputs": [
        {
          "output_type": "execute_result",
          "data": {
            "text/plain": [
              "[PhysicalDevice(name='/physical_device:GPU:0', device_type='GPU')]"
            ]
          },
          "metadata": {},
          "execution_count": 2
        }
      ]
    },
    {
      "cell_type": "markdown",
      "metadata": {
        "id": "HsI1G36HHj27"
      },
      "source": [
        "## Get a copy of the data to your own Google drive\n",
        "Step 1. Use [this chrome app](https://script.google.com/macros/s/AKfycbxbGNGajrxv-HbX2sVY2OTu7yj9VvxlOMOeQblZFuq7rYm7uyo/exec) to copy the[ BBC News Summary](https://drive.google.com/drive/folders/1ZryN8xuRFi0LNYPS1zfZ43RsuW0L6lij?usp=share_link) folder that I shared with you to your own drive.  \n",
        "Step 2. Put the copied folder in the exact path under your Google drive, i.e., ``` /content/drive/MyDrive/sharedata/BBC News Summary ```, so you collaborate with your team members and get graded subsequently.   \n",
        "\n",
        "Step 3. <font color =red>0 project score </font> will be given for <font color =red>not following this folder configuration</font> in step 2.\n",
        "(Our grader is not reponsible to figure out your own perferred Google folder configuration)"
      ]
    },
    {
      "cell_type": "code",
      "metadata": {
        "colab": {
          "base_uri": "https://localhost:8080/"
        },
        "id": "uxY-BsXTGEUi",
        "outputId": "cb66263c-5825-420f-e8a0-8460946a6070"
      },
      "source": [
        "from google.colab import drive\n",
        "drive.mount('/content/drive')"
      ],
      "execution_count": null,
      "outputs": [
        {
          "output_type": "stream",
          "name": "stdout",
          "text": [
            "Mounted at /content/drive\n"
          ]
        }
      ]
    },
    {
      "cell_type": "code",
      "metadata": {
        "id": "1WbzJM4cYp1I",
        "colab": {
          "base_uri": "https://localhost:8080/"
        },
        "outputId": "93fa7b09-fbd4-4c13-ef56-09decae5a31a"
      },
      "source": [
        "#1 Mount the Google drive in preparation for data access\n",
        "!pip install -U path.py\n",
        "import numpy as np\n",
        "import pandas as pd\n",
        "import os\n",
        "from path import Path\n",
        "# from google.colab import drive\n",
        "# drive.mount('/content/drive')"
      ],
      "execution_count": null,
      "outputs": [
        {
          "output_type": "stream",
          "name": "stdout",
          "text": [
            "Looking in indexes: https://pypi.org/simple, https://us-python.pkg.dev/colab-wheels/public/simple/\n",
            "Collecting path.py\n",
            "  Downloading path.py-12.5.0-py3-none-any.whl (2.3 kB)\n",
            "Collecting path\n",
            "  Downloading path-16.6.0-py3-none-any.whl (26 kB)\n",
            "Installing collected packages: path, path.py\n",
            "Successfully installed path-16.6.0 path.py-12.5.0\n"
          ]
        }
      ]
    },
    {
      "cell_type": "markdown",
      "metadata": {
        "id": "x22diyVvONBc"
      },
      "source": [
        "<a id='load_data'></a>\n",
        "\n",
        "### Load the data\n",
        "\n",
        "---\n",
        "\n",
        "Import the assinged data into a pandas DataFrame.\n",
        "(Extend the code below to access other files under your assigned folder)"
      ]
    },
    {
      "cell_type": "code",
      "execution_count": null,
      "metadata": {
        "colab": {
          "base_uri": "https://localhost:8080/"
        },
        "id": "SspQNeroZ9Mk",
        "outputId": "d66f3728-ced0-4fe0-ae23-ef304c43e2bc"
      },
      "outputs": [
        {
          "output_type": "stream",
          "name": "stdout",
          "text": [
            "Looking in indexes: https://pypi.org/simple, https://us-python.pkg.dev/colab-wheels/public/simple/\n",
            "Requirement already satisfied: path.py in /usr/local/lib/python3.8/dist-packages (12.5.0)\n",
            "Requirement already satisfied: path in /usr/local/lib/python3.8/dist-packages (from path.py) (16.6.0)\n"
          ]
        },
        {
          "output_type": "stream",
          "name": "stderr",
          "text": [
            "[nltk_data] Downloading package punkt to /root/nltk_data...\n",
            "[nltk_data]   Unzipping tokenizers/punkt.zip.\n"
          ]
        },
        {
          "output_type": "execute_result",
          "data": {
            "text/plain": [
              "True"
            ]
          },
          "metadata": {},
          "execution_count": 4
        }
      ],
      "source": [
        "import nltk.data\n",
        "!pip install -U path.py\n",
        "import numpy as np\n",
        "import pandas as pd\n",
        "import os\n",
        "from path import Path\n",
        "nltk.download('punkt')\n"
      ]
    },
    {
      "cell_type": "markdown",
      "source": [
        "### Get all the articles from your assigned domain"
      ],
      "metadata": {
        "id": "7pXvcl56FBlj"
      }
    },
    {
      "cell_type": "code",
      "metadata": {
        "id": "ubjxW9IrYrMG",
        "colab": {
          "base_uri": "https://localhost:8080/"
        },
        "outputId": "b2bfba66-3ba0-4fae-a175-6d4a645059ea"
      },
      "source": [
        "documents = []\n",
        "documents_dir = Path('/content/drive/MyDrive/sharedata/BBC News Summary/News Articles/tech')\n",
        "tokenizer = nltk.data.load('tokenizers/punkt/english.pickle')\n",
        "for i in range(len(os.listdir(documents_dir))):\n",
        "  for file_path in documents_dir.files(f'{i:03d}'+'.txt'):\n",
        "    with file_path.open(mode='rt', encoding='utf-8') as fp:\n",
        "        lines = fp.read()\n",
        "        documents.append(tokenizer.tokenize(lines))\n",
        "len(documents)"
      ],
      "execution_count": null,
      "outputs": [
        {
          "output_type": "execute_result",
          "data": {
            "text/plain": [
              "400"
            ]
          },
          "metadata": {},
          "execution_count": 6
        }
      ]
    },
    {
      "cell_type": "markdown",
      "source": [
        "### Show what the first txt file looks like"
      ],
      "metadata": {
        "id": "kty3d-NnB2ZR"
      }
    },
    {
      "cell_type": "code",
      "source": [
        "documents[0]"
      ],
      "metadata": {
        "id": "KLOAOZSAB3L-",
        "colab": {
          "base_uri": "https://localhost:8080/"
        },
        "outputId": "7f106365-bd72-459e-e4c8-169bc65b2e8d"
      },
      "execution_count": null,
      "outputs": [
        {
          "output_type": "execute_result",
          "data": {
            "text/plain": [
              "[\"Ink helps drive democracy in Asia\\n\\nThe Kyrgyz Republic, a small, mountainous state of the former Soviet republic, is using invisible ink and ultraviolet readers in the country's elections as part of a drive to prevent multiple voting.\",\n",
              " 'This new technology is causing both worries and guarded optimism among different sectors of the population.',\n",
              " 'In an effort to live up to its reputation in the 1990s as \"an island of democracy\", the Kyrgyz President, Askar Akaev, pushed through the law requiring the use of ink during the upcoming Parliamentary and Presidential elections.',\n",
              " 'The US government agreed to fund all expenses associated with this decision.',\n",
              " 'The Kyrgyz Republic is seen by many experts as backsliding from the high point it reached in the mid-1990s with a hastily pushed through referendum in 2003, reducing the legislative branch to one chamber with 75 deputies.',\n",
              " 'The use of ink is only one part of a general effort to show commitment towards more open elections - the German Embassy, the Soros Foundation and the Kyrgyz government have all contributed to purchase transparent ballot boxes.',\n",
              " 'The actual technology behind the ink is not that complicated.',\n",
              " \"The ink is sprayed on a person's left thumb.\",\n",
              " 'It dries and is not visible under normal light.',\n",
              " 'However, the presence of ultraviolet light (of the kind used to verify money) causes the ink to glow with a neon yellow light.',\n",
              " \"At the entrance to each polling station, one election official will scan voter's fingers with UV lamp before allowing them to enter, and every voter will have his/her left thumb sprayed with ink before receiving the ballot.\",\n",
              " 'If the ink shows under the UV light the voter will not be allowed to enter the polling station.',\n",
              " 'Likewise, any voter who refuses to be inked will not receive the ballot.',\n",
              " 'These elections are assuming even greater significance because of two large factors - the upcoming parliamentary elections are a prelude to a potentially regime changing presidential election in the Autumn as well as the echo of recent elections in other former Soviet Republics, notably Ukraine and Georgia.',\n",
              " 'The use of ink has been controversial - especially among groups perceived to be pro-government.',\n",
              " 'Widely circulated articles compared the use of ink to the rural practice of marking sheep - a still common metaphor in this primarily agricultural society.',\n",
              " 'The author of one such article began a petition drive against the use of the ink.',\n",
              " 'The greatest part of the opposition to ink has often been sheer ignorance.',\n",
              " 'Local newspapers have carried stories that the ink is harmful, radioactive or even that the ultraviolet readers may cause health problems.',\n",
              " 'Others, such as the aggressively middle of the road, Coalition of Non-governmental Organizations, have lauded the move as an important step forward.',\n",
              " 'This type of ink has been used in many elections in the world, in countries as varied as Serbia, South Africa, Indonesia and Turkey.',\n",
              " 'The other common type of ink in elections is indelible visible ink - but as the elections in Afghanistan showed, improper use of this type of ink can cause additional problems.',\n",
              " 'The use of \"invisible\" ink is not without its own problems.',\n",
              " 'In most elections, numerous rumors have spread about it.',\n",
              " 'In Serbia, for example, both Christian and Islamic leaders assured their populations that its use was not contrary to religion.',\n",
              " 'Other rumours are associated with how to remove the ink - various soft drinks, solvents and cleaning products are put forward.',\n",
              " 'However, in reality, the ink is very effective at getting under the cuticle of the thumb and difficult to wash off.',\n",
              " 'The ink stays on the finger for at least 72 hours and for up to a week.',\n",
              " 'The use of ink and readers by itself is not a panacea for election ills.',\n",
              " 'The passage of the inking law is, nevertheless, a clear step forward towards free and fair elections.\"',\n",
              " \"The country's widely watched parliamentary elections are scheduled for 27 February.\",\n",
              " 'David Mikosz works for the IFES, an international, non-profit organisation that supports the building of democratic societies.']"
            ]
          },
          "metadata": {},
          "execution_count": 7
        }
      ]
    },
    {
      "cell_type": "markdown",
      "source": [
        "<a name='how_many_data'></a>\n",
        "### How many txt files are under your assigned folder?"
      ],
      "metadata": {
        "id": "v0mt_8D0B4o4"
      }
    },
    {
      "cell_type": "code",
      "source": [
        "print('There are {} text files under my assigned folder'.format(len(documents)))"
      ],
      "metadata": {
        "id": "ajxTY3fjB6c_",
        "colab": {
          "base_uri": "https://localhost:8080/"
        },
        "outputId": "da95c259-eda5-45e5-a0fc-18ea4d3102ed"
      },
      "execution_count": null,
      "outputs": [
        {
          "output_type": "stream",
          "name": "stdout",
          "text": [
            "There are 400 text files under my assigned folder\n"
          ]
        }
      ]
    },
    {
      "cell_type": "markdown",
      "source": [
        "<a name='tokenize'></a>\n",
        "\n",
        "### Tokenize all sentences in the give survey dataset with TFIDF.\n",
        "\n",
        "- Start with default parameters.\n",
        "- How many rows and columns are there in the resultant vectorized dataframe.\n"
      ],
      "metadata": {
        "id": "eRkwHzOSB-kQ"
      }
    },
    {
      "cell_type": "code",
      "source": [
        "list1 = []\n",
        "for x in documents:\n",
        "  for y in x:\n",
        "    list1.append(y)"
      ],
      "metadata": {
        "id": "Pf47oFzGB_Pa"
      },
      "execution_count": null,
      "outputs": []
    },
    {
      "cell_type": "code",
      "source": [
        "tfidf = TfidfVectorizer()\n",
        "\n",
        "feature_matrix = tfidf.fit_transform(list1)\n",
        "feature_names = tfidf.get_feature_names()"
      ],
      "metadata": {
        "id": "2KlroJzuCcgu",
        "colab": {
          "base_uri": "https://localhost:8080/"
        },
        "outputId": "e98a9f67-098a-4b62-ef20-d594e2429a23"
      },
      "execution_count": null,
      "outputs": [
        {
          "output_type": "stream",
          "name": "stderr",
          "text": [
            "/usr/local/lib/python3.8/dist-packages/sklearn/utils/deprecation.py:87: FutureWarning: Function get_feature_names is deprecated; get_feature_names is deprecated in 1.0 and will be removed in 1.2. Please use get_feature_names_out instead.\n",
            "  warnings.warn(msg, category=FutureWarning)\n"
          ]
        }
      ]
    },
    {
      "cell_type": "code",
      "source": [
        "df = pd.DataFrame(feature_matrix.toarray(), columns= feature_names)"
      ],
      "metadata": {
        "id": "jTwlF_gtCfbp"
      },
      "execution_count": null,
      "outputs": []
    },
    {
      "cell_type": "code",
      "source": [
        "df.shape"
      ],
      "metadata": {
        "id": "MKmgvDkBCmH5",
        "colab": {
          "base_uri": "https://localhost:8080/"
        },
        "outputId": "ea601d9b-a71d-4797-c21a-950890f13b21"
      },
      "execution_count": null,
      "outputs": [
        {
          "output_type": "execute_result",
          "data": {
            "text/plain": [
              "(9505, 11948)"
            ]
          },
          "metadata": {},
          "execution_count": 12
        }
      ]
    },
    {
      "cell_type": "code",
      "source": [
        "df.head()"
      ],
      "metadata": {
        "id": "We6poeirCoOg",
        "colab": {
          "base_uri": "https://localhost:8080/",
          "height": 236
        },
        "outputId": "1cd4786b-05f6-4534-cef1-bdfe6866093c"
      },
      "execution_count": null,
      "outputs": [
        {
          "output_type": "execute_result",
          "data": {
            "text/plain": [
              "    00  000  000s  0051  007   01  028  04m   05  0530  ...  zip  zodiac  \\\n",
              "0  0.0  0.0   0.0   0.0  0.0  0.0  0.0  0.0  0.0   0.0  ...  0.0     0.0   \n",
              "1  0.0  0.0   0.0   0.0  0.0  0.0  0.0  0.0  0.0   0.0  ...  0.0     0.0   \n",
              "2  0.0  0.0   0.0   0.0  0.0  0.0  0.0  0.0  0.0   0.0  ...  0.0     0.0   \n",
              "3  0.0  0.0   0.0   0.0  0.0  0.0  0.0  0.0  0.0   0.0  ...  0.0     0.0   \n",
              "4  0.0  0.0   0.0   0.0  0.0  0.0  0.0  0.0  0.0   0.0  ...  0.0     0.0   \n",
              "\n",
              "   zombie  zombies  zone  zonealarm  zones  zoom  zooms  zurich  \n",
              "0     0.0      0.0   0.0        0.0    0.0   0.0    0.0     0.0  \n",
              "1     0.0      0.0   0.0        0.0    0.0   0.0    0.0     0.0  \n",
              "2     0.0      0.0   0.0        0.0    0.0   0.0    0.0     0.0  \n",
              "3     0.0      0.0   0.0        0.0    0.0   0.0    0.0     0.0  \n",
              "4     0.0      0.0   0.0        0.0    0.0   0.0    0.0     0.0  \n",
              "\n",
              "[5 rows x 11948 columns]"
            ],
            "text/html": [
              "\n",
              "  <div id=\"df-70241979-2a8d-40d7-952d-d1104fc006e5\">\n",
              "    <div class=\"colab-df-container\">\n",
              "      <div>\n",
              "<style scoped>\n",
              "    .dataframe tbody tr th:only-of-type {\n",
              "        vertical-align: middle;\n",
              "    }\n",
              "\n",
              "    .dataframe tbody tr th {\n",
              "        vertical-align: top;\n",
              "    }\n",
              "\n",
              "    .dataframe thead th {\n",
              "        text-align: right;\n",
              "    }\n",
              "</style>\n",
              "<table border=\"1\" class=\"dataframe\">\n",
              "  <thead>\n",
              "    <tr style=\"text-align: right;\">\n",
              "      <th></th>\n",
              "      <th>00</th>\n",
              "      <th>000</th>\n",
              "      <th>000s</th>\n",
              "      <th>0051</th>\n",
              "      <th>007</th>\n",
              "      <th>01</th>\n",
              "      <th>028</th>\n",
              "      <th>04m</th>\n",
              "      <th>05</th>\n",
              "      <th>0530</th>\n",
              "      <th>...</th>\n",
              "      <th>zip</th>\n",
              "      <th>zodiac</th>\n",
              "      <th>zombie</th>\n",
              "      <th>zombies</th>\n",
              "      <th>zone</th>\n",
              "      <th>zonealarm</th>\n",
              "      <th>zones</th>\n",
              "      <th>zoom</th>\n",
              "      <th>zooms</th>\n",
              "      <th>zurich</th>\n",
              "    </tr>\n",
              "  </thead>\n",
              "  <tbody>\n",
              "    <tr>\n",
              "      <th>0</th>\n",
              "      <td>0.0</td>\n",
              "      <td>0.0</td>\n",
              "      <td>0.0</td>\n",
              "      <td>0.0</td>\n",
              "      <td>0.0</td>\n",
              "      <td>0.0</td>\n",
              "      <td>0.0</td>\n",
              "      <td>0.0</td>\n",
              "      <td>0.0</td>\n",
              "      <td>0.0</td>\n",
              "      <td>...</td>\n",
              "      <td>0.0</td>\n",
              "      <td>0.0</td>\n",
              "      <td>0.0</td>\n",
              "      <td>0.0</td>\n",
              "      <td>0.0</td>\n",
              "      <td>0.0</td>\n",
              "      <td>0.0</td>\n",
              "      <td>0.0</td>\n",
              "      <td>0.0</td>\n",
              "      <td>0.0</td>\n",
              "    </tr>\n",
              "    <tr>\n",
              "      <th>1</th>\n",
              "      <td>0.0</td>\n",
              "      <td>0.0</td>\n",
              "      <td>0.0</td>\n",
              "      <td>0.0</td>\n",
              "      <td>0.0</td>\n",
              "      <td>0.0</td>\n",
              "      <td>0.0</td>\n",
              "      <td>0.0</td>\n",
              "      <td>0.0</td>\n",
              "      <td>0.0</td>\n",
              "      <td>...</td>\n",
              "      <td>0.0</td>\n",
              "      <td>0.0</td>\n",
              "      <td>0.0</td>\n",
              "      <td>0.0</td>\n",
              "      <td>0.0</td>\n",
              "      <td>0.0</td>\n",
              "      <td>0.0</td>\n",
              "      <td>0.0</td>\n",
              "      <td>0.0</td>\n",
              "      <td>0.0</td>\n",
              "    </tr>\n",
              "    <tr>\n",
              "      <th>2</th>\n",
              "      <td>0.0</td>\n",
              "      <td>0.0</td>\n",
              "      <td>0.0</td>\n",
              "      <td>0.0</td>\n",
              "      <td>0.0</td>\n",
              "      <td>0.0</td>\n",
              "      <td>0.0</td>\n",
              "      <td>0.0</td>\n",
              "      <td>0.0</td>\n",
              "      <td>0.0</td>\n",
              "      <td>...</td>\n",
              "      <td>0.0</td>\n",
              "      <td>0.0</td>\n",
              "      <td>0.0</td>\n",
              "      <td>0.0</td>\n",
              "      <td>0.0</td>\n",
              "      <td>0.0</td>\n",
              "      <td>0.0</td>\n",
              "      <td>0.0</td>\n",
              "      <td>0.0</td>\n",
              "      <td>0.0</td>\n",
              "    </tr>\n",
              "    <tr>\n",
              "      <th>3</th>\n",
              "      <td>0.0</td>\n",
              "      <td>0.0</td>\n",
              "      <td>0.0</td>\n",
              "      <td>0.0</td>\n",
              "      <td>0.0</td>\n",
              "      <td>0.0</td>\n",
              "      <td>0.0</td>\n",
              "      <td>0.0</td>\n",
              "      <td>0.0</td>\n",
              "      <td>0.0</td>\n",
              "      <td>...</td>\n",
              "      <td>0.0</td>\n",
              "      <td>0.0</td>\n",
              "      <td>0.0</td>\n",
              "      <td>0.0</td>\n",
              "      <td>0.0</td>\n",
              "      <td>0.0</td>\n",
              "      <td>0.0</td>\n",
              "      <td>0.0</td>\n",
              "      <td>0.0</td>\n",
              "      <td>0.0</td>\n",
              "    </tr>\n",
              "    <tr>\n",
              "      <th>4</th>\n",
              "      <td>0.0</td>\n",
              "      <td>0.0</td>\n",
              "      <td>0.0</td>\n",
              "      <td>0.0</td>\n",
              "      <td>0.0</td>\n",
              "      <td>0.0</td>\n",
              "      <td>0.0</td>\n",
              "      <td>0.0</td>\n",
              "      <td>0.0</td>\n",
              "      <td>0.0</td>\n",
              "      <td>...</td>\n",
              "      <td>0.0</td>\n",
              "      <td>0.0</td>\n",
              "      <td>0.0</td>\n",
              "      <td>0.0</td>\n",
              "      <td>0.0</td>\n",
              "      <td>0.0</td>\n",
              "      <td>0.0</td>\n",
              "      <td>0.0</td>\n",
              "      <td>0.0</td>\n",
              "      <td>0.0</td>\n",
              "    </tr>\n",
              "  </tbody>\n",
              "</table>\n",
              "<p>5 rows × 11948 columns</p>\n",
              "</div>\n",
              "      <button class=\"colab-df-convert\" onclick=\"convertToInteractive('df-70241979-2a8d-40d7-952d-d1104fc006e5')\"\n",
              "              title=\"Convert this dataframe to an interactive table.\"\n",
              "              style=\"display:none;\">\n",
              "        \n",
              "  <svg xmlns=\"http://www.w3.org/2000/svg\" height=\"24px\"viewBox=\"0 0 24 24\"\n",
              "       width=\"24px\">\n",
              "    <path d=\"M0 0h24v24H0V0z\" fill=\"none\"/>\n",
              "    <path d=\"M18.56 5.44l.94 2.06.94-2.06 2.06-.94-2.06-.94-.94-2.06-.94 2.06-2.06.94zm-11 1L8.5 8.5l.94-2.06 2.06-.94-2.06-.94L8.5 2.5l-.94 2.06-2.06.94zm10 10l.94 2.06.94-2.06 2.06-.94-2.06-.94-.94-2.06-.94 2.06-2.06.94z\"/><path d=\"M17.41 7.96l-1.37-1.37c-.4-.4-.92-.59-1.43-.59-.52 0-1.04.2-1.43.59L10.3 9.45l-7.72 7.72c-.78.78-.78 2.05 0 2.83L4 21.41c.39.39.9.59 1.41.59.51 0 1.02-.2 1.41-.59l7.78-7.78 2.81-2.81c.8-.78.8-2.07 0-2.86zM5.41 20L4 18.59l7.72-7.72 1.47 1.35L5.41 20z\"/>\n",
              "  </svg>\n",
              "      </button>\n",
              "      \n",
              "  <style>\n",
              "    .colab-df-container {\n",
              "      display:flex;\n",
              "      flex-wrap:wrap;\n",
              "      gap: 12px;\n",
              "    }\n",
              "\n",
              "    .colab-df-convert {\n",
              "      background-color: #E8F0FE;\n",
              "      border: none;\n",
              "      border-radius: 50%;\n",
              "      cursor: pointer;\n",
              "      display: none;\n",
              "      fill: #1967D2;\n",
              "      height: 32px;\n",
              "      padding: 0 0 0 0;\n",
              "      width: 32px;\n",
              "    }\n",
              "\n",
              "    .colab-df-convert:hover {\n",
              "      background-color: #E2EBFA;\n",
              "      box-shadow: 0px 1px 2px rgba(60, 64, 67, 0.3), 0px 1px 3px 1px rgba(60, 64, 67, 0.15);\n",
              "      fill: #174EA6;\n",
              "    }\n",
              "\n",
              "    [theme=dark] .colab-df-convert {\n",
              "      background-color: #3B4455;\n",
              "      fill: #D2E3FC;\n",
              "    }\n",
              "\n",
              "    [theme=dark] .colab-df-convert:hover {\n",
              "      background-color: #434B5C;\n",
              "      box-shadow: 0px 1px 3px 1px rgba(0, 0, 0, 0.15);\n",
              "      filter: drop-shadow(0px 1px 2px rgba(0, 0, 0, 0.3));\n",
              "      fill: #FFFFFF;\n",
              "    }\n",
              "  </style>\n",
              "\n",
              "      <script>\n",
              "        const buttonEl =\n",
              "          document.querySelector('#df-70241979-2a8d-40d7-952d-d1104fc006e5 button.colab-df-convert');\n",
              "        buttonEl.style.display =\n",
              "          google.colab.kernel.accessAllowed ? 'block' : 'none';\n",
              "\n",
              "        async function convertToInteractive(key) {\n",
              "          const element = document.querySelector('#df-70241979-2a8d-40d7-952d-d1104fc006e5');\n",
              "          const dataTable =\n",
              "            await google.colab.kernel.invokeFunction('convertToInteractive',\n",
              "                                                     [key], {});\n",
              "          if (!dataTable) return;\n",
              "\n",
              "          const docLinkHtml = 'Like what you see? Visit the ' +\n",
              "            '<a target=\"_blank\" href=https://colab.research.google.com/notebooks/data_table.ipynb>data table notebook</a>'\n",
              "            + ' to learn more about interactive tables.';\n",
              "          element.innerHTML = '';\n",
              "          dataTable['output_type'] = 'display_data';\n",
              "          await google.colab.output.renderOutput(dataTable, element);\n",
              "          const docLink = document.createElement('div');\n",
              "          docLink.innerHTML = docLinkHtml;\n",
              "          element.appendChild(docLink);\n",
              "        }\n",
              "      </script>\n",
              "    </div>\n",
              "  </div>\n",
              "  "
            ]
          },
          "metadata": {},
          "execution_count": 13
        }
      ]
    },
    {
      "cell_type": "markdown",
      "source": [
        "<a name='stopwords'></a>\n",
        "\n",
        "###Show the top words\n",
        "\n",
        "- Visualize them with a bar chart with frequency in y axis and words in the x-axis\n",
        "- You may selectively choose top words as the stop words for your processing needs"
      ],
      "metadata": {
        "id": "Tj-_59xKCuhC"
      }
    },
    {
      "cell_type": "code",
      "source": [
        "scores = zip(tfidf.get_feature_names(),\n",
        "np.asarray(feature_matrix.sum(axis=0)).ravel())\n",
        "sorted_scores = sorted(scores, key=lambda x: x[1], reverse=True)\n"
      ],
      "metadata": {
        "id": "I-RYHCf-C5Ut"
      },
      "execution_count": null,
      "outputs": []
    },
    {
      "cell_type": "code",
      "source": [
        "fig = plt.figure(figsize = (20, 9))\n",
        "for x ,y in sorted_scores[:20]:\n",
        "  plt.bar(x, y, color ='blue',\n",
        "        width = 0.5)\n",
        "plt.xlabel(\"TOP 20 Words\")\n",
        "plt.ylabel(\"TF-IDF Scores\")\n",
        "plt.title(\"Top words after TF-IDF Vectorization\")\n",
        "plt.show()"
      ],
      "metadata": {
        "id": "XAByKFrdNA_7",
        "colab": {
          "base_uri": "https://localhost:8080/",
          "height": 567
        },
        "outputId": "ebb3f4d0-8a5e-4795-e602-a311fe61c702"
      },
      "execution_count": null,
      "outputs": [
        {
          "output_type": "display_data",
          "data": {
            "text/plain": [
              "<Figure size 1440x648 with 1 Axes>"
            ],
            "image/png": "[encoded data removed]"
          },
          "metadata": {
            "needs_background": "light"
          }
        }
      ]
    },
    {
      "cell_type": "code",
      "source": [
        "fig.savefig('output.png')"
      ],
      "metadata": {
        "id": "Q7nZS7_hNNex"
      },
      "execution_count": null,
      "outputs": []
    },
    {
      "cell_type": "code",
      "source": [
        "#for additional results\n",
        "tfidf1 = TfidfVectorizer(stop_words='english')\n",
        "feature_matrix1 = tfidf1.fit_transform(list1)\n",
        "feature_names1 = tfidf1.get_feature_names()\n",
        "df1 = pd.DataFrame(feature_matrix1.toarray(), columns= feature_names1)\n",
        "scores1 = zip(tfidf1.get_feature_names(),\n",
        "np.asarray(feature_matrix1.sum(axis=0)).ravel())\n",
        "sorted_scores1 = sorted(scores1, key=lambda x: x[1], reverse=True)\n",
        "fig = plt.figure(figsize = (20, 9))\n",
        "for x ,y in sorted_scores1[:10]:\n",
        "  plt.bar(x, y, color ='blue',\n",
        "        width = 0.5)\n",
        "plt.xlabel(\"Words\")\n",
        "plt.ylabel(\"TF-IDF Scores \")\n",
        "plt.title(\"Top words after including stop words(english\")\n",
        "plt.show()"
      ],
      "metadata": {
        "id": "Yq8r-WiDNPHY",
        "colab": {
          "base_uri": "https://localhost:8080/",
          "height": 567
        },
        "outputId": "cf697b86-30c6-4238-dd1d-35c387656870"
      },
      "execution_count": null,
      "outputs": [
        {
          "output_type": "display_data",
          "data": {
            "text/plain": [
              "<Figure size 1440x648 with 1 Axes>"
            ],
            "image/png": "[encoded data removed]"
          },
          "metadata": {
            "needs_background": "light"
          }
        }
      ]
    },
    {
      "cell_type": "code",
      "source": [
        "sorted_scores1[:30]"
      ],
      "metadata": {
        "id": "tGoucjyONTFe",
        "colab": {
          "base_uri": "https://localhost:8080/"
        },
        "outputId": "39b9a1c0-698f-4d21-8326-524a41aac5a2"
      },
      "execution_count": null,
      "outputs": [
        {
          "output_type": "execute_result",
          "data": {
            "text/plain": [
              "[('said', 203.73156862979835),\n",
              " ('people', 146.5425367362758),\n",
              " ('mobile', 92.97952593928778),\n",
              " ('technology', 89.99956432959176),\n",
              " ('mr', 89.6464797456574),\n",
              " ('new', 86.90706671965252),\n",
              " ('users', 75.41792095863867),\n",
              " ('music', 75.41329478886216),\n",
              " ('games', 73.80528518298264),\n",
              " ('use', 73.30043188986551),\n",
              " ('year', 72.6424825002628),\n",
              " ('net', 71.41976511783011),\n",
              " ('software', 70.41541435475636),\n",
              " ('digital', 68.87990379006715),\n",
              " ('phone', 65.07395866438658),\n",
              " ('like', 65.02693841624344),\n",
              " ('make', 64.27152177102546),\n",
              " ('computer', 62.1095130625287),\n",
              " ('uk', 61.62563410554207),\n",
              " ('time', 60.05095021303938),\n",
              " ('service', 59.14716863211695),\n",
              " ('game', 59.09587775672113),\n",
              " ('just', 58.68608577678023),\n",
              " ('world', 58.297100139363984),\n",
              " ('way', 56.589954607175294),\n",
              " ('online', 56.24271207280551),\n",
              " ('used', 56.17332682003477),\n",
              " ('tv', 56.10871328324576),\n",
              " ('million', 55.96079823798683),\n",
              " ('video', 55.87375128624023)]"
            ]
          },
          "metadata": {},
          "execution_count": 25
        }
      ]
    },
    {
      "cell_type": "markdown",
      "source": [
        "### Get the summary for your assigned domain"
      ],
      "metadata": {
        "id": "m8dWe8UdnAri"
      }
    },
    {
      "cell_type": "code",
      "execution_count": null,
      "metadata": {
        "colab": {
          "base_uri": "https://localhost:8080/"
        },
        "id": "Kolq2-etK8qV",
        "outputId": "98f41f44-4940-40b3-e198-942fc75434c6"
      },
      "outputs": [
        {
          "output_type": "execute_result",
          "data": {
            "text/plain": [
              "401"
            ]
          },
          "metadata": {},
          "execution_count": 27
        }
      ],
      "source": [
        "summaries = []\n",
        "summaries_dir = Path('/content/drive/MyDrive/sharedata/BBC News Summary/Summaries/tech')\n",
        "for i in range(len(os.listdir(summaries_dir))+1):\n",
        "  for file_path in summaries_dir.files(f'{i:03d}'+'.txt'):\n",
        "      with file_path.open(mode='rt', encoding='utf-8') as fp:\n",
        "          lines = fp.read()\n",
        "          summaries.append(tokenizer.tokenize(lines))\n",
        "len(summaries)"
      ]
    },
    {
      "cell_type": "markdown",
      "source": [
        "### extract sentences from the news articles and summaries"
      ],
      "metadata": {
        "id": "fQCX_d8OtuGo"
      }
    },
    {
      "cell_type": "code",
      "execution_count": null,
      "metadata": {
        "colab": {
          "base_uri": "https://localhost:8080/"
        },
        "id": "rOOvSqXqmR8N",
        "outputId": "a2583765-c62d-4893-c44a-756a50784497"
      },
      "outputs": [
        {
          "output_type": "stream",
          "name": "stdout",
          "text": [
            "9505 877\n",
            "['Ink', 'helps', 'drive', 'democracy', 'in', 'Asia', 'The', 'Kyrgyz', 'Republic,', 'a', 'small,', 'mountainous', 'state', 'of', 'the', 'former', 'Soviet', 'republic,', 'is', 'using', 'invisible', 'ink', 'and', 'ultraviolet', 'readers', 'in', 'the', \"country's\", 'elections', 'as', 'part', 'of', 'a', 'drive', 'to', 'prevent', 'multiple', 'voting.', 'China', 'net', 'cafe', 'culture', 'crackdown', 'Chinese', 'authorities', 'closed', '12,575', 'net', 'cafes', 'in', 'the', 'closing', 'months', 'of', '2004,', 'the', \"country's\", 'government', 'said.', 'Microsoft', 'seeking', 'spyware', 'trojan', 'Microsoft', 'is', 'investigating', 'a', 'trojan', 'program', 'that', 'attempts', 'to', 'switch', 'off', 'the', \"firm's\", 'anti-spyware', 'software.', 'Digital', 'guru', 'floats', 'sub-$100', 'PC', 'Nicholas', 'Negroponte,', 'chairman', 'and', 'founder', 'of', \"MIT's\", 'Media', 'Labs,', 'says', 'he', 'is', 'developing', 'a', 'laptop', 'PC', 'that', 'will', 'go', 'on', 'sale', 'for', 'less', 'than', '$100', '(£53).', 'Technology', 'gets', 'the', 'creative', 'bug', 'The', 'hi-tech', 'and', 'the', 'arts', 'worlds', 'have', 'for', 'some', 'time', 'danced', 'around', 'each', 'other', 'and', 'offered', 'creative', 'and', 'technical', 'help', 'when', 'required.', 'Wi-fi', 'web', 'reaches', 'farmers', 'in', 'Peru', 'A', 'network', 'of', 'community', 'computer', 'centres,', 'linked', 'by', 'wireless', 'technology,', 'is', 'providing', 'a', 'helping', 'hand', 'for', 'poor', 'farmers', 'in', 'Peru.', 'Microsoft', 'releases', 'bumper', 'patches', 'Microsoft', 'has', 'warned', 'PC', 'users', 'to', 'update', 'their', 'systems', 'with', 'the', 'latest', 'security', 'fixes', 'for', 'flaws', 'in', 'Windows', 'programs.', 'Virus', 'poses', 'as', 'Christmas', 'e-mail', 'Security', 'firms', 'are', 'warning', 'about', 'a', 'Windows', 'virus', 'disguising', 'itself', 'as', 'an', 'electronic', 'Christmas', 'card.', 'Apple', 'laptop', 'is', \"'greatest\", \"gadget'\", 'The', 'Apple', 'Powerbook', '100', 'has', 'been', 'chosen', 'as', 'the', 'greatest', 'gadget', 'of', 'all', 'time,', 'by', 'US', 'magazine', 'Mobile', 'PC.', \"Google's\", 'toolbar', 'sparks', 'concern', 'Search', 'engine', 'firm', 'Google', 'has', 'released', 'a', 'trial', 'tool', 'which', 'is', 'concerning', 'some', 'net', 'users', 'because', 'it', 'directs', 'people', 'to', 'pre-selected', 'commercial', 'websites.', 'UK', 'net', 'users', 'leading', 'TV', 'downloads', 'British', 'TV', 'viewers', 'lead', 'the', 'trend', 'of', 'illegally', 'downloading', 'US', 'shows', 'from', 'the', 'net,', 'according', 'to', 'research.', 'IBM', 'puts', 'cash', 'behind', 'Linux', 'push', 'IBM', 'is', 'spending', '$100m', '(£52m)', 'over', 'the', 'next', 'three', 'years', 'beefing', 'up', 'its', 'commitment', 'to', 'Linux', 'software.', 'UK', 'pioneers', 'digital', 'film', 'network', 'The', \"world's\", 'first', 'digital', 'cinema', 'network', 'will', 'be', 'established', 'in', 'the', 'UK', 'over', 'the', 'next', '18', 'months.', 'EU', 'software', 'patent', 'law', 'faces', 'axe', 'The', 'European', 'Parliament', 'has', 'thrown', 'out', 'a', 'bill', 'that', 'would', 'have', 'allowed', 'software', 'to', 'be', 'patented.', 'Xbox', 'power', 'cable', \"'fire\", \"fear'\", 'Microsoft', 'has', 'said', 'it', 'will', 'replace', 'more', 'than', '14', 'million', 'power', 'cables', 'for', 'its', 'Xbox', 'consoles', 'due', 'to', 'safety', 'concerns.', 'Global', 'blogger', 'action', 'day', 'called', 'The', 'global', 'web', 'blog', 'community', 'is', 'being', 'called', 'into', 'action', 'to', 'lend', 'support', 'to', 'two', 'imprisoned', 'Iranian', 'bloggers.', 'Finding', 'new', 'homes', 'for', 'old', 'phones', 'Re-using', 'old', 'mobile', 'phones', 'is', 'not', 'just', 'good', 'for', 'the', 'environment,', 'it', 'has', 'social', 'benefits', 'too.', 'PlayStation', '3', 'chip', 'to', 'be', 'unveiled', 'Details', 'of', 'the', 'chip', 'designed', 'to', 'power', \"Sony's\", 'PlayStation', '3', 'console', 'will', 'be', 'released', 'in', 'San', 'Francisco', 'on', 'Monday.', 'Intel', 'unveils', 'laser', 'breakthrough', 'Intel', 'has', 'unveiled', 'research', 'that', 'could', 'mean', 'data', 'is', 'soon', 'being', 'moved', 'around', 'chips', 'at', 'the', 'speed', 'of', 'light.', 'Security', 'scares', 'spark', 'browser', 'fix', 'Microsoft', 'is', 'working', 'on', 'a', 'new', 'version', 'of', 'its', 'Internet', 'Explorer', 'web', 'browser.', 'Britons', 'fed', 'up', 'with', 'net', 'service', 'A', 'survey', 'conducted', 'by', 'PC', 'Pro', 'Magazine', 'has', 'revealed', 'that', 'many', 'Britons', 'are', 'unhappy', 'with', 'their', 'internet', 'service.', 'Sun', 'offers', 'processing', 'by', 'the', 'hour', 'Sun', 'Microsystems', 'has', 'launched', 'a', 'pay-as-you-go', 'service', 'which', 'will', 'allow', 'customers', 'requiring', 'huge', 'computing', 'power', 'to', 'rent', 'it', 'by', 'the', 'hour.', 'Lasers', 'help', 'bridge', 'network', 'gaps', 'An', 'Indian', 'telecommunications', 'firm', 'has', 'turned', 'to', 'lasers', 'to', 'help', 'it', 'overcome', 'the', 'problems', 'of', 'setting', 'up', 'voice', 'and', 'data', 'networks', 'in', 'the', 'country.', 'Game', 'firm', 'holds', \"'cast'\", 'auditions', 'Video', 'game', 'firm', 'Bioware', 'is', 'to', 'hold', 'open', 'auditions', 'for', 'people', 'to', 'become', 'cast', 'members', 'for', 'future', 'games.', 'Sony', 'PSP', 'console', 'hits', 'US', 'in', 'March', 'US', 'gamers', 'will', 'be', 'able', 'to', 'buy', \"Sony's\", 'PlayStation', 'Portable', 'from', '24', 'March,', 'but', 'there', 'is', 'no', 'news', 'of', 'a', 'Europe', 'debut.', 'Warnings', 'about', 'junk', 'mail', 'deluge', 'The', 'amount', 'of', 'spam', 'circulating', 'online', 'could', 'be', 'about', 'to', 'undergo', 'a', 'massive', 'increase,', 'say', 'experts.', 'Warning', 'over', 'tsunami', 'aid', 'website', 'Net', 'users', 'are', 'being', 'told', 'to', 'avoid', 'a', 'scam', 'website', 'that', 'claims', 'to', 'collect', 'cash', 'on', 'behalf', 'of', 'tsunami', 'victims.', 'Piero', 'gives', 'rugby', 'perspective', 'BBC', 'Sport', 'unveils', 'its', 'new', 'analysis', 'tool', 'Piero', 'at', 'the', 'Wales', 'v', 'England', 'rugby', 'union', 'match', 'on', 'Saturday.', 'Open', 'source', 'leaders', 'slam', 'patents', 'The', 'war', 'of', 'words', 'between', 'Microsoft', 'and', 'the', 'open', 'source', 'movement', 'heated', 'up', 'this', 'week', 'as', 'Linux', 'founder', 'Linus', 'Torvalds', 'led', 'an', 'attack', 'on', 'software', 'patents.', 'Reboot', 'ordered', 'for', 'EU', 'patent', 'law', 'A', 'European', 'Parliament', 'committee', 'has', 'ordered', 'a', 'rewrite', 'of', 'the', 'proposals', 'for', 'controversial', 'new', 'European', 'Union', 'rules', 'which', 'govern', 'computer-based', 'inventions.', 'Solutions', 'to', 'net', 'security', 'fears', 'Fake', 'bank', 'e-mails,', 'or', 'phishing,', 'and', 'stories', 'about', 'ID', 'theft', 'are', 'damaging', 'the', 'potential', 'of', 'using', 'the', 'net', 'for', 'online', 'commerce,', 'say', 'e-business', 'experts.', 'Mobile', 'networks', 'seek', 'turbo', 'boost', 'Third-generation', 'mobile', '(3G)', 'networks', 'need', 'to', 'get', 'faster', 'if', 'they', 'are', 'to', 'deliver', 'fast', 'internet', 'surfing', 'on', 'the', 'move', 'and', 'exciting', 'new', 'services.', 'Global', 'digital', 'divide', \"'narrowing'\", 'The', '\"digital', 'divide\"', 'between', 'rich', 'and', 'poor', 'nations', 'is', 'narrowing', 'fast,', 'according', 'to', 'a', 'World', 'Bank', 'report.', 'UK', 'gets', 'official', 'virus', 'alert', 'site', 'A', 'rapid', 'alerting', 'service', 'that', 'tells', 'home', 'computer', 'users', 'about', 'serious', 'internet', 'security', 'problems', 'is', 'being', 'launched', 'by', 'the', 'UK', 'government.', 'Iran', 'jails', 'blogger', 'for', '14', 'years', 'An', 'Iranian', 'weblogger', 'has', 'been', 'jailed', 'for', '14', 'years', 'on', 'charges', 'of', 'spying', 'and', 'aiding', 'foreign', 'counter-revolutionaries.', 'Microsoft', 'seeking', 'spyware', 'trojan', 'Microsoft', 'is', 'investigating', 'a', 'trojan', 'program', 'that', 'attempts', 'to', 'switch', 'off', 'the', \"firm's\", 'anti-spyware', 'software.', 'US', 'woman', 'sues', 'over', 'cartridges', 'A', 'US', 'woman', 'is', 'suing', 'Hewlett', 'Packard', '(HP),', 'saying', 'its', 'printer', 'ink', 'cartridges', 'are', 'secretly', 'programmed', 'to', 'expire', 'on', 'a', 'certain', 'date.', 'Movie', 'body', 'hits', 'peer-to-peer', 'nets', 'The', 'movie', 'industry', 'has', 'struck', 'out', 'at', 'file-sharing', 'networks', 'with', 'another', 'round', 'of', 'lawsuits', 'in', 'the', 'US.', 'Security', 'warning', 'over', \"'FBI\", \"virus'\", 'The', 'US', 'Federal', 'Bureau', 'of', 'Investigation', 'is', 'warning', 'that', 'a', 'computer', 'virus', 'is', 'being', 'spread', 'via', 'e-mails', 'that', 'purport', 'to', 'be', 'from', 'the', 'FBI.', 'Apple', 'iPod', 'family', 'expands', 'market', 'Apple', 'has', 'expanded', 'its', 'iPod', 'family', 'with', 'the', 'release', 'of', 'its', 'next', 'generation', 'of', 'the', 'digital', 'music', 'players.', 'T-Mobile', 'bets', 'on', \"'pocket\", \"office'\", 'T-Mobile', 'has', 'launched', 'its', 'latest', '\"pocket', 'office\"', 'third-generation', '(3G)', 'device', 'which', 'also', 'has', 'built-in', 'wi-fi', '-', 'high-speed', 'wireless', 'net', 'access.', 'Hotspot', 'users', 'gain', 'free', 'net', 'calls', 'People', 'using', 'wireless', 'net', 'hotspots', 'will', 'soon', 'be', 'able', 'to', 'make', 'free', 'phone', 'calls', 'as', 'well', 'as', 'surf', 'the', 'net.', 'DVD', 'copy', 'protection', 'strengthened', 'DVDs', 'will', 'be', 'harder', 'to', 'copy', 'thanks', 'to', 'new', 'anti-piracy', 'measures', 'devised', 'by', 'copy', 'protection', 'firm', 'Macrovision.', 'Apple', 'attacked', 'over', 'sources', 'row', 'Civil', 'liberties', 'group', 'the', 'Electronic', 'Frontier', 'Foundation', '(EFF)', 'has', 'joined', 'a', 'legal', 'fight', 'between', 'three', 'US', 'online', 'journalists', 'and', 'Apple.', 'Sony', 'PSP', 'tipped', 'as', 'a', \"'must-have'\", \"Sony's\", 'Playstation', 'Portable', 'is', 'the', 'top', 'gadget', 'for', '2005,', 'according', 'to', 'a', 'round-up', 'of', 'ultimate', 'gizmos', 'compiled', 'by', 'Stuff', 'Magazine.', 'BBC', 'leads', 'interactive', 'Bafta', 'wins', 'The', 'BBC', 'and', 'the', 'National', 'Theatre', 'have', 'led', 'the', 'field', 'at', 'this', \"year's\", 'Interactive', 'Bafta', 'awards.', 'Millions', 'buy', 'MP3', 'players', 'in', 'US', 'One', 'in', '10', 'adult', 'Americans', '-', 'equivalent', 'to', '22', 'million', 'people', '-', 'owns', 'an', 'MP3', 'player,', 'according', 'to', 'a', 'survey.', \"'No\", \"re-draft'\", 'for', 'EU', 'patent', 'law', 'A', 'proposed', 'European', 'law', 'on', 'software', 'patents', 'will', 'not', 'be', 're-drafted', 'by', 'the', 'European', 'Commission', '(EC)', 'despite', 'requests', 'by', 'MEPs.', 'Domain', 'system', 'scam', 'fear', 'A', 'system', 'to', 'make', 'it', 'easier', 'to', 'create', 'website', 'addresses', 'using', 'alphabets', 'like', 'Cyrillic', 'could', 'open', 'a', 'back', 'door', 'for', 'scammers,', 'a', 'trade', 'body', 'has', 'warned.', 'Cheaper', 'chip', 'for', 'mobiles', 'A', 'mobile', 'phone', 'chip', 'which', 'combines', 'a', 'modem', 'and', 'a', 'computer', 'processor', 'on', 'one', 'bit', 'of', 'silicon', 'instead', 'of', 'two', 'could', 'make', 'phones', 'cheaper', 'and', 'more', 'powerful.', 'Blind', 'student', \"'hears\", 'in', \"colour'\", 'A', 'blind', 'student', 'has', 'developed', 'software', 'that', 'turns', 'colours', 'into', 'musical', 'notes', 'so', 'that', 'he', 'can', 'read', 'weather', 'maps.', 'Xbox', '2', 'may', 'be', 'unveiled', 'in', 'summer', 'Details', 'of', 'the', 'next', 'generation', 'of', \"Microsoft's\", 'Xbox', 'games', 'console', '-', 'codenamed', 'Xenon', '-', 'will', 'most', 'likely', 'be', 'unveiled', 'in', 'May,', 'according', 'to', 'reports.', 'Microsoft', 'launches', 'its', 'own', 'search', 'Microsoft', 'has', 'unveiled', 'the', 'finished', 'version', 'of', 'its', 'home-grown', 'search', 'engine.', 'Moving', 'mobile', 'improves', 'golf', 'swing', 'A', 'mobile', 'phone', 'that', 'recognises', 'and', 'responds', 'to', 'movements', 'has', 'been', 'launched', 'in', 'Japan.', 'Junk', 'e-mails', 'on', 'relentless', 'rise', 'Spam', 'traffic', 'is', 'up', 'by', '40%,', 'putting', 'the', 'total', 'amount', 'of', 'e-mail', 'that', 'is', 'junk', 'up', 'to', 'an', 'astonishing', '90%.', 'Sporting', 'rivals', 'go', 'to', 'extra', 'time', 'The', 'current', 'slew', 'of', 'sports', 'games', 'offers', 'unparalleled', 'opportunities', 'for', 'fans', 'who', 'like', 'to', 'emulate', 'on-field', 'action', 'without', 'ever', 'moving', 'from', 'the', 'couch.', 'Half-Life', '2', 'sweeps', 'Bafta', 'awards', 'PC', 'first', 'person', 'shooter', 'Half-Life', '2', 'has', 'won', 'six', 'Bafta', 'Awards,', 'including', 'best', 'game', 'and', 'best', 'online', 'game.', 'BT', 'boosts', 'its', 'broadband', 'packages', 'British', 'Telecom', 'has', 'said', 'it', 'will', 'double', 'the', 'broadband', 'speeds', 'of', 'most', 'of', 'its', 'home', 'and', 'business', 'customers.', 'Mobiles', \"'not\", 'media', 'players', \"yet'\", 'Mobiles', 'are', 'not', 'yet', 'ready', 'to', 'be', 'all-singing,', 'all-dancing', 'multimedia', 'devices', 'which', 'will', 'replace', 'portable', 'media', 'players,', 'say', 'two', 'reports.', 'Microsoft', 'releases', 'patches', 'Microsoft', 'has', 'warned', 'PC', 'users', 'to', 'update', 'their', 'systems', 'with', 'the', 'latest', 'security', 'fixes', 'for', 'flaws', 'in', 'Windows', 'programs.', 'Concern', 'over', 'RFID', 'tags', 'Consumers', 'are', 'very', 'concerned', 'about', 'the', 'use', 'of', 'radio', 'frequency', 'ID', '(RFID)', 'tags', 'in', 'shops,', 'a', 'survey', 'says.', 'Ask', 'Jeeves', 'joins', 'web', 'log', 'market', 'Ask', 'Jeeves', 'has', 'bought', 'the', 'Bloglines', 'website', 'to', 'improve', 'the', 'way', 'it', 'handles', 'content', 'from', 'web', 'journals', 'or', 'blogs.', 'Digital', 'guru', 'floats', 'sub-$100', 'PC', 'Nicholas', 'Negroponte,', 'chairman', 'and', 'founder', 'of', \"MIT's\", 'Media', 'Labs,', 'says', 'he', 'is', 'developing', 'a', 'laptop', 'PC', 'that', 'will', 'go', 'on', 'sale', 'for', 'less', 'than', '$100', '(£53).', 'Looks', 'and', 'music', 'to', 'drive', 'mobiles', 'Mobile', 'phones', 'are', 'still', 'enjoying', 'a', 'boom', 'time', 'in', 'sales,', 'according', 'to', 'research', 'from', 'technology', 'analysts', 'Gartner.', 'Yahoo', 'celebrates', 'a', 'decade', 'online', 'Yahoo,', 'one', 'of', 'the', \"net's\", 'most', 'iconic', 'companies,', 'is', 'celebrating', 'its', '10th', 'anniversary', 'this', 'week.', 'Kenyan', 'school', 'turns', 'to', 'handhelds', 'At', 'the', 'Mbita', 'Point', 'primary', 'school', 'in', 'western', 'Kenya', 'students', 'click', 'away', 'at', 'a', 'handheld', 'computer', 'with', 'a', 'stylus.', 'Tough', 'rules', 'for', 'ringtone', 'sellers', 'Firms', 'that', 'flout', 'rules', 'on', 'how', 'ringtones', 'and', 'other', 'mobile', 'extras', 'are', 'sold', 'could', 'be', 'cut', 'off', 'from', 'all', 'UK', 'phone', 'networks.', 'Creator', 'of', 'first', 'Apple', 'Mac', 'dies', 'Jef', 'Raskin,', 'head', 'of', 'the', 'team', 'behind', 'the', 'first', 'Macintosh', 'computer,', 'has', 'died.', \"'Friends\", \"fear'\", 'with', 'lost', 'mobiles', 'People', 'are', 'becoming', 'so', 'dependent', 'on', 'their', 'mobile', 'phones', 'that', 'one', 'in', 'three', 'are', 'concerned', 'that', 'losing', 'their', 'phone', 'would', 'mean', 'they', 'lose', 'their', 'friends.', 'Telewest', 'to', 'challenge', 'Sky', 'Plus', 'Cable', 'firm', 'Telewest', 'is', 'to', 'offer', 'a', 'personal', 'video', 'recorder', '(PVR)', 'in', 'a', 'set', '-top', 'box', 'to', 'challenge', 'Sky', 'Plus.', 'Games', 'enter', 'the', 'classroom', 'Video', 'games', 'could', 'soon', 'be', 'transplanted', 'from', 'their', 'natural', 'habitat', 'to', 'the', 'more', 'academic', 'atmosphere', 'of', 'the', 'classroom.', 'Gadget', 'growth', 'fuels', 'eco', 'concerns', 'Technology', 'firms', 'and', 'gadget', 'lovers', 'are', 'being', 'urged', 'to', 'think', 'more', 'about', 'the', 'environment', 'when', 'buying', 'and', 'disposing', 'of', 'the', 'latest', 'hi-tech', 'products.', \"'Evil\", \"twin'\", 'fear', 'for', 'wireless', 'net', 'People', 'using', 'wireless', 'high-speed', 'net', '(wi-fi)', 'are', 'being', 'warned', 'about', 'fake', 'hotspots,', 'or', 'access', 'points.', 'China', \"'to\", 'overtake', 'US', 'net', \"use'\", 'The', 'Chinese', 'net-using', 'population', 'looks', 'set', 'to', 'exceed', 'that', 'of', 'the', 'US', 'in', 'less', 'than', 'three', 'years,', 'says', 'a', 'report.', 'US', 'peer-to-peer', 'pirates', 'convicted', 'The', 'first', 'convictions', 'for', 'piracy', 'over', 'peer-to-peer', 'networks', 'have', 'been', 'handed', 'down', 'in', 'the', 'US.', 'Google', 'launches', 'TV', 'search', 'service', 'The', 'net', 'search', 'giant', 'Google', 'has', 'launched', 'a', 'search', 'service', 'that', 'lets', 'people', 'look', 'for', 'TV', 'programmes.', 'Rich', 'pickings', 'for', 'hi-tech', 'thieves', 'Viruses,', 'trojans', 'and', 'other', 'malicious', 'programs', 'sent', 'on', 'to', 'the', 'net', 'to', 'catch', 'you', 'out', 'are', 'undergoing', 'a', 'subtle', 'change.', 'Blog', 'reading', 'explodes', 'in', 'America', 'Americans', 'are', 'becoming', 'avid', 'blog', 'readers,', 'with', '32', 'million', 'getting', 'hooked', 'in', '2004,', 'according', 'to', 'new', 'research.', 'Software', 'watching', 'while', 'you', 'work', 'Software', 'that', 'can', 'not', 'only', 'monitor', 'every', 'keystroke', 'and', 'action', 'performed', 'at', 'a', 'PC', 'but', 'also', 'be', 'used', 'as', 'legally', 'binding', 'evidence', 'of', 'wrong-doing', 'has', 'been', 'unveiled.', 'New', 'delay', 'hits', 'EU', 'software', 'laws', 'A', 'fresh', 'delay', 'has', 'hit', 'controversial', 'new', 'European', 'Union', 'rules', 'which', 'govern', 'computer-based', 'inventions.', 'Savvy', 'searchers', 'fail', 'to', 'spot', 'ads', 'Internet', 'search', 'engine', 'users', 'are', 'an', 'odd', 'mix', 'of', 'naive', 'and', 'sophisticated,', 'suggests', 'a', 'report', 'into', 'search', 'habits.', 'Games', 'firms', \"'face\", 'tough', \"future'\", 'UK', 'video', 'game', 'firms', 'face', 'a', 'testing', 'time', 'as', 'they', 'prepare', 'for', 'the', 'next', 'round', 'of', 'games', 'consoles,', 'the', 'industry', 'warns.', 'Microsoft', 'makes', 'anti-piracy', 'move', 'Microsoft', 'says', 'it', 'is', 'clamping', 'down', 'on', 'people', 'running', 'pirated', 'versions', 'of', 'its', 'Windows', 'operating', 'system', 'by', 'restricting', 'their', 'access', 'to', 'security', 'features.', 'Nintendo', 'handheld', 'given', 'Euro', 'date', \"Nintendo's\", 'new', 'handheld', 'console,', 'the', 'DS,', 'will', 'launch', 'in', 'Europe', 'on', '11', 'March,', 'the', 'company', 'has', 'announced.', 'Smart', 'search', 'lets', 'art', 'fans', 'browse', 'If', 'you', \"don't\", 'know', 'art', 'but', 'know', 'what', 'you', 'like,', 'new', 'search', 'technology', 'could', 'prove', 'a', 'useful', 'gateway', 'to', 'painting.', 'Warning', 'over', 'Windows', 'Word', 'files', 'Writing', 'a', 'Microsoft', 'Word', 'document', 'can', 'be', 'a', 'dangerous', 'business,', 'according', 'to', 'document', 'security', 'firm', 'Workshare.', 'Net', 'regulation', \"'still\", \"possible'\", 'The', 'blurring', 'of', 'boundaries', 'between', 'TV', 'and', 'the', 'internet', 'raises', 'questions', 'of', 'regulation,', 'watchdog', 'Ofcom', 'has', 'said.', 'Voters', 'flock', 'to', 'blog', 'awards', 'site', 'Voting', 'is', 'under', 'way', 'for', 'the', 'annual', 'Bloggies', 'which', 'recognise', 'the', 'best', 'web', 'blogs', '-', 'online', 'spaces', 'where', 'people', 'publish', 'their', 'thoughts', '-', 'of', 'the', 'year.', 'Latest', 'Opera', 'browser', 'gets', 'vocal', 'Net', 'browser', 'Opera', '8.0,', 'due', 'for', 'official', 'release', 'at', 'the', 'end', 'of', 'next', 'month,', 'will', 'be', '\"the', 'most', 'accessible', 'browser', 'on', 'the', 'market\",', 'according', 'to', 'its', 'authors.', 'Web', 'radio', 'takes', 'Spanish', 'rap', 'global', 'Spin', 'the', 'radio', 'dial', 'in', 'the', 'US', 'and', 'you', 'are', 'likely', 'to', 'find', 'plenty', 'of', 'Spanish-language', 'music.', 'Movie', 'body', 'targets', \"children's\", 'PCs', 'The', 'body', 'that', 'represents', 'the', 'US', 'movie', 'industry', 'has', 'released', 'its', 'latest', 'tool', 'in', 'its', 'campaign', 'to', 'clamp', 'down', 'on', 'movie', 'file-sharing,', 'aimed', 'at', 'parents.', 'Norway', 'upholds', \"'Napster'\", 'ruling', 'A', 'Norwegian', 'student', 'who', 'ran', 'a', 'website', 'which', 'linked', 'to', 'downloadable', 'MP3', 'files', 'has', 'been', 'ordered', 'to', 'pay', 'compensation', 'by', 'the', \"country's\", 'Supreme', 'Court.', 'The', 'future', 'in', 'your', 'pocket', 'If', 'you', 'are', 'a', 'geek', 'or', 'gadget', 'fan,', 'the', 'next', '12', 'months', 'look', 'like', 'they', 'are', 'going', 'to', 'be', 'a', 'lot', 'of', 'fun.', 'What', 'high-definition', 'will', 'do', 'to', 'DVDs', 'First', 'it', 'was', 'the', 'humble', 'home', 'video,', 'then', 'it', 'was', 'the', 'DVD,', 'and', 'now', 'Hollywood', 'is', 'preparing', 'for', 'the', 'next', 'revolution', 'in', 'home', 'entertainment', '-', 'high-definition.', 'Mobile', 'games', 'come', 'of', 'age', 'The', 'BBC', 'News', 'website', 'takes', 'a', 'look', 'at', 'how', 'games', 'on', 'mobile', 'phones', 'are', 'maturing.', 'California', 'sets', 'fines', 'for', 'spyware', 'The', 'makers', 'of', 'computer', 'programs', 'that', 'secretly', 'spy', 'on', 'what', 'people', 'do', 'with', 'their', 'home', 'PCs', 'could', 'face', 'hefty', 'fines', 'in', 'California.', 'Web', 'helps', 'collect', 'aid', 'donations', 'The', 'web', 'is', 'helping', 'aid', 'agencies', 'gather', 'resources', 'to', 'help', 'cope', 'with', 'the', 'aftermath', 'of', 'the', 'tsunami', 'disaster.', 'Mobiles', 'rack', 'up', '20', 'years', 'of', 'use', 'Mobile', 'phones', 'in', 'the', 'UK', 'are', 'celebrating', 'their', '20th', 'anniversary', 'this', 'weekend.', 'Blogs', 'take', 'on', 'the', 'mainstream', 'Web', 'logs', 'or', 'blogs', 'are', 'everywhere,', 'with', 'at', 'least', 'an', 'estimated', 'five', 'million', 'on', 'the', 'web', 'and', 'that', 'number', 'is', 'set', 'to', 'grow.', 'Honour', 'for', 'UK', 'games', 'maker', 'Leading', 'British', 'computer', 'games', 'maker', 'Peter', 'Molyneux', 'has', 'been', 'made', 'an', 'OBE', 'in', 'the', 'New', 'Year', 'Honours', 'list.', 'Bush', 'website', 'blocked', 'outside', 'US', 'Surfers', 'outside', 'the', 'US', 'have', 'been', 'unable', 'to', 'visit', 'the', 'official', 're-election', 'site', 'of', 'President', 'George', 'W', 'Bush.', 'Blogger', 'grounded', 'by', 'her', 'airline', 'A', 'US', 'airline', 'attendant', 'is', 'fighting', 'for', 'her', 'job', 'after', 'she', 'was', 'suspended', 'over', 'postings', 'on', 'her', 'blog,', 'or', 'online', 'diary.', 'Camera', 'phones', 'are', \"'must-haves'\", 'Four', 'times', 'more', 'mobiles', 'with', 'cameras', 'in', 'them', 'will', 'be', 'sold', 'in', 'Europe', 'by', 'the', 'end', 'of', '2004', 'than', 'last', 'year,', 'says', 'a', 'report', 'from', 'analysts', 'Gartner.', 'Games', \"'deserve\", 'a', 'place', 'in', \"class'\", 'Computer', 'games', 'could', 'enhance', 'learning', 'and', 'have', 'a', 'legitimate', 'place', 'in', 'the', 'classroom,', 'say', 'researchers.', 'Nuclear', 'body', 'seeks', 'new', 'tech', 'The', 'computer', 'systems', 'used', 'to', 'monitor', 'the', \"world's\", 'nuclear', 'power', 'installations', 'are', 'so', 'outdated', 'that', 'they', 'are', 'hampering', 'the', 'work', 'of', 'inspectors.', 'Web', 'logs', 'aid', 'disaster', 'recovery', 'Some', 'of', 'the', 'most', 'vivid', 'descriptions', 'of', 'the', 'devastation', 'in', 'southern', 'Asia', 'are', 'on', 'the', 'internet', '-', 'in', 'the', 'form', 'of', 'web', 'logs', 'or', 'blogs.', 'Pandas', 'benefit', 'from', 'wireless', 'net', 'The', \"world's\", 'dwindling', 'panda', 'population', 'is', 'getting', 'a', 'helping', 'hand', 'from', 'a', 'wireless', 'internet', 'network.', 'Search', 'wars', 'hit', 'desktop', 'PCs', 'Another', 'front', 'in', 'the', 'on-going', 'battle', 'between', 'Microsoft', 'and', 'Google', 'is', 'about', 'to', 'be', 'opened.', 'Home', 'phones', 'face', 'unclear', 'future', 'The', 'fixed', 'line', 'phone', 'in', 'your', 'home', 'could', 'soon', 'be', 'an', 'endangered', 'species.', 'Podcasts', 'mark', 'rise', 'of', 'DIY', 'radio', 'An', 'Apple', 'iPod', 'or', 'other', 'digital', 'music', 'players', 'can', 'hold', 'anything', 'up', 'to', '10,000', 'songs,', 'which', 'is', 'a', 'lot', 'of', 'space', 'to', 'fill.', 'Sony', 'wares', 'win', 'innovation', 'award', 'Sony', 'has', 'taken', 'the', 'prize', 'for', 'top', 'innovator', 'at', 'the', 'annual', 'awards', 'of', 'PC', 'Pro', 'Magazine.', 'Portable', 'PlayStation', 'ready', 'to', 'go', \"Sony's\", 'PlayStation', 'Portable', '(PSP)', 'will', 'go', 'on', 'sale', 'in', 'Japan', 'on', '12', 'December.', 'Viewers', 'to', 'be', 'able', 'to', 'shape', 'TV', 'Imagine', 'editing', 'Titanic', 'down', 'to', 'watch', 'just', 'your', 'favourite', 'bits', 'or', 'cutting', 'out', 'the', 'slushier', 'moments', 'of', 'Star', 'Wars', 'to', 'leave', 'you', 'with', 'a', 'bare', 'bones', 'action-fest.', 'Games', 'maker', 'fights', 'for', 'survival', 'One', 'of', \"Britain's\", 'largest', 'independent', 'game', 'makers,', 'Argonaut', 'Games,', 'has', 'been', 'put', 'up', 'for', 'sale.', 'Pompeii', 'gets', 'digital', 'make-over', 'The', 'old-fashioned', 'audio', 'tour', 'of', 'historical', 'places', 'could', 'soon', 'be', 'replaced', 'with', 'computer-generated', 'images', 'that', 'bring', 'the', 'site', 'to', 'life.', 'Fast', 'moving', 'phone', 'bugs', 'appear', 'Security', 'firms', 'are', 'warning', 'about', 'several', 'mobile', 'phone', 'viruses', 'that', 'can', 'spread', 'much', 'faster', 'than', 'similar', 'bugs.', 'Joke', 'e-mail', 'virus', 'tricks', 'users', 'A', 'virus', 'that', 'disguises', 'itself', 'as', 'a', 'joke', 'is', 'spreading', 'rapidly', 'across', 'the', 'net.', 'Progress', 'on', 'new', 'internet', 'domains', 'By', 'early', '2005', 'the', 'net', 'could', 'have', 'two', 'new', 'domain', 'names.', 'Argonaut', 'founder', 'rebuilds', 'empire', 'Jez', 'San,', 'the', 'man', 'behind', 'the', 'Argonaut', 'games', 'group', 'which', 'went', 'into', 'administration', 'a', 'week', 'ago,', 'has', 'bought', 'back', 'most', 'of', 'the', 'company.', 'Dozens', 'held', 'over', 'ID', 'fraud', 'site', 'Twenty-eight', 'people,', 'including', 'a', 'Briton,', 'have', 'been', 'arrested', 'after', 'a', 'global', 'operation', 'against', 'a', 'website', 'allegedly', 'involved', 'in', 'identity', 'fraud.', 'Robots', 'learn', \"'robotiquette'\", 'rules', 'Robots', 'are', 'learning', 'lessons', 'on', '\"robotiquette\"', '-', 'how', 'to', 'behave', 'socially', '-', 'so', 'they', 'can', 'mix', 'better', 'with', 'humans.', 'Concerns', 'over', 'Windows', 'ATMs', 'Cash', 'machine', 'networks', 'could', 'soon', 'be', 'more', 'susceptible', 'to', 'computer', 'viruses,', 'a', 'security', 'firm', 'has', 'warned.', 'Attack', 'prompts', 'Bush', 'site', 'block', 'The', 'official', 're-election', 'site', 'of', 'President', 'George', 'W', 'Bush', 'is', 'blocking', 'visits', 'from', 'overseas', 'users', 'for', '\"security', 'reasons\".', 'Loyalty', 'cards', 'idea', 'for', 'TV', 'addicts', 'Viewers', 'could', 'soon', 'be', 'rewarded', 'for', 'watching', 'TV', 'as', 'loyalty', 'cards', 'come', 'to', 'a', 'screen', 'near', 'you.', 'The', 'Force', 'is', 'strong', 'in', 'Battlefront', 'The', 'warm', 'reception', 'that', 'has', 'greeted', 'Star', 'Wars:', 'Battlefront', 'is', 'a', 'reflection', 'not', 'of', 'any', 'ingenious', 'innovation', 'in', 'its', 'gameplay,', 'but', 'of', 'its', 'back-to-basics', 'approach', 'and', 'immense', 'nostalgia', 'quotient.', \"'Ultimate\", \"game'\", 'award', 'for', 'Doom', '3', 'Sci-fi', 'shooter', 'Doom', '3', 'has', 'blasted', 'away', 'the', 'competition', 'at', 'a', 'major', 'games', 'ceremony,', 'the', 'Golden', 'Joystick', 'awards.', 'Gadget', 'show', 'heralds', 'MP3', 'season', 'Partners', 'of', 'those', 'who', 'love', 'their', 'hi-tech', 'gear', 'may', 'want', 'to', 'get', 'their', 'presents', 'in', 'early', 'as', 'experts', 'predict', 'a', 'gadget', 'shortage', 'this', 'Christmas.', 'Commodore', 'finds', 'new', 'lease', 'of', 'life', 'The', 'once-famous', 'Commodore', 'computer', 'brand', 'could', 'be', 'resurrected', 'after', 'being', 'bought', 'by', 'a', 'US-based', 'digital', 'music', 'distributor.', 'Broadband', 'in', 'the', 'UK', 'growing', 'fast', 'High-speed', 'net', 'connections', 'in', 'the', 'UK', 'are', 'proving', 'more', 'popular', 'than', 'ever.', 'Slim', 'PlayStation', 'triples', 'sales', 'Sony', 'PlayStation', \"2's\", 'slimmer', 'shape', 'has', 'proved', 'popular', 'with', 'UK', 'gamers,', 'with', '50,000', 'sold', 'in', 'its', 'first', 'week', 'on', 'sale.', 'Seamen', 'sail', 'into', 'biometric', 'future', 'The', 'luxury', 'cruise', 'liner', 'Crystal', 'Harmony,', 'currently', 'in', 'the', 'Gulf', 'of', 'Mexico,', 'is', 'the', 'unlikely', 'setting', 'for', 'tests', 'of', 'biometric', 'technology.', 'US', 'duo', 'in', 'first', 'spam', 'conviction', 'A', 'brother', 'and', 'sister', 'in', 'the', 'US', 'have', 'been', 'convicted', 'of', 'sending', 'hundreds', 'of', 'thousands', 'of', 'unsolicited', 'e-mail', 'messages', 'to', 'AOL', 'subscribers.', 'US', 'blogger', 'fired', 'by', 'her', 'airline', 'A', 'US', 'airline', 'attendant', 'suspended', 'over', '\"inappropriate', 'images\"', 'on', 'her', 'blog', '-', 'web', 'diary', '-', 'says', 'she', 'has', 'been', 'fired.', 'Gates', 'opens', 'biggest', 'gadget', 'fair', 'Bill', 'Gates', 'has', 'opened', 'the', 'Consumer', 'Electronics', 'Show', '(CES)', 'in', 'Las', 'Vegas,', 'saying', 'that', 'gadgets', 'are', 'working', 'together', 'more', 'to', 'help', 'people', 'manage', 'multimedia', 'content', 'around', 'the', 'home', 'and', 'on', 'the', 'move.', 'GTA', 'sequel', 'is', 'criminally', 'good', 'The', 'Grand', 'Theft', 'Auto', 'series', 'of', 'games', 'have', 'set', 'themselves', 'the', 'very', 'highest', 'of', 'standards', 'in', 'recent', 'years,', 'but', 'the', 'newest', 'addition', 'is', 'more', 'than', 'able', 'to', 'live', 'up', 'to', 'an', 'increasingly', 'grand', 'tradition.', 'BT', 'offers', 'free', 'net', 'phone', 'calls', 'BT', 'is', 'offering', 'customers', 'free', 'internet', 'telephone', 'calls', 'if', 'they', 'sign', 'up', 'to', 'broadband', 'in', 'December.', 'When', 'invention', 'turns', 'to', 'innovation', 'It', 'is', 'unlikely', 'that', 'future', 'technological', 'inventions', 'are', 'going', 'to', 'have', 'the', 'same', 'kind', 'of', 'transformative', 'impact', 'that', 'they', 'did', 'in', 'the', 'past.', 'Firefox', 'browser', 'takes', 'on', 'Microsoft', \"Microsoft's\", 'Internet', 'Explorer', 'has', 'a', 'serious', 'rival', 'in', 'the', 'long-awaited', 'Firefox', '1.0', 'web', 'browser,', 'which', 'has', 'just', 'been', 'released.', 'Halo', \"fans'\", 'hope', 'for', 'sequel', 'Xbox', 'video', 'game', 'Halo', '2', 'has', 'been', 'released', 'in', 'the', 'US', 'on', '9', 'November,', 'with', 'a', 'UK', 'release', 'two', 'days', 'later.', 'Players', 'sought', 'for', '$1m', 'prize', 'UK', 'gamers', 'are', 'getting', 'a', 'chance', 'to', 'take', 'part', 'in', 'a', '$1m', 'tournament', 'thanks', 'to', 'one', 'of', 'the', \"country's\", 'top', 'teams.', 'US', 'top', 'of', 'supercomputing', 'charts', 'The', 'US', 'has', 'pushed', 'Japan', 'off', 'the', 'top', 'of', 'the', 'supercomputing', 'chart', 'with', \"IBM's\", 'prototype', 'Blue', 'Gene/L', 'machine.', 'Text', 'messages', 'aid', 'disaster', 'recovery', 'Text', 'messaging', 'technology', 'was', 'a', 'valuable', 'communication', 'tool', 'in', 'the', 'aftermath', 'of', 'the', 'tsunami', 'disaster', 'in', 'Asia.', 'Putting', 'a', 'face', 'to', \"'Big\", \"Brother'\", 'Literally', 'putting', 'a', 'face', 'on', 'technology', 'could', 'be', 'one', 'of', 'the', 'keys', 'to', 'improving', 'our', 'interaction', 'with', 'hi-tech', 'gadgets.', 'Football', 'Manager', 'scores', 'big', 'time', 'For', 'the', 'past', 'decade', 'or', 'so', 'the', 'virtual', 'football', 'fans', 'among', 'us', 'will', 'have', 'become', 'used', 'to', 'the', 'annual', 'helping', 'of', 'Championship', 'Manager', '(CM).', 'Musicians', \"'upbeat'\", 'about', 'the', 'net', 'Musicians', 'are', 'embracing', 'the', 'internet', 'as', 'a', 'way', 'of', 'reaching', 'new', 'fans', 'and', 'selling', 'more', 'music,', 'a', 'survey', 'has', 'found.', 'Broadband', 'takes', 'on', 'TV', 'viewing', 'The', 'number', 'of', 'Europeans', 'with', 'broadband', 'has', 'exploded', 'over', 'the', 'past', '12', 'months,', 'with', 'the', 'web', 'eating', 'into', 'TV', 'viewing', 'habits,', 'research', 'suggests.', 'Freeze', 'on', 'anti-spam', 'campaign', 'A', 'campaign', 'by', 'Lycos', 'Europe', 'to', 'target', 'spam-related', 'websites', 'appears', 'to', 'have', 'been', 'put', 'on', 'hold.', 'ITunes', 'user', 'sues', 'Apple', 'over', 'iPod', 'A', 'user', 'of', \"Apple's\", 'iTunes', 'music', 'service', 'is', 'suing', 'the', 'firm', 'saying', 'it', 'is', 'unfair', 'he', 'can', 'only', 'use', 'an', 'iPod', 'to', 'play', 'songs.', 'Microsoft', 'gets', 'the', 'blogging', 'bug', 'Software', 'giant', 'Microsoft', 'is', 'taking', 'the', 'plunge', 'into', 'the', 'world', 'of', 'blogging.', 'Broadband', 'fuels', 'online', 'change', 'Fast', 'web', 'access', 'is', 'encouraging', 'more', 'people', 'to', 'express', 'themselves', 'online,', 'research', 'suggests.', \"'Blog'\", 'picked', 'as', 'word', 'of', 'the', 'year', 'The', 'term', '\"blog\"', 'has', 'been', 'chosen', 'as', 'the', 'top', 'word', 'of', '2004', 'by', 'a', 'US', 'dictionary', 'publisher.', 'New', \"Year's\", 'texting', 'breaks', 'record', 'A', 'mobile', 'phone', 'was', 'as', 'essential', 'to', 'the', 'recent', 'New', \"Year's\", 'festivities', 'as', 'a', 'party', 'mood', 'and', 'Auld', 'Lang', 'Syne,', 'if', 'the', 'number', 'of', 'text', 'messages', 'sent', 'is', 'anything', 'to', 'go', 'by.', 'DS', 'aims', 'to', 'touch', 'gamers', 'The', 'mobile', 'gaming', 'industry', 'is', 'set', 'to', 'explode', 'in', '2005', 'with', 'a', 'number', 'of', 'high-profile', 'devices', 'offering', 'a', 'range', 'of', 'gaming', 'and', 'other', 'features', 'such', 'as', 'movie', 'and', 'music', 'playback.', 'No', 'half', 'measures', 'with', 'Half-Life', '2', 'Could', 'Half-Life', '2', 'possibly', 'live', 'up', 'to', 'the', 'hype?', 'Games', 'win', 'for', 'Blu-ray', 'DVD', 'format', 'The', 'next-generation', 'DVD', 'format', 'Blu-ray', 'is', 'winning', 'more', 'supporters', 'than', 'its', 'rival,', 'according', 'to', 'its', 'backers.', 'File-swappers', 'ready', 'new', 'network', 'Legal', 'attacks', 'on', 'websites', 'that', 'help', 'people', 'swap', 'pirated', 'films', 'have', 'forced', 'the', 'development', 'of', 'a', 'system', 'that', 'could', 'be', 'harder', 'to', 'shut', 'down.', 'Online', 'games', 'play', 'with', 'politics', 'After', 'bubbling', 'under', 'for', 'some', 'time,', 'online', 'games', 'broke', 'through', 'onto', 'the', 'political', 'arena', 'in', '2004.', 'Broadband', 'challenges', 'TV', 'viewing', 'The', 'number', 'of', 'Europeans', 'with', 'broadband', 'has', 'exploded', 'over', 'the', 'past', '12', 'months,', 'with', 'the', 'web', 'eating', 'into', 'TV', 'viewing', 'habits,', 'research', 'suggests.', 'Freeze', 'on', 'anti-spam', 'campaign', 'A', 'campaign', 'by', 'Lycos', 'Europe', 'to', 'target', 'spam-related', 'websites', 'appears', 'to', 'have', 'been', 'put', 'on', 'hold.', 'Halo', '2', 'sells', 'five', 'million', 'copies', 'Microsoft', 'is', 'celebrating', 'bumper', 'sales', 'of', 'its', 'Xbox', 'sci-fi', 'shooter,', 'Halo', '2.', 'When', 'technology', 'gets', 'personal', 'In', '2020,', 'whipping', 'out', 'your', 'mobile', 'phone', 'to', 'make', 'a', 'call', 'will', 'be', 'quaintly', 'pass&#233;.', 'Microsoft', 'gets', 'the', 'blogging', 'bug', 'Software', 'giant', 'Microsoft', 'is', 'taking', 'the', 'plunge', 'into', 'the', 'world', 'of', 'blogging.', 'Doors', 'open', 'at', 'biggest', 'gadget', 'fair', 'Thousands', 'of', 'technology', 'lovers', 'and', 'industry', 'experts', 'have', 'gathered', 'in', 'Las', 'Vegas', 'for', 'the', 'annual', 'Consumer', 'Electronics', 'Show', '(CES).', 'Who', 'do', 'you', 'think', 'you', 'are?', \"'Brainwave'\", 'cap', 'controls', 'computer', 'A', 'team', 'of', 'US', 'researchers', 'has', 'shown', 'that', 'controlling', 'devices', 'with', 'the', 'brain', 'is', 'a', 'step', 'closer.', \"'Brainwave'\", 'cap', 'controls', 'computer', 'A', 'team', 'of', 'US', 'researchers', 'has', 'shown', 'that', 'controlling', 'devices', 'with', 'the', 'brain', 'is', 'a', 'step', 'closer.', 'Europe', 'backs', 'digital', 'TV', 'lifestyle', 'How', 'people', 'receive', 'their', 'digital', 'entertainment', 'in', 'the', 'future', 'could', 'change,', 'following', 'the', 'launch', 'of', 'an', 'ambitious', 'European', 'project.', 'A', 'decade', 'of', 'good', 'website', 'design', 'The', 'web', 'looks', 'very', 'different', 'today', 'than', 'it', 'did', '10', 'years', 'ago.', '2D', 'Metal', 'Slug', 'offers', 'retro', 'fun', 'Like', 'some', 'drill', 'sergeant', 'from', 'the', 'past,', 'Metal', 'Slug', '3', 'is', 'a', 'wake-up', 'call', 'to', \"today's\", 'gamers', 'molly-coddled', 'with', 'slick', 'visuals', 'and', 'fancy', 'trimmings.', 'Casual', 'gaming', 'to', \"'take\", \"off'\", 'Games', 'aimed', 'at', '\"casual', 'players\"', 'are', 'set', 'to', 'be', 'even', 'bigger', 'in', '2005,', 'according', 'to', 'industry', 'experts.', \"'Ultimate\", \"game'\", 'award', 'for', 'Doom', '3', 'Sci-fi', 'shooter', 'Doom', '3', 'has', 'blasted', 'away', 'the', 'competition', 'at', 'a', 'major', 'games', 'ceremony,', 'the', 'Golden', 'Joystick', 'awards.', 'Gadget', 'show', 'heralds', 'MP3', 'Christmas', 'Partners', 'of', 'those', 'who', 'love', 'their', 'hi-tech', 'gear', 'may', 'want', 'to', 'get', 'their', 'presents', 'in', 'early', 'as', 'experts', 'predict', 'a', 'gadget', 'shortage', 'this', 'Christmas.', 'Supercomputer', 'breaks', 'speed', 'record', 'The', 'US', 'is', 'poised', 'to', 'push', 'Japan', 'off', 'the', 'top', 'of', 'the', 'supercomputing', 'chart', 'with', \"IBM's\", 'prototype', 'Blue', 'Gene/L', 'machine.', 'Gadgets', 'galore', 'on', 'show', 'at', 'fair', 'The', '2005', 'Consumer', 'Electronics', 'Show', 'in', 'Las', 'Vegas', 'is', 'a', \"geek's\", 'paradise', 'with', 'more', 'than', '50,000', 'new', 'gadgets', 'and', 'technologies', 'launched', 'during', 'the', 'four-day', 'event.', 'Broadband', 'in', 'the', 'UK', 'growing', 'fast', 'High-speed', 'net', 'connections', 'in', 'the', 'UK', 'are', 'proving', 'more', 'popular', 'than', 'ever.', 'US', 'duo', 'in', 'first', 'spam', 'conviction', 'A', 'brother', 'and', 'sister', 'in', 'the', 'US', 'have', 'been', 'convicted', 'of', 'sending', 'hundreds', 'of', 'thousands', 'of', 'unsolicited', 'e-mail', 'messages', 'to', 'AOL', 'subscribers.', 'Microsoft', 'debuts', 'security', 'tools', 'Microsoft', 'is', 'releasing', 'tools', 'that', 'clean', 'up', 'PCs', 'harbouring', 'viruses', 'and', 'spyware.', 'Slimmer', 'PlayStation', 'triple', 'sales', 'Sony', 'PlayStation', \"2's\", 'slimmer', 'shape', 'has', 'proved', 'popular', 'with', 'UK', 'gamers,', 'with', '50,000', 'sold', 'in', 'its', 'first', 'week', 'on', 'sale.', 'Seamen', 'sail', 'into', 'biometric', 'future', 'The', 'luxury', 'cruise', 'liner', 'Crystal', 'Harmony,', 'currently', 'in', 'the', 'Gulf', 'of', 'Mexico,', 'is', 'the', 'unlikely', 'setting', 'for', 'tests', 'of', 'biometric', 'technology.', 'US', 'blogger', 'fired', 'by', 'her', 'airline', 'A', 'US', 'airline', 'attendant', 'suspended', 'over', '\"inappropriate', 'images\"', 'on', 'her', 'blog', '-', 'web', 'diary', '-', 'says', 'she', 'has', 'been', 'fired.', 'Mobiles', 'double', 'up', 'as', 'bus', 'tickets', 'Mobiles', 'could', 'soon', 'double', 'up', 'as', 'travel', 'cards,', 'with', 'Nokia', 'planning', 'to', 'try', 'out', 'a', 'wireless', 'ticket', 'system', 'on', 'German', 'buses.', 'Mobile', 'gig', 'aims', 'to', 'rock', '3G', 'Forget', 'about', 'going', 'to', 'a', 'crowded', 'bar', 'to', 'enjoy', 'a', 'gig', 'by', 'the', 'latest', 'darlings', 'of', 'the', 'music', 'press.', 'Consumers', \"'snub\", 'portable', \"video'\", 'Consumers', 'want', 'music', 'rather', 'than', 'movies', 'while', 'on', 'the', 'move,', 'says', 'a', 'report.', 'Learning', 'to', 'love', 'broadband', 'We', 'are', 'reaching', 'the', 'point', 'where', 'broadband', 'is', 'a', 'central', 'part', 'of', 'daily', 'life,', 'at', 'least', 'for', 'some,', 'argues', 'technology', 'analyst', 'Bill', 'Thompson.', 'Nintendo', 'DS', 'aims', 'to', 'touch', 'gamers', 'The', 'mobile', 'gaming', 'industry', 'is', 'set', 'to', 'explode', 'in', '2005', 'with', 'a', 'number', 'of', 'high-profile', 'devices', 'offering', 'a', 'range', 'of', 'gaming', 'and', 'other', 'features', 'such', 'as', 'movie', 'and', 'music', 'playback.', 'China', \"'blocks\", 'Google', 'news', \"site'\", 'China', 'has', 'been', 'accused', 'of', 'blocking', 'access', 'to', 'Google', 'News', 'by', 'the', 'media', 'watchdog,', 'Reporters', 'Without', 'Borders.', 'A', 'question', 'of', 'trust', 'and', 'technology', 'A', 'major', 'government', 'department', 'is', 'without', 'e-mail', 'for', 'a', 'week,', 'and', 'technology', 'analyst', 'Bill', 'Thompson', 'wants', 'to', 'know', 'what', 'happened.', 'Call', 'for', 'action', 'on', 'internet', 'scam', 'Phone', 'companies', 'are', 'not', 'doing', 'enough', 'to', 'warn', 'customers', 'about', 'internet', '\"rogue-dialling\"', 'scams,', 'according', 'to', 'premium', 'phone', 'line', 'regulator', 'Icstis.', 'Screensaver', 'tackles', 'spam', 'websites', 'Net', 'users', 'are', 'getting', 'the', 'chance', 'to', 'fight', 'back', 'against', 'spam', 'websites', 'Internet', 'portal', 'Lycos', 'has', 'made', 'a', 'screensaver', 'that', 'endlessly', 'requests', 'data', 'from', 'sites', 'that', 'sell', 'the', 'goods', 'and', 'services', 'mentioned', 'in', 'spam', 'e-mail.', 'First', 'look', 'at', 'PlayStation', '3', 'chip', 'Some', 'details', 'of', 'the', 'chip', 'inside', \"Sony's\", 'PlayStation', '3', 'have', 'been', 'revealed.', 'Online', 'commons', 'to', 'spark', 'debate', 'Online', 'communities', 'set', 'up', 'by', 'the', 'UK', 'government', 'could', 'encourage', 'public', 'debate', 'and', 'build', 'trust,', 'says', 'the', 'Institute', 'of', 'Public', 'Policy', 'Research', '(IPPR).', 'Mobile', 'gaming', 'takes', 'off', 'in', 'India', 'Gaming', 'on', 'the', 'move', 'is', 'one', 'of', 'the', 'fastest-growing', 'activities', 'among', 'the', 'tech-savvy', 'in', 'India,', 'says', 'a', 'report.', 'Gadget', 'market', \"'to\", 'grow', 'in', \"2005'\", 'The', 'explosion', 'in', 'consumer', 'technology', 'is', 'to', 'continue', 'into', '2005,', 'delegates', 'at', 'the', \"world's\", 'largest', 'gadget', 'show,', 'in', 'Las', 'Vegas,', 'have', 'been', 'told.', 'Swap', 'offer', 'for', 'pirated', 'Windows', 'XP', 'Computer', 'giant', 'Microsoft', 'has', 'launched', 'a', 'pilot', 'scheme', 'to', 'replace', 'counterfeit', 'versions', 'of', 'Windows', 'XP', 'with', 'legal', 'ones.', 'Ban', 'hits', 'Half-Life', '2', 'pirates', 'hard', 'About', '20,000', 'people', 'have', 'been', 'banned', 'from', 'playing', 'the', 'Half-Life', '2', 'game.', 'New', 'browser', 'wins', 'over', 'net', 'surfers', 'The', 'proportion', 'of', 'surfers', 'using', \"Microsoft's\", 'Internet', 'Explorer', '(IE)', 'has', 'dropped', 'to', 'below', '90%,', 'say', 'web', 'analysts.', 'Smartphones', 'suffer', 'Skulls', 'attack', 'Owners', 'of', 'some', 'Nokia', 'smartphones', 'are', 'being', 'warned', 'to', 'watch', 'out', 'for', 'malicious', 'wallpaper.', 'Musical', 'future', 'for', 'phones', 'Analyst', 'Bill', 'Thompson', 'has', 'seen', 'the', 'future', 'and', 'it', 'is', 'in', 'his', \"son's\", 'hands.', 'Multi-purpose', 'TV', 'aids', 'India', 'Two-thirds', 'of', 'the', \"world's\", 'population,', '4', 'billion', 'people,', 'live', 'on', '$2,000', 'a', 'year', 'or', 'less.', 'Computer', 'grid', 'to', 'help', 'the', 'world', 'Your', 'computer', 'can', 'now', 'help', 'solve', 'the', \"world's\", 'most', 'difficult', 'health', 'and', 'social', 'problems.', 'How', 'to', 'make', 'a', 'gigapixel', 'picture', 'The', 'largest', 'digital', 'panoramic', 'photo', 'in', 'the', 'world', 'has', 'been', 'created', 'by', 'researchers', 'in', 'the', 'Netherlands.', 'Remote', 'control', 'rifle', 'range', 'debuts', 'Soon', 'you', 'could', 'go', 'hunting', 'via', 'the', 'net.', 'Gangsters', 'dominate', 'gaming', 'chart', 'Video', 'games', 'on', 'consoles', 'and', 'computers', 'proved', 'more', 'popular', 'than', 'ever', 'in', '2004.', 'British', 'Library', 'gets', 'wireless', 'net', 'Visitors', 'to', 'the', 'British', 'Library', 'will', 'be', 'able', 'to', 'get', 'wireless', 'internet', 'access', 'alongside', 'the', 'extensive', 'information', 'available', 'in', 'its', 'famous', 'reading', 'rooms.', 'UK', 'broadband', 'gets', 'speed', 'injection', \"Broadband's\", 'rapid', 'rise', 'continues', 'apace', 'as', 'speeds', 'gear', 'up', 'a', 'notch.', 'Row', 'brewing', 'over', 'peer-to-peer', 'ads', 'Music', 'download', 'networks', 'are', 'proving', 'popular', 'not', 'just', 'with', 'an', 'audience', 'of', 'youngsters', 'keen', 'to', 'take', 'advantage', 'of', 'free', 'music', 'but', 'with', 'advertisers', 'equally', 'keen', 'to', 'reach', 'out', 'to', 'a', 'captive', 'audience.', 'How', 'to', 'smash', 'a', 'home', 'computer', 'An', 'executive', 'who', 'froze', 'his', 'broken', 'hard', 'disk', 'thinking', 'it', 'would', 'be', 'fixed', 'has', 'topped', 'a', 'list', 'of', 'the', 'weirdest', 'computer', 'mishaps.', 'Mobile', 'picture', 'power', 'in', 'your', 'pocket', 'How', 'many', 'times', 'have', 'you', 'wanted', 'to', 'have', 'a', 'camera', 'to', 'hand', 'to', 'catch', 'an', 'unexpected', 'event', 'that', 'would', 'make', 'headlines?', 'Man', 'auctions', 'ad', 'space', 'on', 'forehead', 'A', '20-year-old', 'US', 'man', 'is', 'selling', 'advertising', 'space', 'on', 'his', 'forehead', 'to', 'the', 'highest', 'bidder', 'on', 'website', 'eBay.', 'Toxic', 'web', 'links', 'help', 'virus', 'spread', 'Virus', 'writers', 'have', 'begun', 'using', 'the', 'power', 'of', 'the', 'web', 'to', 'spread', 'their', 'malicious', 'wares.', 'Millions', 'to', 'miss', 'out', 'on', 'the', 'net', 'By', '2025,', '40%', 'of', 'the', \"UK's\", 'population', 'will', 'still', 'be', 'without', 'internet', 'access', 'at', 'home,', 'says', 'a', 'study.', 'Lifestyle', \"'governs\", 'mobile', \"choice'\", 'Faster,', 'better', 'or', 'funkier', 'hardware', 'alone', 'is', 'not', 'going', 'to', 'help', 'phone', 'firms', 'sell', 'more', 'handsets,', 'research', 'suggests.', 'Search', 'sites', 'get', 'closer', 'to', 'users', 'Search', 'sites', 'want', 'to', 'get', 'to', 'know', 'you', 'better.', 'Anti-spam', 'screensaver', 'scrapped', 'A', 'contentious', 'campaign', 'to', 'bump', 'up', 'the', 'bandwidth', 'bills', 'of', 'spammers', 'by', 'flooding', 'their', 'sites', 'with', 'data', 'has', 'been', 'dropped.', 'Europe', 'backs', 'digital', 'TV', 'lifestyle', 'How', 'people', 'receive', 'their', 'digital', 'entertainment', 'in', 'the', 'future', 'could', 'change,', 'following', 'the', 'launch', 'of', 'an', 'ambitious', 'European', 'project.', 'TV', 'future', 'in', 'the', 'hands', 'of', 'viewers', 'With', 'home', 'theatre', 'systems,', 'plasma', 'high-definition', 'TVs,', 'and', 'digital', 'video', 'recorders', 'moving', 'into', 'the', 'living', 'room,', 'the', 'way', 'people', 'watch', 'TV', 'will', 'be', 'radically', 'different', 'in', 'five', \"years'\", 'time.', 'Cyber', 'criminals', 'step', 'up', 'the', 'pace', 'So-called', 'phishing', 'attacks', 'that', 'try', 'to', 'trick', 'people', 'into', 'handing', 'over', 'confidential', 'details', 'have', 'boomed', 'in', '2004,', 'say', 'security', 'experts.', 'Gritty', 'return', 'for', 'Prince', 'of', 'Persia', 'Still', 'basking', 'in', 'the', 'relatively', 'recent', 'glory', 'of', 'last', \"year's\", 'Sands', 'Of', 'Time,', 'the', 'dashing', 'Prince', 'of', 'Persia', 'is', 'back', 'in', 'Warrior', 'Within,', 'and', 'in', 'a', 'more', 'bellicose', 'mood', 'than', 'last', 'time.', 'Disney', 'backs', 'Sony', 'DVD', 'technology', 'A', 'next', 'generation', 'DVD', 'technology', 'backed', 'by', 'Sony', 'has', 'received', 'a', 'major', 'boost.', 'Britons', 'growing', \"'digitally\", \"obese'\", 'Gadget', 'lovers', 'are', 'so', 'hungry', 'for', 'digital', 'data', 'many', 'are', 'carrying', 'the', 'equivalent', 'of', '10', 'trucks', 'full', 'of', 'paper', 'in', '\"weight\".', 'Halo', '2', 'heralds', 'traffic', 'explosion', 'The', 'growing', 'popularity', 'of', 'online', 'gaming', 'could', 'spell', 'problems', 'for', 'net', 'service', 'firms,', 'warns', 'network', 'monitoring', 'company', 'Sandvine.', 'Media', 'gadgets', 'get', 'moving', 'Pocket-sized', 'devices', 'that', 'let', 'people', 'carry', 'around', 'video', 'and', 'images', 'are', 'set', 'to', 'have', 'a', 'big', 'year', 'in', '2005,', 'according', 'to', 'industry', 'experts.', 'Satellite', 'mapping', 'aids', 'Darfur', 'relief', 'Aid', 'workers', 'trying', 'to', 'house,', 'feed', 'and', 'clothe', 'millions', 'of', 'homeless', 'refugees', 'in', 'the', 'Sudanese', 'region', 'of', 'Darfur', 'are', 'getting', 'a', 'helping', 'hand', 'from', 'advanced', 'mapping', 'technology.', 'Disney', 'backs', 'Sony', 'DVD', 'technology', 'A', 'next', 'generation', 'DVD', 'technology', 'backed', 'by', 'Sony', 'has', 'received', 'a', 'major', 'boost.', 'Lifestyle', \"'governs\", 'mobile', \"choice'\", 'Faster,', 'better', 'or', 'funkier', 'hardware', 'alone', 'is', 'not', 'going', 'to', 'help', 'phone', 'firms', 'sell', 'more', 'handsets,', 'research', 'suggests.', 'Millions', 'to', 'miss', 'out', 'on', 'the', 'net', 'By', '2025,', '40%', 'of', 'the', \"UK's\", 'population', 'will', 'still', 'be', 'without', 'internet', 'access', 'at', 'home,', 'says', 'a', 'study.', 'Spam', 'e-mails', 'tempt', 'net', 'shoppers', 'Computer', 'users', 'across', 'the', 'world', 'continue', 'to', 'ignore', 'security', 'warnings', 'about', 'spam', 'e-mails', 'and', 'are', 'being', 'lured', 'into', 'buying', 'goods,', 'a', 'report', 'suggests.', 'More', 'power', 'to', 'the', 'people', 'says', 'HP', 'The', 'digital', 'revolution', 'is', 'focused', 'on', 'letting', 'people', 'tell', 'and', 'share', 'their', 'own', 'stories,', 'according', 'to', 'Carly', 'Fiorina,', 'chief', 'of', 'technology', 'giant', 'Hewlett', 'Packard.', 'Robotic', 'pods', 'take', 'on', 'car', 'design', 'A', 'new', 'breed', 'of', 'wearable', 'robotic', 'vehicles', 'that', 'envelop', 'drivers', 'are', 'being', 'developed', 'by', 'Japanese', 'car', 'giant', 'Toyota.', 'Hi-tech', 'posters', 'guide', 'commuters', 'Interactive', 'posters', 'are', 'helping', 'Londoners', 'get', 'around', 'the', 'city', 'during', 'the', 'festive', 'season.', 'Parents', 'face', 'video', 'game', 'lessons', 'Ways', 'of', 'ensuring', 'that', 'parents', 'know', 'which', 'video', 'games', 'are', 'suitable', 'for', 'children', 'are', 'to', 'be', 'considered', 'by', 'the', 'games', 'industry.', 'BBC', 'web', 'search', 'aids', 'odd', 'queries', 'The', \"BBC's\", 'online', 'search', 'engine', 'was', 'used', 'a', 'record', 'amount', 'in', '2004,', 'helping', 'with', 'enquires', 'both', 'simple', 'and', 'strange.', '2D', 'Metal', 'Slug', 'offers', 'retro', 'fun', 'Like', 'some', 'drill', 'sergeant', 'from', 'the', 'past,', 'Metal', 'Slug', '3', 'is', 'a', 'wake-up', 'call', 'to', \"today's\", 'gamers', 'molly-coddled', 'with', 'slick', 'visuals', 'and', 'fancy', 'trimmings.', 'Mobile', 'multimedia', 'slow', 'to', 'catch', 'on', 'There', 'is', 'no', 'doubt', 'that', 'mobile', 'phones', 'sporting', 'cameras', 'and', 'colour', 'screens', 'are', 'hugely', 'popular.', 'Internet', 'boom', 'for', 'gift', 'shopping', 'Cyberspace', 'is', 'becoming', 'a', 'very', 'popular', 'destination', 'for', 'Christmas', 'shoppers.', 'Google', 'to', 'scan', 'famous', 'libraries', 'The', 'libraries', 'of', 'five', 'of', 'the', \"world's\", 'most', 'important', 'academic', 'institutions', 'are', 'to', 'be', 'digitised', 'by', 'Google.', 'Microsoft', 'takes', 'on', 'desktop', 'search', 'Microsoft', 'has', 'entered', 'the', 'desktop', 'search', 'fray,', 'releasing', 'a', 'test', 'version', 'of', 'its', 'tool', 'to', 'find', 'documents,', 'e-mails', 'and', 'other', 'files', 'on', 'a', 'PC', 'hard', 'drive.', 'Gamers', 'snap', 'up', 'new', 'Sony', 'PSP', 'Gamers', 'have', 'bought', 'almost', 'all', 'of', 'the', 'first', 'batch', 'of', \"Sony's\", 'new', 'PlayStation', 'Portable', '(PSP)', 'games', 'console,', 'which', 'went', 'on', 'sale', 'in', 'Japan', 'on', 'Sunday.', 'Go-ahead', 'for', 'new', 'internet', 'names', 'The', 'internet', 'could', 'soon', 'have', 'two', 'new', 'domain', 'names,', 'aimed', 'at', 'mobile', 'services', 'and', 'the', 'jobs', 'market.', 'Set', 'your', 'television', 'to', 'wow', 'Television', 'started', 'off', 'as', 'a', 'magical', 'blurry', 'image.', 'Hollywood', 'to', 'sue', 'net', 'film', 'pirates', 'The', 'US', 'movie', 'industry', 'has', 'launched', 'legal', 'action', 'to', 'sue', 'people', 'who', 'facilitate', 'illegal', 'film', 'downloading.', 'PC', 'ownership', 'to', \"'double\", 'by', \"2010'\", 'The', 'number', 'of', 'personal', 'computers', 'worldwide', 'is', 'expected', 'to', 'double', 'by', '2010', 'to', '1.3', 'billion', 'machines,', 'according', 'to', 'a', 'report', 'by', 'analysts', 'Forrester', 'Research.', 'PC', 'photo', 'printers', 'challenge', 'pros', 'Home', 'printed', 'pictures', 'can', 'be', 'cheaper', 'and', 'higher', 'quality', 'than', 'those', 'from', 'High', 'Street', 'developers,', 'tests', 'shows.', 'The', 'gaming', 'world', 'in', '2005', 'If', 'you', 'have', 'finished', 'Doom', '3,', 'Half', 'Life', '2', 'and', 'Halo', '2,', \"don't\", 'worry.', 'Bond', 'game', 'fails', 'to', 'shake', 'or', 'stir', 'For', 'gaming', 'fans,', 'the', 'word', 'GoldenEye', 'evokes', 'excited', 'memories', 'not', 'only', 'of', 'the', 'James', 'Bond', 'revival', 'flick', 'of', '1995,', 'but', 'also', 'the', 'classic', 'shoot-em-up', 'that', 'accompanied', 'it', 'and', 'left', 'N64', 'owners', 'glued', 'to', 'their', 'consoles', 'for', 'many', 'an', 'hour.', 'Humanoid', 'robot', 'learns', 'how', 'to', 'run', 'Car-maker', \"Honda's\", 'humanoid', 'robot', 'Asimo', 'has', 'just', 'got', 'faster', 'and', 'smarter.', 'Nintendo', 'adds', 'media', 'playing', 'to', 'DS', 'Nintendo', 'is', 'releasing', 'an', 'adapter', 'for', 'its', 'DS', 'handheld', 'console', 'so', 'it', 'can', 'play', 'music', 'and', 'video.', 'Apple', 'sues', 'to', 'stop', 'product', 'leaks', 'Computer', 'firm', 'Apple', 'has', 'issued', 'a', 'lawsuit', 'to', 'prevent', 'online', 'leaks', 'of', 'information', 'about', 'future', 'products.', 'Gamer', 'buys', '$26,500', 'virtual', 'land', 'A', '22-year-old', 'gamer', 'has', 'spent', '$26,500', '(£13,700)', 'on', 'an', 'island', 'that', 'exists', 'only', 'in', 'a', 'computer', 'role-playing', 'game', '(RPG).', 'Microsoft', 'sets', 'sights', 'on', 'spyware', 'Windows', 'users', 'could', 'soon', 'be', 'paying', 'Microsoft', 'to', 'keep', 'PCs', 'free', 'of', 'spyware.', 'Video', 'phone', 'help', 'for', 'deaf', 'people', 'Deaf', 'people', 'who', 'prefer', 'to', 'communicate', 'using', 'British', 'Sign', 'Language', '(BSL)', 'could', 'soon', 'be', 'having', 'their', 'phone', 'conversations', 'relayed', 'using', 'webcams', 'or', 'videophones', 'and', 'an', 'interpreter.', 'Virus', 'poses', 'as', 'Christmas', 'e-mail', 'Security', 'firms', 'are', 'warning', 'about', 'a', 'Windows', 'virus', 'disguising', 'itself', 'as', 'an', 'electronic', 'Christmas', 'card.', 'Fast', 'lifts', 'rise', 'into', 'record', 'books', 'Two', 'high-speed', 'lifts', 'at', 'the', \"world's\", 'tallest', 'building', 'have', 'been', 'officially', 'recognised', 'as', 'the', \"planet's\", 'fastest.', 'Broadband', 'in', 'the', 'UK', 'gathers', 'pace', 'One', 'person', 'in', 'the', 'UK', 'is', 'joining', 'the', \"internet's\", 'fast', 'lane', 'every', '10', 'seconds,', 'according', 'to', 'BT.', 'Hollywood', 'campaign', 'hits', 'websites', 'Movie', 'studio', 'efforts', 'to', 'stop', 'pirated', 'films', 'being', 'shared', 'on', 'peer-to-peer', 'networks', 'have', 'claimed', 'a', 'high-profile', 'victim.', 'Poles', 'play', 'with', 'GameBoy', \"'blip-pop'\", 'A', 'group', 'of', 'artists', 'in', 'Poland', 'has', 'taken', 'the', 'cacophony', 'of', 'blips,', 'boops', 'and', 'beeps', 'created', 'as', 'players', 'bash', 'buttons', 'on', \"Nintendo's\", 'handheld', 'GameBoy', 'console', 'to', 'a', 'new', 'level.', 'Santy', 'worm', 'makes', 'unwelcome', 'visit', 'Thousands', 'of', 'website', 'bulletin', 'boards', 'have', 'been', 'defaced', 'by', 'a', 'virus', 'that', 'used', 'Google', 'to', 'spread', 'across', 'the', 'net.', 'EU', 'software', 'patent', 'law', 'delayed', 'Controversial', 'new', 'EU', 'rules', 'for', 'the', 'patenting', 'of', 'computer-based', 'inventions', 'have', 'been', 'put', 'on', 'hold', 'due', 'to', 'a', 'last', 'minute', 'intervention', 'from', 'Poland.', 'Apple', 'sues', \"'Tiger'\", 'file', 'sharers', 'Apple', 'has', 'taken', 'more', 'legal', 'action', 'to', 'stop', 'online', 'leaks', 'of', 'its', 'new', 'products.', 'Apple', 'unveils', 'low-cost', \"'Mac\", \"mini'\", 'Apple', 'has', 'unveiled', 'a', 'new,', 'low-cost', 'Macintosh', 'computer', 'for', 'the', 'masses,', 'billed', 'as', 'the', 'Mac', 'mini.', 'Speech', 'takes', 'on', 'search', 'engines', 'A', 'Scottish', 'firm', 'is', 'looking', 'to', 'attract', 'web', 'surfers', 'with', 'a', 'search', 'engine', 'that', 'reads', 'out', 'results.', 'Broadband', 'steams', 'ahead', 'in', 'the', 'US', 'More', 'and', 'more', 'Americans', 'are', 'joining', 'the', \"internet's\", 'fast', 'lane,', 'according', 'to', 'official', 'figures.', 'Napster', 'offers', 'rented', 'music', 'to', 'go', 'Music', 'downloading,', 'for', 'those', 'that', 'have', 'rejected', 'the', 'free', 'peer', 'to', 'peer', 'services,', 'can', 'be', 'a', 'costly', 'business.', 'Broadband', 'soars', 'in', '2004', 'If', 'broadband', 'were', 'a', 'jumbo', 'jet,', 'then', '2003', 'would', 'have', 'seen', 'it', 'taxiing', 'down', 'the', 'runway,', 'firing', 'up', 'its', 'engines', 'and', 'preparing', 'for', 'take-off.', 'Half', 'of', \"UK's\", 'mobiles', \"'go\", \"online'\", 'Multimedia', 'mobile', 'phones', 'are', 'finally', 'showing', 'signs', 'of', 'taking', 'off,', 'with', 'more', 'Britons', 'using', 'them', 'to', 'go', 'online.', 'Blinx', 'sequel', 'purrs', 'nicely', 'The', 'original', 'Blinx', 'was', 'intended', 'to', 'convert', 'many', 'platform', 'game', 'lovers', 'to', \"Microsoft's\", 'then', 'new', 'Xbox', 'console.', 'The', 'year', 'search', 'became', 'personal', 'The', 'odds', 'are', 'that', 'when', 'you', 'fire', 'up', 'your', 'browser,', 'you', 'go', 'straight', 'to', 'your', 'favourite', 'search', 'engine,', 'rather', 'than', 'type', 'in', 'a', 'web', 'address.', 'IBM', 'frees', '500', 'software', 'patents', 'Computer', 'giant', 'IBM', 'says', '500', 'of', 'its', 'software', 'patents', 'will', 'be', 'released', 'into', 'the', 'open', 'development', 'community.', 'Yahoo', 'moves', 'into', 'desktop', 'search', 'Internet', 'giant', 'Yahoo', 'has', 'launched', 'software', 'to', 'allow', 'people', 'to', 'search', 'e-mail', 'and', 'other', 'files', 'on', 'their', 'PCs.', 'Rings', 'of', 'steel', 'combat', 'net', 'attacks', 'Gambling', 'is', 'hugely', 'popular,', 'especially', 'with', 'tech-savvy', 'criminals.', 'US', 'hacker', 'breaks', 'into', 'T-Mobile', 'A', 'man', 'is', 'facing', 'charges', 'of', 'hacking', 'into', 'computers', 'at', 'the', 'US', 'arm', 'of', 'mobile', 'phone', 'firm', 'T-Mobile.', 'Windows', 'worm', 'travels', 'with', 'Tetris', 'Users', 'are', 'being', 'warned', 'about', 'a', 'Windows', 'virus', 'that', 'poses', 'as', 'the', 'hugely', 'popular', 'Tetris', 'game.', 'US', 'state', 'acts', 'to', 'stop', \"'spammers'\", 'US', 'state', 'Texas', 'has', 'filed', 'a', 'lawsuit', 'against', 'two', 'men', 'believed', 'to', 'be', 'among', 'the', \"world's\", 'top', 'five', 'spammers.', 'World', 'tour', 'for', 'top', 'video', 'gamers', 'Two', 'UK', 'gamers', 'are', 'about', 'to', 'embark', 'on', 'a', 'world', 'tour', 'as', 'part', 'of', 'the', 'most', 'lucrative-ever', 'global', 'games', 'tournament.', 'Souped-up', 'wi-fi', 'is', 'on', 'the', 'horizon', 'Super', 'high-speed', 'wireless', 'data', 'networks', 'could', 'soon', 'be', 'in', 'use', 'in', 'the', 'UK.', 'EA', 'to', 'take', 'on', 'film', 'and', 'TV', 'giants', 'Video', 'game', 'giant', 'Electronic', 'Arts', '(EA)', 'says', 'it', 'wants', 'to', 'become', 'the', 'biggest', 'entertainment', 'firm', 'in', 'the', 'world.', 'Tech', 'helps', 'disabled', 'speed', 'demons', 'An', 'organisation', 'has', 'been', 'launched', 'to', 'encourage', 'disabled', 'people', 'to', 'get', 'involved', 'in', 'all', 'aspects', 'of', 'motorsport,', 'which', 'is', 'now', 'increasingly', 'possible', 'thanks', 'to', 'technological', 'innovations.', 'Web', 'photo', 'storage', 'market', 'hots', 'up', 'An', 'increasing', 'number', 'of', 'firms', 'are', 'offering', 'web', 'storage', 'for', 'people', 'with', 'digital', 'photo', 'collections.', 'Speak', 'easy', 'plan', 'for', 'media', 'players', 'Music', 'and', 'film', 'fans', 'will', 'be', 'able', 'to', 'control', 'their', 'digital', 'media', 'players', 'just', 'by', 'speaking', 'to', 'them,', 'under', 'plans', 'in', 'development', 'by', 'two', 'US', 'firms.', 'Cable', 'offers', 'video-on-demand', 'Cable', 'firms', 'NTL', 'and', 'Telewest', 'have', 'both', 'launched', 'video-on-demand', 'services', 'as', 'the', 'battle', 'between', 'satellite', 'and', 'cable', 'TV', 'heats', 'up.', 'Cyber', 'crime', 'booms', 'in', '2004', 'The', 'last', '12', 'months', 'have', 'seen', 'a', 'dramatic', 'growth', 'in', 'almost', 'every', 'security', 'threat', 'that', 'plague', 'Windows', 'PCs.', 'Dublin', 'hi-tech', 'labs', 'to', 'shut', 'down', \"Dublin's\", 'hi-tech', 'research', 'laboratory,', 'Media', 'Labs', 'Europe,', 'is', 'to', 'shut', 'down.', 'Games', 'help', 'you', \"'learn\", 'and', \"play'\", \"'God\", \"games'\", 'in', 'which', 'players', 'must', 'control', 'virtual', 'people', 'and', 'societies', 'could', 'be', 'educational,', 'says', 'research.', 'Hacker', 'threat', 'to', \"Apple's\", 'iTunes', 'Users', 'of', \"Apple's\", 'music', 'jukebox', 'iTunes', 'need', 'to', 'update', 'the', 'software', 'to', 'avoid', 'a', 'potential', 'security', 'threat.', 'Format', 'wars', 'could', \"'confuse\", \"users'\", 'Technology', 'firms', 'Sony,', 'Philips,', 'Matsushita', 'and', 'Samsung', 'are', 'developing', 'a', 'common', 'way', 'to', 'stop', 'people', 'pirating', 'digital', 'music', 'and', 'video.', 'Peer-to-peer', 'nets', \"'here\", 'to', \"stay'\", 'Peer-to-peer', '(P2P)', 'networks', 'are', 'here', 'to', 'stay,', 'and', 'are', 'on', 'the', 'verge', 'of', 'being', 'exploited', 'by', 'commercial', 'media', 'firms,', 'says', 'a', 'panel', 'of', 'industry', 'experts.', 'Text', 'message', 'record', 'smashed', 'UK', 'mobile', 'owners', 'continue', 'to', 'break', 'records', 'with', 'their', 'text', 'messaging,', 'with', 'latest', 'figures', 'showing', 'that', '26', 'billion', 'texts', 'were', 'sent', 'in', 'total', 'in', '2004.', 'Big', 'war', 'games', 'battle', 'it', 'out', 'The', 'arrival', 'of', 'new', 'titles', 'in', 'the', 'popular', 'Medal', 'Of', 'Honor', 'and', 'Call', 'of', 'Duty', 'franchises', 'leaves', 'fans', 'of', 'wartime', 'battle', 'titles', 'spoilt', 'for', 'choice.', 'Mobiles', 'rack', 'up', '20', 'years', 'of', 'use', 'Mobile', 'phones', 'in', 'the', 'UK', 'are', 'celebrating', 'their', '20th', 'anniversary', 'this', 'weekend.', 'Fast', 'moving', 'phone', 'viruses', 'appear', 'Security', 'firms', 'are', 'warning', 'about', 'several', 'mobile', 'phone', 'viruses', 'that', 'can', 'spread', 'much', 'faster', 'than', 'similar', 'bugs.', 'Doors', 'open', 'at', 'biggest', 'gadget', 'fair', 'Thousands', 'of', 'technology', 'lovers', 'and', 'industry', 'experts', 'have', 'gathered', 'in', 'Las', 'Vegas', 'for', 'the', 'annual', 'Consumer', 'Electronics', 'Show', '(CES).', 'Microsoft', 'debuts', 'security', 'tools', 'Microsoft', 'is', 'releasing', 'tools', 'that', 'clean', 'up', 'PCs', 'harbouring', 'viruses', 'and', 'spyware.', 'File-swappers', 'ready', 'new', 'network', 'Legal', 'attacks', 'on', 'websites', 'that', 'help', 'people', 'swap', 'pirated', 'films', 'have', 'forced', 'the', 'development', 'of', 'a', 'system', 'that', 'could', 'be', 'harder', 'to', 'shut', 'down.', 'Games', 'win', 'for', 'Blu-ray', 'DVD', 'format', 'The', 'next-generation', 'DVD', 'format', 'Blu-ray', 'is', 'winning', 'more', 'supporters', 'than', 'its', 'rival,', 'according', 'to', 'its', 'backers.', 'More', 'power', 'to', 'the', 'people', 'says', 'HP', 'The', 'digital', 'revolution', 'is', 'focused', 'on', 'letting', 'people', 'tell', 'and', 'share', 'their', 'own', 'stories,', 'according', 'to', 'Carly', 'Fiorina,', 'chief', 'of', 'technology', 'giant', 'Hewlett', 'Packard.', 'Gadget', 'market', \"'to\", 'grow', 'in', \"2005'\", 'The', 'explosion', 'in', 'consumer', 'technology', 'is', 'to', 'continue', 'into', '2005,', 'delegates', 'at', 'the', \"world's\", 'largest', 'gadget', 'show,', 'in', 'Las', 'Vegas,', 'have', 'been', 'told.', 'Apple', 'unveils', 'low-cost', \"'Mac\", \"mini'\", 'Apple', 'has', 'unveiled', 'a', 'new,', 'low-cost', 'Macintosh', 'computer', 'for', 'the', 'masses,', 'billed', 'as', 'the', 'Mac', 'mini.', 'Napster', 'offers', 'rented', 'music', 'to', 'go', 'Music', 'downloading,', 'for', 'those', 'that', 'have', 'rejected', 'the', 'free', 'peer', 'to', 'peer', 'services,', 'can', 'be', 'a', 'costly', 'business.', 'Rings', 'of', 'steel', 'combat', 'net', 'attacks', 'Gambling', 'is', 'hugely', 'popular,', 'especially', 'with', 'tech-savvy', 'criminals.', 'Apple', 'Mac', 'mini', 'gets', 'warm', 'welcome', 'The', 'Mac', 'mini', 'has', 'been', 'welcomed', 'by', 'Apple', 'fans,', 'industry', 'experts', 'and', 'PC', 'users.', 'Rivals', 'of', 'the', '£400', 'Apple...', 'Speak', 'easy', 'plan', 'for', 'media', 'players', 'Music', 'and', 'film', 'fans', 'will', 'be', 'able', 'to', 'control', 'their', 'digital', 'media', 'players', 'just', 'by', 'speaking', 'to', 'them,', 'under', 'plans', 'in', 'development', 'by', 'two', 'US', 'firms.', 'US', 'peer-to-peer', 'pirates', 'convicted', 'The', 'first', 'convictions', 'for', 'piracy', 'over', 'peer-to-peer', 'networks', 'have', 'been', 'handed', 'down', 'in', 'the', 'US.', 'Format', 'wars', 'could', \"'confuse\", \"users'\", 'Technology', 'firms', 'Sony,', 'Philips,', 'Matsushita', 'and', 'Samsung', 'are', 'developing', 'a', 'common', 'way', 'to', 'stop', 'people', 'pirating', 'digital', 'music', 'and', 'video.', 'Mobiles', 'get', 'set', 'for', 'visual', 'radio', 'The', 'growth', 'in', 'the', 'mobile', 'phone', 'market', 'in', 'the', 'past', 'decade', 'has', 'been', 'nothing', 'less', 'than', 'astonishing,', 'but', 'the', 'ability', 'to', 'communicate', 'on', 'the', 'go', 'is', 'not', 'the', 'only', 'reason', 'we', 'are', 'hooked.', 'Gamers', 'could', 'drive', 'high-definition', 'TV,', 'films,', 'and', 'games', 'have', 'been', 'gearing', 'up', 'for', 'some', 'time', 'now', 'for', 'the', 'next', 'revolution', 'to', 'transform', 'the', 'quality', 'of', 'what', 'is', 'on', 'our', 'screens.', 'How', 'to', 'make', 'a', 'greener', 'computer', 'The', 'hi-tech', 'industry', 'is', 'starting', 'to', 'get', 'more', 'environmentally', 'aware.', 'Microsoft', 'makes', 'anti-piracy', 'move', 'Microsoft', 'says', 'it', 'is', 'clamping', 'down', 'on', 'people', 'running', 'pirated', 'versions', 'of', 'its', 'Windows', 'operating', 'system', 'by', 'restricting', 'their', 'access', 'to', 'security', 'features.', \"What's\", 'next', 'for', 'next-gen', 'consoles?', 'Latest', 'Opera', 'browser', 'gets', 'vocal', 'Net', 'browser', 'Opera', '8.0,', 'due', 'for', 'official', 'release', 'at', 'the', 'end', 'of', 'next', 'month,', 'will', 'be', '\"the', 'most', 'accessible', 'browser', 'on', 'the', 'market\",', 'according', 'to', 'its', 'authors.', 'Mobile', 'games', 'come', 'of', 'age', 'The', 'BBC', 'News', 'website', 'takes', 'a', 'look', 'at', 'how', 'games', 'on', 'mobile', 'phones', 'are', 'maturing.', 'Web', 'radio', 'takes', 'Spanish', 'rap', 'global', 'Spin', 'the', 'radio', 'dial', 'in', 'the', 'US', 'and', 'you', 'are', 'likely', 'to', 'find', 'plenty', 'of', 'Spanish-language', 'music.', 'What', 'high-definition', 'will', 'do', 'to', 'DVDs', 'First', 'it', 'was', 'the', 'humble', 'home', 'video,', 'then', 'it', 'was', 'the', 'DVD,', 'and', 'now', 'Hollywood', 'is', 'preparing', 'for', 'the', 'next', 'revolution', 'in', 'home', 'entertainment', '-', 'high-definition.', 'Junk', 'e-mails', 'on', 'relentless', 'rise', 'Spam', 'traffic', 'is', 'up', 'by', '40%,', 'putting', 'the', 'total', 'amount', 'of', 'e-mail', 'that', 'is', 'junk', 'up', 'to', 'an', 'astonishing', '90%.', 'Warning', 'over', 'tsunami', 'aid', 'website', 'Net', 'users', 'are', 'being', 'told', 'to', 'avoid', 'a', 'scam', 'website', 'that', 'claims', 'to', 'collect', 'cash', 'on', 'behalf', 'of', 'tsunami', 'victims.', 'More', 'women', 'turn', 'to', 'net', 'security', 'Older', 'people', 'and', 'women', 'are', 'increasingly', 'taking', 'charge', 'of', 'protecting', 'home', 'computers', 'against', 'malicious', 'net', 'attacks,', 'according', 'to', 'a', 'two-year', 'study.', 'Sony', 'PSP', 'console', 'hits', 'US', 'in', 'March', 'US', 'gamers', 'will', 'be', 'able', 'to', 'buy', \"Sony's\", 'PlayStation', 'Portable', 'from', '24', 'March,', 'but', 'there', 'is', 'no', 'news', 'of', 'a', 'Europe', 'debut.', 'Ask', 'Jeeves', 'joins', 'web', 'log', 'market', 'Ask', 'Jeeves', 'has', 'bought', 'the', 'Bloglines', 'website', 'to', 'improve', 'the', 'way', 'it', 'handles', 'content', 'from', 'web', 'journals', 'or', 'blogs.', 'Why', 'Cell', 'will', 'get', 'the', 'hard', 'sell', 'The', 'world', 'is', 'casting', 'its', 'gaze', 'on', 'the', 'Cell', 'processor', 'for', 'the', 'first', 'time,', 'but', 'what', 'is', 'so', 'important', 'about', 'it,', 'and', 'why', 'is', 'it', 'so', 'different?', 'PlayStation', '3', 'processor', 'unveiled', 'The', 'Cell', 'processor,', 'which', 'will', 'drive', \"Sony's\", 'PlayStation', '3,', 'will', 'run', '10-times', 'faster', 'than', 'current', 'PC', 'chips,', 'its', 'designers', 'have', 'said.', 'Consumer', 'concern', 'over', 'RFID', 'tags', 'Consumers', 'are', 'very', 'concerned', 'about', 'the', 'use', 'of', 'radio', 'frequency', 'ID', '(RFID)', 'tags', 'in', 'shops,', 'a', 'survey', 'says.', 'Mobiles', \"'not\", 'media', 'players', \"yet'\", 'Mobiles', 'are', 'not', 'yet', 'ready', 'to', 'be', 'all-singing,', 'all-dancing', 'multimedia', 'devices', 'which', 'will', 'replace', 'portable', 'media', 'players,', 'say', 'two', 'reports.', 'Blind', 'student', \"'hears\", 'in', \"colour'\", 'A', 'blind', 'student', 'has', 'developed', 'software', 'that', 'turns', 'colours', 'into', 'musical', 'notes', 'so', 'that', 'he', 'can', 'read', 'weather', 'maps.', 'Apple', 'attacked', 'over', 'sources', 'row', 'Civil', 'liberties', 'group', 'the', 'Electronic', 'Frontier', 'Foundation', '(EFF)', 'has', 'joined', 'a', 'legal', 'fight', 'between', 'three', 'US', 'online', 'journalists', 'and', 'Apple.', 'Mobile', 'audio', 'enters', 'new', 'dimension', 'As', 'mobile', 'phones', 'move', 'closer', 'to', 'being', 'a', 'ubiquitous,', 'all-in-one', 'media', 'player,', 'audio', 'is', 'becoming', 'ever', 'more', 'important.', 'DVD', 'copy', 'protection', 'strengthened', 'DVDs', 'will', 'be', 'harder', 'to', 'copy', 'thanks', 'to', 'new', 'anti-piracy', 'measures', 'devised', 'by', 'copy', 'protection', 'firm', 'Macrovision.', 'Millions', 'buy', 'MP3', 'players', 'in', 'US', 'One', 'in', '10', 'adult', 'Americans', '-', 'equivalent', 'to', '22', 'million', 'people', '-', 'owns', 'an', 'MP3', 'player,', 'according', 'to', 'a', 'survey.', 'Britons', 'fed', 'up', 'with', 'net', 'service', 'A', 'survey', 'conducted', 'by', 'PC', 'Pro', 'Magazine', 'has', 'revealed', 'that', 'many', 'Britons', 'are', 'unhappy', 'with', 'their', 'internet', 'service.', 'Intel', 'unveils', 'laser', 'breakthrough', 'Intel', 'has', 'said', 'it', 'has', 'found', 'a', 'way', 'to', 'put', 'a', 'silicon-based', 'laser', 'on', 'a', 'chip,', 'raising', 'hopes', 'of', 'much', 'faster', 'networks.', 'EU', 'software', 'patent', 'law', 'faces', 'axe', 'The', 'European', 'Parliament', 'has', 'thrown', 'out', 'a', 'bill', 'that', 'would', 'have', 'allowed', 'software', 'to', 'be', 'patented.', 'IBM', 'puts', 'cash', 'behind', 'Linux', 'push', 'IBM', 'is', 'spending', '$100m', '(£52m)', 'over', 'the', 'next', 'three', 'years', 'beefing', 'up', 'its', 'commitment', 'to', 'Linux', 'software.', 'Apple', 'iPod', 'family', 'expands', 'market', 'Apple', 'has', 'expanded', 'its', 'iPod', 'family', 'with', 'the', 'release', 'of', 'its', 'next', 'generation', 'of', 'the', 'digital', 'music', 'players.', 'US', 'woman', 'sues', 'over', 'ink', 'cartridges', 'A', 'US', 'woman', 'is', 'suing', 'Hewlett', 'Packard', '(HP),', 'saying', 'its', 'printer', 'ink', 'cartridges', 'are', 'secretly', 'programmed', 'to', 'expire', 'on', 'a', 'certain', 'date.', 'Security', 'warning', 'over', \"'FBI\", \"virus'\", 'The', 'US', 'Federal', 'Bureau', 'of', 'Investigation', 'is', 'warning', 'that', 'a', 'computer', 'virus', 'is', 'being', 'spread', 'via', 'e-mails', 'that', 'purport', 'to', 'be', 'from', 'the', 'FBI.', 'Mobile', 'networks', 'seek', 'turbo', 'boost', 'Third-generation', 'mobile', '(3G)', 'networks', 'need', 'to', 'get', 'faster', 'if', 'they', 'are', 'to', 'deliver', 'fast', 'internet', 'surfing', 'on', 'the', 'move', 'and', 'exciting', 'new', 'services.', 'Mac', 'Mini', 'heralds', 'mini', 'revolution', 'The', 'Mac', 'Mini', 'was', 'launched', 'amid', 'much', 'fanfare', 'by', 'Apple', 'and', 'great', 'excitement', 'by', 'Apple', 'watchers', 'last', 'month.', 'Can', 'Yahoo', 'dominate', 'next', 'decade?', 'Looks', 'and', 'music', 'to', 'drive', 'mobiles', 'Mobile', 'phones', 'are', 'still', 'enjoying', 'a', 'boom', 'time', 'in', 'sales,', 'according', 'to', 'research', 'from', 'technology', 'analysts', 'Gartner.', 'Hotspot', 'users', 'gain', 'free', 'net', 'calls', 'People', 'using', 'wireless', 'net', 'hotspots', 'will', 'soon', 'be', 'able', 'to', 'make', 'free', 'phone', 'calls', 'as', 'well', 'as', 'surf', 'the', 'net.', 'Domain', 'system', 'opens', 'door', 'to', 'scams', 'A', 'system', 'to', 'make', 'it', 'easier', 'to', 'create', 'website', 'addresses', 'using', 'alphabets', 'like', 'Cyrillic', 'could', 'open', 'a', 'back', 'door', 'for', 'scammers,', 'a', 'trade', 'body', 'has', 'warned.', 'Sony', 'PSP', 'tipped', 'as', 'a', \"'must-have'\", \"Sony's\", 'Playstation', 'Portable', 'is', 'the', 'top', 'UK', 'gadget', 'for', '2005,', 'according', 'to', 'a', 'round-up', 'of', 'ultimate', 'gizmos', 'compiled', 'by', 'Stuff', 'Magazine.', \"'No\", \"re-draft'\", 'for', 'EU', 'patent', 'law', 'A', 'proposed', 'European', 'law', 'on', 'software', 'patents', 'will', 'not', 'be', 're-drafted', 'by', 'the', 'European', 'Commission', '(EC)', 'despite', 'requests', 'by', 'MEPs.', 'Ultra', 'fast', 'wi-fi', 'nears', 'completion', 'Ultra', 'high', 'speed', 'wi-fi', 'connections', 'moved', 'closer', 'to', 'reality', 'on', 'Thursday', 'when', 'Intel', 'said', 'it', 'would', 'list', 'standards', 'for', 'the', 'technology', 'later', 'this', 'year.', 'Virgin', 'Radio', 'offers', '3G', 'broadcast', 'UK', 'broadcaster', 'Virgin', 'Radio', 'says', 'it', 'will', 'become', 'the', 'first', 'station', 'in', 'the', 'world', 'to', 'offer', 'radio', 'via', '3G', 'mobiles.', 'More', 'movies', 'head', 'to', \"Sony's\", 'PSP', 'Movies', 'Open', 'Water', 'and', 'Saw', 'are', 'among', 'those', 'to', 'be', 'made', 'available', 'for', \"Sony's\", 'PSP', 'games', 'console.', 'Warnings', 'on', 'woeful', 'wi-fi', 'security', 'Companies', 'are', 'getting', 'worse', 'at', 'keeping', 'their', 'wireless', 'data', 'networks', 'secure.', 'Cebit', 'opens', 'to', 'mobile', 'music', 'tune', 'Cebit,', 'the', \"world's\", 'largest', 'hi-tech', 'fair,', 'has', 'opened', 'its', 'doors', 'in', 'Hanover', 'for', 'a', 'look', 'at', 'the', 'latest', 'technologies', 'for', 'homes', 'and', 'businesses.', 'Game', 'makers', 'get', 'Xbox', '2', 'sneak', 'peek', 'Microsoft', 'has', 'given', 'game', 'makers', 'a', 'glimpse', 'of', 'the', 'new', 'Xbox', '2', 'console.', 'Broadband', 'set', 'to', 'revolutionise', 'TV', 'BT', 'is', 'starting', 'its', 'push', 'into', 'television', 'with', 'plans', 'to', 'offer', 'TV', 'over', 'broadband.', 'Chip', 'maker', 'backs', 'net', 'phone', 'calls', 'Rich', 'Templeton,', 'the', 'head', 'of', 'giant', 'chip', 'maker', 'Texas', 'Instruments,', 'has', 'given', 'his', 'backing', 'to', 'the', 'growing', 'sector', 'of', 'Voice', 'over', 'Internet', 'Telephony', '(Voip)', 'Voip', 'allows', 'PC', 'users,', 'and', 'in', 'some', 'cases', 'those', 'with', 'just', 'a', 'broadband', 'connection,', 'to', 'make', 'telephone', 'calls', 'via', 'the', 'net.', 'Nintendo', 'DS', 'makes', 'its', 'Euro', 'debut', \"Nintendo's\", 'DS', 'handheld', 'game', 'console', 'has', 'officially', 'gone', 'on', 'sale', 'in', 'Europe.', 'Slow', 'start', 'to', 'speedy', 'net', 'services', 'Faster', 'broadband', 'in', 'the', 'UK', 'is', 'becoming', 'a', 'reality', 'as', 'more', 'internet', 'providers', 'offer', 'super-fast', 'services.', 'Anti-tremor', 'mouse', 'stops', 'PC', 'shakes', 'A', 'special', 'adaptor', 'that', 'helps', 'people', 'with', 'hand', 'tremors', 'control', 'a', 'computer', 'mouse', 'more', 'easily', 'has', 'been', 'developed.', 'The', 'pirates', 'with', 'no', 'profit', 'motive', 'Two', 'men', 'who', 'were', 'part', 'of', 'a', 'huge', 'network', 'of', 'internet', 'software', 'pirates,', 'known', 'as', 'Drink', 'Or', 'Die,', 'have', 'been', 'convicted', 'at', 'the', 'Old', 'Bailey.', 'Apple', 'makes', 'blogs', 'reveal', 'sources', 'Apple', 'has', 'won', 'its', 'legal', 'fight', 'to', 'make', 'three', 'bloggers', 'reveal', 'who', 'told', 'them', 'about', 'unreleased', 'products.', 'Hitachi', 'unveils', \"'fastest\", \"robot'\", 'Japanese', 'electronics', 'firm', 'Hitachi', 'has', 'unveiled', 'its', 'first', 'humanoid', 'robot,', 'called', 'Emiew,', 'to', 'challenge', \"Honda's\", 'Asimo', 'and', \"Sony's\", 'Qrio', 'robots.', 'Have', 'hackers', 'recruited', 'your', 'PC?', 'What', 'price', 'for', \"'trusted\", 'PC', \"security'?\", 'Gizmondo', 'gadget', 'hits', 'the', 'shelves', 'The', 'Gizmondo', 'combined', 'media', 'player,', 'phone', 'and', 'gaming', 'gadget', 'goes', 'on', 'sale', 'on', 'Saturday.', 'Confusion', 'over', 'high-definition', 'TV', 'Now', 'that', 'a', 'critical', 'mass', 'of', 'people', 'have', 'embraced', 'digital', 'TV,', 'DVDs,', 'and', 'digital', 'video', 'recorders,', 'the', 'next', 'revolution', 'for', 'TV', 'is', 'being', 'prepared', 'for', 'our', 'sets.', 'Digital', 'UK', 'driven', 'by', 'net', 'and', 'TV', 'The', \"UK's\", 'adoption', 'of', 'digital', 'TV', 'and', 'broadband', 'has', 'helped', 'make', 'it', 'the', 'fourth', 'most', 'digitally-savvy', 'nation', 'in', 'Europe,', 'according', 'a', 'report', 'by', 'Jupiter', 'Research.', 'Bad', 'e-mail', 'habits', 'sustains', 'spam', 'The', \"'bad\", \"behaviour'\", 'of', 'e-mail', 'users', 'is', 'helping', 'to', 'sustain', 'the', 'spam', 'industry,', 'a', 'new', 'study', 'has', 'found.', 'Sony', 'PSP', 'handheld', 'console', 'hits', 'US', 'The', 'latest', 'handheld', 'gaming', 'gadget,', \"Sony's\", 'PlayStation', 'Portable,', 'goes', 'on', 'sale', 'in', 'the', 'US', 'on', 'Thursday.', \"'Podcasters'\", 'look', 'to', 'net', 'money', 'Nasa', 'is', 'doing', 'it,', '14-year-old', 'boys', 'in', 'bedrooms', 'are', 'doing', 'it,', 'couples', 'are', 'doing', 'it,', 'gadget', 'lovers', '-', 'male', 'and', 'female', '-', 'are', 'definitely', 'doing', 'it.', 'Local', 'net', 'TV', 'takes', 'off', 'in', 'Austria', 'An', 'Austrian', 'village', 'is', 'testing', 'technology', 'that', 'could', 'represent', 'the', 'future', 'of', 'television.', 'Rolling', 'out', 'next', \"generation's\", 'net', 'The', 'body', 'that', 'oversees', 'how', 'the', 'net', 'works,', 'grows', 'and', 'evolves', 'says', 'it', 'has', 'coped', 'well', 'with', 'its', 'growth', 'in', 'the', 'last', '10', 'years,', 'but', 'it', 'is', 'just', 'the', 'start.', 'Long', 'life', 'promised', 'for', 'laptop', 'PCs', 'Scientists', 'are', 'working', 'on', 'ways', 'to', 'ensure', 'laptops', 'can', 'stay', 'powered', 'for', 'an', 'entire', 'working', 'day.', 'Net', 'fingerprints', 'combat', 'attacks', 'Eighty', 'large', 'net', 'service', 'firms', 'have', 'switched', 'on', 'software', 'to', 'spot', 'and', 'stop', 'net', 'attacks', 'automatically.', 'Microsoft', 'plans', \"'safer\", \"ID'\", 'system', 'Microsoft', 'is', 'planning', 'to', 'make', 'Windows', 'and', 'Internet', 'Explorer', 'more', 'secure', 'by', 'including', 'software', 'to', 'give', 'people', 'more', 'control', 'over', 'personal', 'information.', 'Court', 'mulls', 'file-sharing', 'future', 'Judges', 'at', 'the', 'US', 'Supreme', 'Court', 'have', 'been', 'hearing', 'evidence', 'for', 'and', 'against', 'file-sharing', 'networks.', 'France', 'starts', 'digital', 'terrestrial', 'France', 'has', 'become', 'the', 'last', 'big', 'European', 'country', 'to', 'launch', 'a', 'digital', 'terrestrial', 'TV', '(DTT)', 'service.', 'Text', 'message', 'record', 'smashed', 'again', 'UK', 'mobile', 'owners', 'continue', 'to', 'break', 'records', 'with', 'their', 'text', 'messaging,', 'with', 'latest', 'figures', 'showing', 'that', '26', 'billion', 'texts', 'were', 'sent', 'in', 'total', 'in', '2004.', 'Software', 'watching', 'while', 'you', 'work', 'Software', 'that', 'can', 'not', 'only', 'monitor', 'every', 'keystroke', 'and', 'action', 'performed', 'at', 'a', 'PC', 'but', 'also', 'be', 'used', 'as', 'legally', 'binding', 'evidence', 'of', 'wrong-doing', 'has', 'been', 'unveiled.', 'Commodore', 'finds', 'new', 'lease', 'of', 'life', 'The', 'once-famous', 'Commodore', 'computer', 'brand', 'could', 'be', 'resurrected', 'after', 'being', 'bought', 'by', 'a', 'US-based', 'digital', 'music', 'distributor.', 'Cabs', 'collect', 'mountain', 'of', 'mobiles', 'Gadgets', 'are', 'cheaper,', 'smaller', 'and', 'more', 'common', 'than', 'ever.', 'T-Mobile', 'bets', 'on', \"'pocket\", \"office'\", 'T-Mobile', 'has', 'launched', 'its', 'latest', '\"pocket', 'office\"', 'third-generation', '(3G)', 'device', 'which', 'also', 'has', 'built-in', 'wi-fi', '-', 'high-speed', 'wireless', 'net', 'access.', 'California', 'sets', 'fines', 'for', 'spyware', 'The', 'makers', 'of', 'computer', 'programs', 'that', 'secretly', 'spy', 'on', 'what', 'people', 'do', 'with', 'their', 'home', 'PCs', 'could', 'face', 'hefty', 'fines', 'in', 'California.', 'Mobile', 'TV', 'tipped', 'as', 'one', 'to', 'watch', 'Scandinavians', 'and', 'Koreans,', 'two', 'of', 'the', 'most', 'adventurous', 'groups', 'of', 'mobile', 'users,', 'are', 'betting', 'on', 'mobile', 'TV.', 'Apple', 'laptop', 'is', \"'greatest\", \"gadget'\", 'The', 'Apple', 'Powerbook', '100', 'has', 'been', 'chosen', 'as', 'the', 'greatest', 'gadget', 'of', 'all', 'time,', 'by', 'US', 'magazine', 'Mobile', 'PC.', 'Sun', 'offers', 'processing', 'by', 'the', 'hour', 'Sun', 'Microsystems', 'has', 'launched', 'a', 'pay-as-you-go', 'service', 'which', 'will', 'allow', 'customers', 'requiring', 'huge', 'computing', 'power', 'to', 'rent', 'it', 'by', 'the', 'hour.', 'Kenyan', 'school', 'turns', 'to', 'handhelds', 'At', 'the', 'Mbita', 'Point', 'primary', 'school', 'in', 'western', 'Kenya', 'students', 'click', 'away', 'at', 'a', 'handheld', 'computer', 'with', 'a', 'stylus.', 'Tough', 'rules', 'for', 'ringtone', 'sellers', 'Firms', 'that', 'flout', 'rules', 'on', 'how', 'ringtones', 'and', 'other', 'mobile', 'extras', 'are', 'sold', 'could', 'be', 'cut', 'off', 'from', 'all', 'UK', 'phone', 'networks.', 'Mobile', 'music', 'challenges', \"'iPod\", \"age'\", 'Nokia', 'and', 'Microsoft', 'have', 'agreed', 'a', 'deal', 'to', 'work', 'on', 'delivery', 'of', 'music', 'to', 'handsets,', 'while', 'Sony', 'Ericsson', 'has', 'unveiled', 'its', 'phone', 'Walkman', 'and', 'Motorola', 'is', 'working', 'on', 'an', 'iTunes', 'phone.', 'China', \"'ripe'\", 'for', 'media', 'explosion', 'Asia', 'is', 'set', 'to', 'drive', 'global', 'media', 'growth', 'to', '2008', 'and', 'beyond,', 'with', 'China', 'and', 'India', 'filling', 'the', 'two', 'top', 'spots,', 'analysts', 'have', 'predicted.', 'Beckham', 'virus', 'spotted', 'on', 'the', 'net', 'Virus', 'writers', 'are', 'trading', 'on', 'interest', 'in', 'David', 'Beckham', 'to', 'distribute', 'their', 'malicious', 'wares.', 'Video', 'phones', 'act', 'as', 'dating', 'tools', 'Technologies,', 'from', 'e-mail,', 'to', 'net', 'chatrooms,', 'instant', 'messaging', 'and', 'mobiles,', 'have', 'proved', 'to', 'be', 'a', 'big', 'pull', 'with', 'those', 'looking', 'for', 'love.', 'Progress', 'on', 'new', 'internet', 'domains', 'By', 'early', '2005', 'the', 'net', 'could', 'have', 'two', 'new', 'domain', 'names.', 'Camera', 'phones', 'are', \"'must-haves'\", 'Four', 'times', 'more', 'mobiles', 'with', 'cameras', 'in', 'them', 'will', 'be', 'sold', 'in', 'Europe', 'by', 'the', 'end', 'of', '2004', 'than', 'last', 'year,', 'says', 'a', 'report', 'from', 'analysts', 'Gartner.', 'Mobile', 'multimedia', 'slow', 'to', 'catch', 'on', 'There', 'is', 'no', 'doubt', 'that', 'mobile', 'phones', 'sporting', 'cameras', 'and', 'colour', 'screens', 'are', 'hugely', 'popular.', 'Anti-spam', 'laws', 'bite', 'spammer', 'hard', 'The', \"net's\", 'self-declared', 'spam', 'king', 'is', 'seeking', 'bankruptcy', 'protection.', 'Peer-to-peer', 'nets', \"'here\", 'to', \"stay'\", 'Peer-to-peer', '(P2P)', 'networks', 'are', 'here', 'to', 'stay,', 'and', 'are', 'on', 'the', 'verge', 'of', 'being', 'exploited', 'by', 'commercial', 'media', 'firms,', 'says', 'a', 'panel', 'of', 'industry', 'experts.', 'Broadband', 'fuels', 'online', 'expression', 'Fast', 'web', 'access', 'is', 'encouraging', 'more', 'people', 'to', 'express', 'themselves', 'online,', 'research', 'suggests.', 'Savvy', 'searchers', 'fail', 'to', 'spot', 'ads', 'Internet', 'search', 'engine', 'users', 'are', 'an', 'odd', 'mix', 'of', 'naive', 'and', 'sophisticated,', 'suggests', 'a', 'report', 'into', 'search', 'habits.', \"TV's\", 'future', 'down', 'the', 'phone', 'line', 'Internet', 'TV', 'has', 'been', 'talked', 'about', 'since', 'the', 'start', 'of', 'the', 'web', 'as', 'we', 'know', 'it', 'now.', 'Cebit', 'fever', 'takes', 'over', 'Hanover', 'Thousands', 'of', 'products', 'and', 'tens', 'of', 'thousands', 'of', 'visitors', 'make', 'Cebit', 'the', 'place', 'to', 'be', 'for', 'technology', 'lovers.', 'New', 'consoles', 'promise', 'big', 'problems', 'Making', 'games', 'for', 'future', 'consoles', 'will', 'require', 'more', 'graphic', 'artists', 'and', 'more', 'money,', 'an', 'industry', 'conference', 'has', 'been', 'told.', 'BT', 'program', 'to', 'beat', 'dialler', 'scams', 'BT', 'is', 'introducing', 'two', 'initiatives', 'to', 'help', 'beat', 'rogue', 'dialler', 'scams,', 'which', 'can', 'cost', 'dial-up', 'net', 'users', 'thousands.', 'Spam', 'e-mails', 'tempt', 'net', 'shoppers', 'Computer', 'users', 'across', 'the', 'world', 'continue', 'to', 'ignore', 'security', 'warnings', 'about', 'spam', 'e-mails', 'and', 'are', 'being', 'lured', 'into', 'buying', 'goods,', 'a', 'report', 'suggests.', 'Be', 'careful', 'how', 'you', 'code', 'A', 'new', 'European', 'directive', 'could', 'put', 'software', 'writers', 'at', 'risk', 'of', 'legal', 'action,', 'warns', 'former', 'programmer', 'and', 'technology', 'analyst', 'Bill', 'Thompson.', 'US', 'cyber', 'security', 'chief', 'resigns', 'The', 'man', 'making', 'sure', 'US', 'computer', 'networks', 'are', 'safe', 'and', 'secure', 'has', 'resigned', 'after', 'only', 'a', 'year', 'in', 'his', 'post.']\n"
          ]
        }
      ],
      "source": [
        "sentences = []\n",
        "summary = []\n",
        "keys = []\n",
        "for i in range(len(documents)):\n",
        "  sentences += documents[i]\n",
        "  summary += summaries[i]\n",
        "  keys += documents[i][0].split()\n",
        "print(len(sentences),len(summary))\n",
        "print(keys)"
      ]
    },
    {
      "cell_type": "markdown",
      "source": [
        "### Define feature scores that determine how important a sentence is (use the corrected version as validated by other team)"
      ],
      "metadata": {
        "id": "BoVhNo9BuYPR"
      }
    },
    {
      "cell_type": "markdown",
      "source": [
        "### After preprocessing the text, it is necessary to extract features and calculate the functions of the sentence, the results of which are vectors of several elements for each sentence. The elements of each vector take values in the interval [0, 1]. We consider the following features"
      ],
      "metadata": {
        "id": "jC3orj-4C88i"
      }
    },
    {
      "cell_type": "markdown",
      "source": [
        "<a name='features'></a>\n",
        "### Write a function for each of the features below that would return the feature score for any given sentence"
      ],
      "metadata": {
        "id": "bFZz_wVWC2d2"
      }
    },
    {
      "cell_type": "markdown",
      "source": [
        "<a name='title'></a>\n",
        "\n",
        "### Title feature (F1)\n",
        "It is defined as a ratio of the number of matches of the Title words (Tw) in the current sentence (S) to the number of words (w) of the Title (T)   \n",
        "\n",
        "<img alt=\"F1\" src=\"https://drive.google.com/uc?export=view&id=1J1GGrkuGcHhPlGRIo7xmPlwHLe0I2LcV\">"
      ],
      "metadata": {
        "id": "jBIKvpOeSOto"
      }
    },
    {
      "cell_type": "code",
      "execution_count": null,
      "metadata": {
        "id": "1S_umJfdrEa6"
      },
      "outputs": [],
      "source": [
        "def calculate_f1(sentence, title):\n",
        "  sentence = sentence.lower()\n",
        "  title = title.lower()\n",
        "  sentence_list = sentence.split(\" \")\n",
        "  title_list = title.split(\" \")\n",
        "\n",
        "  return round(len(list(set(sentence_list)&set(title_list)))/len(title_list), 3)"
      ]
    },
    {
      "cell_type": "markdown",
      "source": [
        "<a name='sentencelength'></a>\n",
        "\n",
        "### Sentence Length (F2)\n",
        "It is defined as a ratio of the number of words (w) in the current sentence (S) to the number of words in the longest sentence (LS) in the text.   \n",
        "\n",
        "<img alt=\"F2\" src=\"https://drive.google.com/uc?export=view&id=1b42IWpr5svaCyQl6fdnGNWaLP3Rv4bgK\">"
      ],
      "metadata": {
        "id": "bd0AMwpHSZBu"
      }
    },
    {
      "cell_type": "code",
      "source": [
        "def calculate_f2(news,target_sentence):\n",
        "  curr_max = 1\n",
        "  for para in news:\n",
        "    sentences = para.split(\". \")\n",
        "    for sent in sentences:\n",
        "      n = len(sent.split(\" \"))\n",
        "      if n > curr_max:\n",
        "        curr_max = n\n",
        "\n",
        "  target_sentence_length = len(target_sentence.split(\" \"))\n",
        "  return round(float(target_sentence_length/curr_max), 3)\n",
        "\n",
        "# for i in corpus[0]:\n",
        "#   print(calculate_f2(corpus[0],i))"
      ],
      "metadata": {
        "id": "ARdGtG4lSd2Y"
      },
      "execution_count": null,
      "outputs": []
    },
    {
      "cell_type": "markdown",
      "source": [
        "<a name='position'></a>\n",
        "\n",
        "### Sentence position (F3)\n",
        "It is defined as a maximum of the next two relations   \n",
        "\n",
        "<img alt=\"F3\" src=\"https://drive.google.com/uc?export=view&id=1WNqhFyRSkFR7RaGqtZaywOmQVBrUJyb0\">\n"
      ],
      "metadata": {
        "id": "DUcBSsGAShkD"
      }
    },
    {
      "cell_type": "code",
      "source": [
        "def calculate_f3(article, sentenceIdx, total_sentences):\n",
        "  return round(max(1/(sentenceIdx+1), 1/(total_sentences-sentenceIdx)), 3)"
      ],
      "metadata": {
        "id": "NTQZBVZbSlZj"
      },
      "execution_count": null,
      "outputs": []
    },
    {
      "cell_type": "markdown",
      "source": [
        "<a name='tfidf'></a>\n",
        "\n",
        "### Term Weight (F5)\n",
        "It is defined as a ratio of the sum of the frequencies of term occurrences (TO) in a sentence (S) to the sum of the frequency of term occurrences in the text.   \n",
        "\n",
        "<img alt=\"F5\" src=\"https://drive.google.com/uc?export=view&id=1wS8NV1otHFjgu4NePxkyPwQXFpZ4f93q\">\n"
      ],
      "metadata": {
        "id": "L_4p6pUeSnPr"
      }
    },
    {
      "cell_type": "code",
      "source": [
        "def calculate_f5(article, sentence):\n",
        "    dic={}\n",
        "    # print(sentence)\n",
        "    for word in sentence.split():\n",
        "      if word in dic:\n",
        "          dic[word] = dic[word] + 1\n",
        "      else:\n",
        "          dic[word]=1\n",
        "\n",
        "    articleDic = {}\n",
        "    # print(article)\n",
        "    for lin in article:\n",
        "    #   for lin in para.split(\". \"):\n",
        "      for w in lin.split():\n",
        "        if w in dic:\n",
        "          if w in articleDic:\n",
        "            articleDic[w] = articleDic[w] + 1\n",
        "          else:\n",
        "            articleDic[w]=1\n",
        "    return round(sum(dic.values())/sum(articleDic.values()), 3)\n"
      ],
      "metadata": {
        "id": "NWyahmG3SsmG"
      },
      "execution_count": null,
      "outputs": []
    },
    {
      "cell_type": "markdown",
      "source": [
        "<a name='propernoun'></a>\n",
        "\n",
        "### Proper Noun (F6):     \n",
        "It is defined as a ratio of the number of proper nouns (PN) in a sentence (S) to the length (L) of a sentence\n",
        "\n",
        "<img alt=\"F6\" src=\"https://drive.google.com/uc?export=view&id=1MEBknA87K-vPSlu061F-hOz_c9aHrl6W\">"
      ],
      "metadata": {
        "id": "IQDaaFgMSu3b"
      }
    },
    {
      "cell_type": "code",
      "source": [
        "import nltk\n",
        "from nltk import pos_tag\n",
        "from nltk import word_tokenize\n",
        "nltk.download('averaged_perceptron_tagger')\n",
        "nltk.download('punkt')\n",
        "def calculate_f6(sentence):\n",
        "  ls = []\n",
        "  words = word_tokenize(sentence)\n",
        "  tagged = pos_tag(words)\n",
        "  for word,tag in tagged:\n",
        "    if tag == 'NNP' or tag == 'NNPS':\n",
        "      ls.append(word)\n",
        "\n",
        "  return round(float(len(ls))/len(sentence), 3)"
      ],
      "metadata": {
        "colab": {
          "base_uri": "https://localhost:8080/"
        },
        "id": "kdjdBcQOSyH5",
        "outputId": "b72d169c-0ca0-471f-d6dd-71402f6fb46c"
      },
      "execution_count": null,
      "outputs": [
        {
          "output_type": "stream",
          "name": "stderr",
          "text": [
            "[nltk_data] Downloading package averaged_perceptron_tagger to\n",
            "[nltk_data]     /root/nltk_data...\n",
            "[nltk_data]   Unzipping taggers/averaged_perceptron_tagger.zip.\n",
            "[nltk_data] Downloading package punkt to /root/nltk_data...\n",
            "[nltk_data]   Package punkt is already up-to-date!\n"
          ]
        }
      ]
    },
    {
      "cell_type": "markdown",
      "source": [
        "<a name='numerical'></a>\n",
        "\n",
        "### Numerical Data (F7)\n",
        " It is defined as a ratio of the number of numerical data (ND) in the sentence (S) to the length (L) of the sentence   \n",
        "\n",
        " <img alt=\"F7\" src=\"https://drive.google.com/uc?export=view&id=1tCaSaipvqs3CvpvISyCR5ytNzDCuwJV5\">\n"
      ],
      "metadata": {
        "id": "isKFQAfVS35j"
      }
    },
    {
      "cell_type": "code",
      "source": [
        "def calculate_f7(sentence):\n",
        "  n = len(sentence)\n",
        "  numericWordCount = 0\n",
        "  words = word_tokenize(sentence)\n",
        "  tagged = pos_tag(words)\n",
        "  for word,tag in tagged:\n",
        "    if tag == 'CD':\n",
        "      numericWordCount += 1\n",
        "  return round(float(numericWordCount)/n, 3)"
      ],
      "metadata": {
        "id": "kddo2llyS7D6"
      },
      "execution_count": null,
      "outputs": []
    },
    {
      "cell_type": "markdown",
      "source": [
        "<a name='combine'></a>\n",
        "\n",
        "###Combining feature vectors to decide which are representative statements\n",
        "Propose a formula that combines the F scores for any given sentence.   \n",
        "\n",
        "Explain why your formula would allow you to identify the most important sentences as a possible summary of the original article.   \n",
        "\n",
        "Justify your formula with reasons\n"
      ],
      "metadata": {
        "id": "ex-wym_aDHQe"
      }
    },
    {
      "cell_type": "markdown",
      "source": [
        "\n",
        "**final_score = (F1 x 6) + (F6 x 5) + (F7 x 4) + (F2 x 3) + (F3 x 2) + (F5 x 1) / 21 [sum of all the weights]**\n",
        "  \n",
        "**F1: 6 points weighted, we would like to pull in the most relevant sentences that relate to the title words.**  \n",
        "**F6: 5 points weighted, proper nouns in a sentence are more likely to be important in a sentence.**  \n",
        "**F3: 4 points weighted, this is important as an article commonly uses its beginning and ending sentences to say what they mean. Sentences in the middle usually back up what is being said.**  \n",
        "**F2: 3 points weighted, we say the longer the length of a sentence, the more it tends to say about the given subject.**  \n",
        "**F7: 2 points weighted, numerical data tend to not be in most articles. Even so, it is mostly used to support a main idea of an article. It also indicates research put into the article.**  \n",
        "**F5: 1 point weighted, the highest term weight would come from commonly used words, which on their own do not have much to say.**  \n"
      ],
      "metadata": {
        "id": "HZz3NeBbLiZ1"
      }
    },
    {
      "cell_type": "markdown",
      "source": [
        "<a name='validation'></a>\n",
        "\n",
        "###Validation\n",
        "With your formula, show a one sentence summary of each of the given article in your assigned data folder.    \n",
        "\n",
        "Provide an interactive code below for users to enter a random number, say 42, and view the original article (042.txt) and the deduced matching one sentence summary\n"
      ],
      "metadata": {
        "id": "YQ73MEHDDIWl"
      }
    },
    {
      "cell_type": "code",
      "source": [
        "import re\n",
        "\n",
        "def number_format(n):\n",
        "    if (len(n) == 1):\n",
        "        return \"00\" + n\n",
        "    if (len(n) == 2):\n",
        "        return \"0\" + n\n",
        "    return n\n",
        "\n",
        "def sentence_summary():\n",
        "  n = input(\"Enter the number: \")\n",
        "  file_number = number_format(n)\n",
        "  score = 0\n",
        "  index = 0\n",
        "  article = corpus[int(n)-1]\n",
        "\n",
        "  filter_period = []\n",
        "\n",
        "  for i in range(0, len(article)):\n",
        "    s = article[i].split(\". \")\n",
        "    for i in range(0, len(s)):\n",
        "      if s[i][-1] == '.':\n",
        "        s[i] = s[i][:-1]\n",
        "    filter_period.extend(s)\n",
        "\n",
        "  all_sentences = []\n",
        "\n",
        "  for i in range(0, len(filter_period)):\n",
        "    temp = list(filter(None, re.split('[!?]', filter_period[i])))\n",
        "    all_sentences.extend(temp)\n",
        "\n",
        "  for i in range(0, len(all_sentences)):\n",
        "    sentence_input = all_sentences[i]\n",
        "\n",
        "    # final_score = (F1 x 6) + (F6 x 5) + (F7 x 4) + (F2 x 3) + (F3 x 2) + (F5 x 1) / 21\n",
        "    curr_score = (func1(sentence_input, file_number) * 6) + (proper_noun(sentence_input) * 5) + (func3(sentence_input, file_number) * 4) + (func2(sentence_input, file_number) * 3) + (numerical_data(sentence_input) * 2) + (termWeight(sentence_input, file_number))\n",
        "    curr_score = curr_score / 21\n",
        "    if (score < curr_score):\n",
        "      score = curr_score\n",
        "      index = i\n",
        "\n",
        "  print(\"\")\n",
        "  print(\"Original article:\")\n",
        "  for statement in article:\n",
        "    print(statement)\n",
        "  # print(\"Score:\", score)\n",
        "  print(\"\")\n",
        "  print(\"Sentence Summary:\", all_sentences[index])\n"
      ],
      "metadata": {
        "id": "Udb0jmW6DOXa"
      },
      "execution_count": null,
      "outputs": []
    },
    {
      "cell_type": "code",
      "source": [
        "# test\n",
        "sentence_summary()"
      ],
      "metadata": {
        "id": "_8IvurDYL4k6",
        "colab": {
          "base_uri": "https://localhost:8080/",
          "height": 340
        },
        "outputId": "8abbe7e3-d35a-4f51-e8d9-c2cbc1d4676f"
      },
      "execution_count": null,
      "outputs": [
        {
          "name": "stdout",
          "output_type": "stream",
          "text": [
            "Enter the number: 42\n"
          ]
        },
        {
          "output_type": "error",
          "ename": "TypeError",
          "evalue": "ignored",
          "traceback": [
            "\u001b[0;31m---------------------------------------------------------------------------\u001b[0m",
            "\u001b[0;31mTypeError\u001b[0m                                 Traceback (most recent call last)",
            "\u001b[0;32m<ipython-input-40-aad9641ae986>\u001b[0m in \u001b[0;36m<module>\u001b[0;34m\u001b[0m\n\u001b[1;32m      1\u001b[0m \u001b[0;31m# test\u001b[0m\u001b[0;34m\u001b[0m\u001b[0;34m\u001b[0m\u001b[0;34m\u001b[0m\u001b[0m\n\u001b[0;32m----> 2\u001b[0;31m \u001b[0msentence_summary\u001b[0m\u001b[0;34m(\u001b[0m\u001b[0;34m)\u001b[0m\u001b[0;34m\u001b[0m\u001b[0;34m\u001b[0m\u001b[0m\n\u001b[0m",
            "\u001b[0;32m<ipython-input-39-b260de7433fc>\u001b[0m in \u001b[0;36msentence_summary\u001b[0;34m()\u001b[0m\n\u001b[1;32m     34\u001b[0m \u001b[0;34m\u001b[0m\u001b[0m\n\u001b[1;32m     35\u001b[0m     \u001b[0;31m# final_score = (F1 x 6) + (F6 x 5) + (F7 x 4) + (F2 x 3) + (F3 x 2) + (F5 x 1) / 21\u001b[0m\u001b[0;34m\u001b[0m\u001b[0;34m\u001b[0m\u001b[0;34m\u001b[0m\u001b[0m\n\u001b[0;32m---> 36\u001b[0;31m     \u001b[0mcurr_score\u001b[0m \u001b[0;34m=\u001b[0m \u001b[0;34m(\u001b[0m\u001b[0mcalculate_f1\u001b[0m\u001b[0;34m(\u001b[0m\u001b[0msentence_input\u001b[0m\u001b[0;34m,\u001b[0m \u001b[0mfile_number\u001b[0m\u001b[0;34m)\u001b[0m \u001b[0;34m*\u001b[0m \u001b[0;36m6\u001b[0m\u001b[0;34m)\u001b[0m \u001b[0;34m+\u001b[0m \u001b[0;34m(\u001b[0m\u001b[0mcalculate_f6\u001b[0m\u001b[0;34m(\u001b[0m\u001b[0msentence_input\u001b[0m\u001b[0;34m)\u001b[0m \u001b[0;34m*\u001b[0m \u001b[0;36m5\u001b[0m\u001b[0;34m)\u001b[0m \u001b[0;34m+\u001b[0m \u001b[0;34m(\u001b[0m\u001b[0mcalculate_f7\u001b[0m\u001b[0;34m(\u001b[0m\u001b[0msentence_input\u001b[0m\u001b[0;34m,\u001b[0m \u001b[0mfile_number\u001b[0m\u001b[0;34m)\u001b[0m \u001b[0;34m*\u001b[0m \u001b[0;36m4\u001b[0m\u001b[0;34m)\u001b[0m \u001b[0;34m+\u001b[0m \u001b[0;34m(\u001b[0m\u001b[0mcalculate_f2\u001b[0m\u001b[0;34m(\u001b[0m\u001b[0msentence_input\u001b[0m\u001b[0;34m,\u001b[0m \u001b[0mfile_number\u001b[0m\u001b[0;34m)\u001b[0m \u001b[0;34m*\u001b[0m \u001b[0;36m3\u001b[0m\u001b[0;34m)\u001b[0m \u001b[0;34m+\u001b[0m \u001b[0;34m(\u001b[0m\u001b[0mcalculate_f3\u001b[0m\u001b[0;34m(\u001b[0m\u001b[0msentence_input\u001b[0m\u001b[0;34m)\u001b[0m \u001b[0;34m*\u001b[0m \u001b[0;36m2\u001b[0m\u001b[0;34m)\u001b[0m \u001b[0;34m+\u001b[0m \u001b[0;34m(\u001b[0m\u001b[0mcalculate_f5\u001b[0m\u001b[0;34m(\u001b[0m\u001b[0msentence_input\u001b[0m\u001b[0;34m,\u001b[0m \u001b[0mfile_number\u001b[0m\u001b[0;34m)\u001b[0m\u001b[0;34m)\u001b[0m\u001b[0;34m\u001b[0m\u001b[0;34m\u001b[0m\u001b[0m\n\u001b[0m\u001b[1;32m     37\u001b[0m     \u001b[0mcurr_score\u001b[0m \u001b[0;34m=\u001b[0m \u001b[0mcurr_score\u001b[0m \u001b[0;34m/\u001b[0m \u001b[0;36m21\u001b[0m\u001b[0;34m\u001b[0m\u001b[0;34m\u001b[0m\u001b[0m\n\u001b[1;32m     38\u001b[0m     \u001b[0;32mif\u001b[0m \u001b[0;34m(\u001b[0m\u001b[0mscore\u001b[0m \u001b[0;34m<\u001b[0m \u001b[0mcurr_score\u001b[0m\u001b[0;34m)\u001b[0m\u001b[0;34m:\u001b[0m\u001b[0;34m\u001b[0m\u001b[0;34m\u001b[0m\u001b[0m\n",
            "\u001b[0;31mTypeError\u001b[0m: calculate_f7() takes 1 positional argument but 2 were given"
          ]
        }
      ]
    },
    {
      "cell_type": "markdown",
      "source": [
        "<a name='experiment'></a>\n",
        "###Experiment with removing stopwords, lemmatization, and stemming options in vectorizing the given dataset.\n",
        "- Repeat steps above with one of the three options and see which would be able to return a more representative summary sentence for any given articles in your assigned domain\n",
        "- Consider using your customized stopwords list to enhance results.\n",
        "- What combination of these three options give you the best result.\n",
        "- Explain the why the combination option would yields a representative sentence.\n"
      ],
      "metadata": {
        "id": "Fm_E43bsDLzj"
      }
    },
    {
      "cell_type": "code",
      "source": [
        "import nltk\n",
        "nltk.download('stopwords')\n",
        "nltk.download('punkt')\n",
        "from nltk.corpus import stopwords\n",
        "from nltk.tokenize import word_tokenize\n",
        "\n",
        "def stop_words(str_sent):\n",
        "  stop_words = set(stopwords.words('english'))\n",
        "  word_tokens = word_tokenize(str_sent)\n",
        "  filtered_sentence = [w for w in word_tokens if not w.lower() in stop_words]\n",
        "  stop_word_sentence = ''\n",
        "  for word in filtered_sentence:\n",
        "    stop_word_sentence += word + \" \"\n",
        "  return stop_word_sentence"
      ],
      "metadata": {
        "id": "wgYu2hmhL9mx"
      },
      "execution_count": null,
      "outputs": []
    },
    {
      "cell_type": "code",
      "source": [
        "nltk.download('wordnet')\n",
        "nltk.download('omw-1.4')\n",
        "from nltk.stem import WordNetLemmatizer\n",
        "\n",
        "def lemmatize(str_sent):\n",
        "  lemmatizer = WordNetLemmatizer()\n",
        "  word_tokens = word_tokenize(str_sent)\n",
        "  filtered_sentence = [lemmatizer.lemmatize(w) for w in word_tokens]\n",
        "  lemmatized_sentence = ''\n",
        "  for word in filtered_sentence:\n",
        "    lemmatized_sentence += word + \" \"\n",
        "  return lemmatized_sentence"
      ],
      "metadata": {
        "id": "7eykTUREL-eA"
      },
      "execution_count": null,
      "outputs": []
    },
    {
      "cell_type": "code",
      "source": [
        "from nltk.stem import PorterStemmer\n",
        "\n",
        "def stem(str_sent):\n",
        "  stemmer = PorterStemmer()\n",
        "  word_tokens = word_tokenize(str_sent)\n",
        "  filtered_sentence = [stemmer.stem(w) for w in word_tokens]\n",
        "  stemmed_sentence = ''\n",
        "  for word in filtered_sentence:\n",
        "    stemmed_sentence += word + \" \"\n",
        "  return stemmed_sentence"
      ],
      "metadata": {
        "id": "BCx8ragPMApT"
      },
      "execution_count": null,
      "outputs": []
    },
    {
      "cell_type": "code",
      "source": [
        "def sentence_summary_mod(stopping, lemmatizing, stemming):\n",
        "  n = input(\"Enter the number: \")\n",
        "  file_number = number_format(n)\n",
        "  score = 0\n",
        "  index = 0\n",
        "  article = corpus[int(n)-1]\n",
        "  filter_period = []\n",
        "\n",
        "  for i in range(0, len(article)):\n",
        "    s = article[i].split(\". \")\n",
        "    for i in range(0, len(s)):\n",
        "      if s[i][-1] == '.':\n",
        "        s[i] = s[i][:-1]\n",
        "    filter_period.extend(s)\n",
        "\n",
        "  all_sentences = []\n",
        "\n",
        "  for i in range(0, len(filter_period)):\n",
        "    temp = list(filter(None, re.split('[!?]', filter_period[i])))\n",
        "    all_sentences.extend(temp)\n",
        "\n",
        "  for i in range(0, len(all_sentences)):\n",
        "    sentence_input = all_sentences[i]\n",
        "\n",
        "    if stopping:\n",
        "      sentence_input = stop_words(sentence_input)\n",
        "    if lemmatizing:\n",
        "      sentence_input = lemmatize(sentence_input)\n",
        "    if stemming:\n",
        "      sentence_input = stem(sentence_input)\n",
        "\n",
        "    # final_score = (F1 x 6) + (F6 x 5) + (F3 x 4) + (F2 x 3) + (F7 x 2) + (F5 x 1) / 21\n",
        "    curr_score = (func1(sentence_input, file_number) * 6) + (proper_noun(sentence_input) * 5) + (func3(sentence_input, file_number) * 4) + (func2(sentence_input, file_number) * 3) + (numerical_data(sentence_input) * 2) + (termWeight(sentence_input, file_number))\n",
        "    curr_score = curr_score / 21\n",
        "    if (score < curr_score):\n",
        "      score = curr_score\n",
        "      index = i\n",
        "\n",
        "  print(\"\")\n",
        "  print(\"Original article:\")\n",
        "  for statement in article:\n",
        "    print(statement)\n",
        "  # print(\"Score:\", score)\n",
        "  print(\"\")\n",
        "  print(\"Sentence Summary:\", all_sentences[index])"
      ],
      "metadata": {
        "id": "qQSeY9yqMCjs"
      },
      "execution_count": null,
      "outputs": []
    },
    {
      "cell_type": "markdown",
      "source": [
        "For the above definition \"sentence_summary_mod(stopping, lemmatizing, stemming)\":  \n",
        "set to True the options you want done to the sentence.  \n",
        "For example, if you want a combination of all three modifications, run the function as  sentence_summary_mod(stopping=True, lemmatizing=True, stemming=True).\n"
      ],
      "metadata": {
        "id": "9OVsi4yeMFT1"
      }
    },
    {
      "cell_type": "code",
      "source": [
        "sentence_summary_mod(stopping=True, lemmatizing=True, stemming=True)"
      ],
      "metadata": {
        "id": "rFCEy5dMMFAD"
      },
      "execution_count": null,
      "outputs": []
    },
    {
      "cell_type": "markdown",
      "source": [
        "**Formula is still slightly inconsistent but we find that after running several tests, the combination for stop words, lemmatization and stemming is one of the best combinations for a representative sentence. A combination yields a better result because we are taking \"fluff\" out of the sentence from stop words, and narrowing different words down to similar words as we do with lemmatization and stemming. From this, it is easier for the model to deduce the best representative sentence.**"
      ],
      "metadata": {
        "id": "gGgrCe-hMQUU"
      }
    },
    {
      "cell_type": "markdown",
      "source": [
        "<a name='separation'></a>\n",
        "### Are the sentences from your assinged articles properly separated?\n",
        "### If not, make sure it is"
      ],
      "metadata": {
        "id": "itHGuKjyDjPp"
      }
    },
    {
      "cell_type": "code",
      "source": [
        "def getSentencesFromArticle(documents):\n",
        "  sents = []\n",
        "  title = []\n",
        "\n",
        "  X = documents.copy()\n",
        "\n",
        "  for i in range(len(documents)):\n",
        "    val = X[i][0].splitlines()\n",
        "\n",
        "    articles = []\n",
        "    for j in range(len(val)):\n",
        "      if j == 0:\n",
        "        title.append(val[j])\n",
        "      elif val[j] == \"\":\n",
        "        continue\n",
        "      else:\n",
        "        articles.append(val[j])\n",
        "    for j in range(1,len(documents[i])):\n",
        "      articles.append(documents[i][j])\n",
        "    sents.append(articles)\n",
        "\n",
        "  return sents,title\n"
      ],
      "metadata": {
        "id": "diWpgfDMR8af"
      },
      "execution_count": null,
      "outputs": []
    },
    {
      "cell_type": "code",
      "source": [
        "sents,title = getSentencesFromArticle(documents)"
      ],
      "metadata": {
        "id": "4Jx7T_wRVSQF"
      },
      "execution_count": null,
      "outputs": []
    },
    {
      "cell_type": "code",
      "source": [
        "def getLabel(i,sentence,summaries):\n",
        "  length = len(summaries[i])\n",
        "  for j in range(length):\n",
        "    if(sentence in summaries[i][j]):\n",
        "      return 1\n",
        "  return 0"
      ],
      "metadata": {
        "id": "xEaDXEPVXRSi"
      },
      "execution_count": null,
      "outputs": []
    },
    {
      "cell_type": "code",
      "source": [
        "def calculateScores(article,sentence,title,i, sentIndex,summaries):\n",
        "    # ans = []\n",
        "    totalSentences = len(article)\n",
        "    res = []\n",
        "    res.append(sentence)\n",
        "    res.append(calculate_f1(sentence,title))\n",
        "    res.append(calculate_f2(article,sentence))\n",
        "    res.append(calculate_f3(article,sentIndex,totalSentences))\n",
        "    res.append(calculate_f5(article,sentence))\n",
        "    res.append(calculate_f6(sentence))\n",
        "    res.append(calculate_f7(sentence))\n",
        "    res.append(getLabel(i,sentence,summaries))\n",
        "    # ans.append(res)\n",
        "\n",
        "    return res\n"
      ],
      "metadata": {
        "id": "eOohNYLlXUTf"
      },
      "execution_count": null,
      "outputs": []
    },
    {
      "cell_type": "markdown",
      "source": [
        "<a name='extraction'></a>\n",
        "### extract sentences from the news articles and summaries"
      ],
      "metadata": {
        "id": "I6eh8xiVDq6b"
      }
    },
    {
      "cell_type": "code",
      "source": [
        "sen_len = len(sents)\n",
        "# print(summaries[0])\n",
        "df = []\n",
        "all_sentences = []\n",
        "# print(sents[1][0])\n",
        "for i in range(sen_len):\n",
        "  # print(title)\n",
        "  l = len(sents[i])\n",
        "  for j in range(l):\n",
        "    df.append(calculateScores(sents[i],sents[i][j], title[i], i, j,summaries))\n",
        "    all_sentences.append(sents[i][j])"
      ],
      "metadata": {
        "id": "GOIASqdNXUPJ"
      },
      "execution_count": null,
      "outputs": []
    },
    {
      "cell_type": "code",
      "source": [
        "df_new = pd.DataFrame(df, columns = ['Sentence','F1','F2','F3', 'F5', 'F6','F7','Label'])\n",
        "df_new.head(5)"
      ],
      "metadata": {
        "id": "Umo4pJmNXUMG",
        "colab": {
          "base_uri": "https://localhost:8080/",
          "height": 206
        },
        "outputId": "bf551bb8-a3b4-4382-c038-9e74a0d90235"
      },
      "execution_count": null,
      "outputs": [
        {
          "output_type": "execute_result",
          "data": {
            "text/plain": [
              "                                            Sentence     F1     F2     F3  \\\n",
              "0  The Kyrgyz Republic, a small, mountainous stat...  0.500  0.681  1.000   \n",
              "1  This new technology is causing both worries an...  0.000  0.340  0.500   \n",
              "2  In an effort to live up to its reputation in t...  0.333  0.809  0.333   \n",
              "3  The US government agreed to fund all expenses ...  0.000  0.255  0.250   \n",
              "4  The Kyrgyz Republic is seen by many experts as...  0.167  0.787  0.200   \n",
              "\n",
              "      F5     F6     F7  Label  \n",
              "0  0.137  0.015  0.000      1  \n",
              "1  0.137  0.000  0.000      0  \n",
              "2  0.188  0.026  0.004      1  \n",
              "3  0.211  0.000  0.000      0  \n",
              "4  0.213  0.009  0.014      0  "
            ],
            "text/html": [
              "\n",
              "  <div id=\"df-e4a0c062-925e-4838-988b-0e76dc2467b8\">\n",
              "    <div class=\"colab-df-container\">\n",
              "      <div>\n",
              "<style scoped>\n",
              "    .dataframe tbody tr th:only-of-type {\n",
              "        vertical-align: middle;\n",
              "    }\n",
              "\n",
              "    .dataframe tbody tr th {\n",
              "        vertical-align: top;\n",
              "    }\n",
              "\n",
              "    .dataframe thead th {\n",
              "        text-align: right;\n",
              "    }\n",
              "</style>\n",
              "<table border=\"1\" class=\"dataframe\">\n",
              "  <thead>\n",
              "    <tr style=\"text-align: right;\">\n",
              "      <th></th>\n",
              "      <th>Sentence</th>\n",
              "      <th>F1</th>\n",
              "      <th>F2</th>\n",
              "      <th>F3</th>\n",
              "      <th>F5</th>\n",
              "      <th>F6</th>\n",
              "      <th>F7</th>\n",
              "      <th>Label</th>\n",
              "    </tr>\n",
              "  </thead>\n",
              "  <tbody>\n",
              "    <tr>\n",
              "      <th>0</th>\n",
              "      <td>The Kyrgyz Republic, a small, mountainous stat...</td>\n",
              "      <td>0.500</td>\n",
              "      <td>0.681</td>\n",
              "      <td>1.000</td>\n",
              "      <td>0.137</td>\n",
              "      <td>0.015</td>\n",
              "      <td>0.000</td>\n",
              "      <td>1</td>\n",
              "    </tr>\n",
              "    <tr>\n",
              "      <th>1</th>\n",
              "      <td>This new technology is causing both worries an...</td>\n",
              "      <td>0.000</td>\n",
              "      <td>0.340</td>\n",
              "      <td>0.500</td>\n",
              "      <td>0.137</td>\n",
              "      <td>0.000</td>\n",
              "      <td>0.000</td>\n",
              "      <td>0</td>\n",
              "    </tr>\n",
              "    <tr>\n",
              "      <th>2</th>\n",
              "      <td>In an effort to live up to its reputation in t...</td>\n",
              "      <td>0.333</td>\n",
              "      <td>0.809</td>\n",
              "      <td>0.333</td>\n",
              "      <td>0.188</td>\n",
              "      <td>0.026</td>\n",
              "      <td>0.004</td>\n",
              "      <td>1</td>\n",
              "    </tr>\n",
              "    <tr>\n",
              "      <th>3</th>\n",
              "      <td>The US government agreed to fund all expenses ...</td>\n",
              "      <td>0.000</td>\n",
              "      <td>0.255</td>\n",
              "      <td>0.250</td>\n",
              "      <td>0.211</td>\n",
              "      <td>0.000</td>\n",
              "      <td>0.000</td>\n",
              "      <td>0</td>\n",
              "    </tr>\n",
              "    <tr>\n",
              "      <th>4</th>\n",
              "      <td>The Kyrgyz Republic is seen by many experts as...</td>\n",
              "      <td>0.167</td>\n",
              "      <td>0.787</td>\n",
              "      <td>0.200</td>\n",
              "      <td>0.213</td>\n",
              "      <td>0.009</td>\n",
              "      <td>0.014</td>\n",
              "      <td>0</td>\n",
              "    </tr>\n",
              "  </tbody>\n",
              "</table>\n",
              "</div>\n",
              "      <button class=\"colab-df-convert\" onclick=\"convertToInteractive('df-e4a0c062-925e-4838-988b-0e76dc2467b8')\"\n",
              "              title=\"Convert this dataframe to an interactive table.\"\n",
              "              style=\"display:none;\">\n",
              "        \n",
              "  <svg xmlns=\"http://www.w3.org/2000/svg\" height=\"24px\"viewBox=\"0 0 24 24\"\n",
              "       width=\"24px\">\n",
              "    <path d=\"M0 0h24v24H0V0z\" fill=\"none\"/>\n",
              "    <path d=\"M18.56 5.44l.94 2.06.94-2.06 2.06-.94-2.06-.94-.94-2.06-.94 2.06-2.06.94zm-11 1L8.5 8.5l.94-2.06 2.06-.94-2.06-.94L8.5 2.5l-.94 2.06-2.06.94zm10 10l.94 2.06.94-2.06 2.06-.94-2.06-.94-.94-2.06-.94 2.06-2.06.94z\"/><path d=\"M17.41 7.96l-1.37-1.37c-.4-.4-.92-.59-1.43-.59-.52 0-1.04.2-1.43.59L10.3 9.45l-7.72 7.72c-.78.78-.78 2.05 0 2.83L4 21.41c.39.39.9.59 1.41.59.51 0 1.02-.2 1.41-.59l7.78-7.78 2.81-2.81c.8-.78.8-2.07 0-2.86zM5.41 20L4 18.59l7.72-7.72 1.47 1.35L5.41 20z\"/>\n",
              "  </svg>\n",
              "      </button>\n",
              "      \n",
              "  <style>\n",
              "    .colab-df-container {\n",
              "      display:flex;\n",
              "      flex-wrap:wrap;\n",
              "      gap: 12px;\n",
              "    }\n",
              "\n",
              "    .colab-df-convert {\n",
              "      background-color: #E8F0FE;\n",
              "      border: none;\n",
              "      border-radius: 50%;\n",
              "      cursor: pointer;\n",
              "      display: none;\n",
              "      fill: #1967D2;\n",
              "      height: 32px;\n",
              "      padding: 0 0 0 0;\n",
              "      width: 32px;\n",
              "    }\n",
              "\n",
              "    .colab-df-convert:hover {\n",
              "      background-color: #E2EBFA;\n",
              "      box-shadow: 0px 1px 2px rgba(60, 64, 67, 0.3), 0px 1px 3px 1px rgba(60, 64, 67, 0.15);\n",
              "      fill: #174EA6;\n",
              "    }\n",
              "\n",
              "    [theme=dark] .colab-df-convert {\n",
              "      background-color: #3B4455;\n",
              "      fill: #D2E3FC;\n",
              "    }\n",
              "\n",
              "    [theme=dark] .colab-df-convert:hover {\n",
              "      background-color: #434B5C;\n",
              "      box-shadow: 0px 1px 3px 1px rgba(0, 0, 0, 0.15);\n",
              "      filter: drop-shadow(0px 1px 2px rgba(0, 0, 0, 0.3));\n",
              "      fill: #FFFFFF;\n",
              "    }\n",
              "  </style>\n",
              "\n",
              "      <script>\n",
              "        const buttonEl =\n",
              "          document.querySelector('#df-e4a0c062-925e-4838-988b-0e76dc2467b8 button.colab-df-convert');\n",
              "        buttonEl.style.display =\n",
              "          google.colab.kernel.accessAllowed ? 'block' : 'none';\n",
              "\n",
              "        async function convertToInteractive(key) {\n",
              "          const element = document.querySelector('#df-e4a0c062-925e-4838-988b-0e76dc2467b8');\n",
              "          const dataTable =\n",
              "            await google.colab.kernel.invokeFunction('convertToInteractive',\n",
              "                                                     [key], {});\n",
              "          if (!dataTable) return;\n",
              "\n",
              "          const docLinkHtml = 'Like what you see? Visit the ' +\n",
              "            '<a target=\"_blank\" href=https://colab.research.google.com/notebooks/data_table.ipynb>data table notebook</a>'\n",
              "            + ' to learn more about interactive tables.';\n",
              "          element.innerHTML = '';\n",
              "          dataTable['output_type'] = 'display_data';\n",
              "          await google.colab.output.renderOutput(dataTable, element);\n",
              "          const docLink = document.createElement('div');\n",
              "          docLink.innerHTML = docLinkHtml;\n",
              "          element.appendChild(docLink);\n",
              "        }\n",
              "      </script>\n",
              "    </div>\n",
              "  </div>\n",
              "  "
            ]
          },
          "metadata": {},
          "execution_count": 27
        }
      ]
    },
    {
      "cell_type": "code",
      "source": [
        "y = df_new['Label']\n",
        "F_score = df_new.copy()\n",
        "F_score = F_score.drop(['Sentence'], axis=1)"
      ],
      "metadata": {
        "id": "MieSBR3udLN1"
      },
      "execution_count": null,
      "outputs": []
    },
    {
      "cell_type": "code",
      "source": [
        "F_score"
      ],
      "metadata": {
        "colab": {
          "base_uri": "https://localhost:8080/",
          "height": 424
        },
        "id": "v69xzNOrycCo",
        "outputId": "3aead1a2-9a4e-44e4-ccc6-548bb2545d49"
      },
      "execution_count": null,
      "outputs": [
        {
          "output_type": "execute_result",
          "data": {
            "text/plain": [
              "         F1     F2     F3     F5     F6     F7  Label\n",
              "0     0.500  0.681  1.000  0.137  0.015  0.000      1\n",
              "1     0.000  0.340  0.500  0.137  0.000  0.000      0\n",
              "2     0.333  0.809  0.333  0.188  0.026  0.004      1\n",
              "3     0.000  0.255  0.250  0.211  0.000  0.000      0\n",
              "4     0.167  0.787  0.200  0.213  0.009  0.014      0\n",
              "...     ...    ...    ...    ...    ...    ...    ...\n",
              "9496  0.200  0.636  0.200  0.210  0.016  0.000      1\n",
              "9497  0.000  0.879  0.250  0.322  0.030  0.006      0\n",
              "9498  0.400  1.000  0.333  0.306  0.022  0.000      0\n",
              "9499  0.000  0.818  0.500  0.284  0.012  0.000      1\n",
              "9500  0.200  0.788  1.000  0.222  0.030  0.000      0\n",
              "\n",
              "[9501 rows x 7 columns]"
            ],
            "text/html": [
              "\n",
              "  <div id=\"df-8ad515c8-21ce-4850-bf7e-19b13a663440\">\n",
              "    <div class=\"colab-df-container\">\n",
              "      <div>\n",
              "<style scoped>\n",
              "    .dataframe tbody tr th:only-of-type {\n",
              "        vertical-align: middle;\n",
              "    }\n",
              "\n",
              "    .dataframe tbody tr th {\n",
              "        vertical-align: top;\n",
              "    }\n",
              "\n",
              "    .dataframe thead th {\n",
              "        text-align: right;\n",
              "    }\n",
              "</style>\n",
              "<table border=\"1\" class=\"dataframe\">\n",
              "  <thead>\n",
              "    <tr style=\"text-align: right;\">\n",
              "      <th></th>\n",
              "      <th>F1</th>\n",
              "      <th>F2</th>\n",
              "      <th>F3</th>\n",
              "      <th>F5</th>\n",
              "      <th>F6</th>\n",
              "      <th>F7</th>\n",
              "      <th>Label</th>\n",
              "    </tr>\n",
              "  </thead>\n",
              "  <tbody>\n",
              "    <tr>\n",
              "      <th>0</th>\n",
              "      <td>0.500</td>\n",
              "      <td>0.681</td>\n",
              "      <td>1.000</td>\n",
              "      <td>0.137</td>\n",
              "      <td>0.015</td>\n",
              "      <td>0.000</td>\n",
              "      <td>1</td>\n",
              "    </tr>\n",
              "    <tr>\n",
              "      <th>1</th>\n",
              "      <td>0.000</td>\n",
              "      <td>0.340</td>\n",
              "      <td>0.500</td>\n",
              "      <td>0.137</td>\n",
              "      <td>0.000</td>\n",
              "      <td>0.000</td>\n",
              "      <td>0</td>\n",
              "    </tr>\n",
              "    <tr>\n",
              "      <th>2</th>\n",
              "      <td>0.333</td>\n",
              "      <td>0.809</td>\n",
              "      <td>0.333</td>\n",
              "      <td>0.188</td>\n",
              "      <td>0.026</td>\n",
              "      <td>0.004</td>\n",
              "      <td>1</td>\n",
              "    </tr>\n",
              "    <tr>\n",
              "      <th>3</th>\n",
              "      <td>0.000</td>\n",
              "      <td>0.255</td>\n",
              "      <td>0.250</td>\n",
              "      <td>0.211</td>\n",
              "      <td>0.000</td>\n",
              "      <td>0.000</td>\n",
              "      <td>0</td>\n",
              "    </tr>\n",
              "    <tr>\n",
              "      <th>4</th>\n",
              "      <td>0.167</td>\n",
              "      <td>0.787</td>\n",
              "      <td>0.200</td>\n",
              "      <td>0.213</td>\n",
              "      <td>0.009</td>\n",
              "      <td>0.014</td>\n",
              "      <td>0</td>\n",
              "    </tr>\n",
              "    <tr>\n",
              "      <th>...</th>\n",
              "      <td>...</td>\n",
              "      <td>...</td>\n",
              "      <td>...</td>\n",
              "      <td>...</td>\n",
              "      <td>...</td>\n",
              "      <td>...</td>\n",
              "      <td>...</td>\n",
              "    </tr>\n",
              "    <tr>\n",
              "      <th>9496</th>\n",
              "      <td>0.200</td>\n",
              "      <td>0.636</td>\n",
              "      <td>0.200</td>\n",
              "      <td>0.210</td>\n",
              "      <td>0.016</td>\n",
              "      <td>0.000</td>\n",
              "      <td>1</td>\n",
              "    </tr>\n",
              "    <tr>\n",
              "      <th>9497</th>\n",
              "      <td>0.000</td>\n",
              "      <td>0.879</td>\n",
              "      <td>0.250</td>\n",
              "      <td>0.322</td>\n",
              "      <td>0.030</td>\n",
              "      <td>0.006</td>\n",
              "      <td>0</td>\n",
              "    </tr>\n",
              "    <tr>\n",
              "      <th>9498</th>\n",
              "      <td>0.400</td>\n",
              "      <td>1.000</td>\n",
              "      <td>0.333</td>\n",
              "      <td>0.306</td>\n",
              "      <td>0.022</td>\n",
              "      <td>0.000</td>\n",
              "      <td>0</td>\n",
              "    </tr>\n",
              "    <tr>\n",
              "      <th>9499</th>\n",
              "      <td>0.000</td>\n",
              "      <td>0.818</td>\n",
              "      <td>0.500</td>\n",
              "      <td>0.284</td>\n",
              "      <td>0.012</td>\n",
              "      <td>0.000</td>\n",
              "      <td>1</td>\n",
              "    </tr>\n",
              "    <tr>\n",
              "      <th>9500</th>\n",
              "      <td>0.200</td>\n",
              "      <td>0.788</td>\n",
              "      <td>1.000</td>\n",
              "      <td>0.222</td>\n",
              "      <td>0.030</td>\n",
              "      <td>0.000</td>\n",
              "      <td>0</td>\n",
              "    </tr>\n",
              "  </tbody>\n",
              "</table>\n",
              "<p>9501 rows × 7 columns</p>\n",
              "</div>\n",
              "      <button class=\"colab-df-convert\" onclick=\"convertToInteractive('df-8ad515c8-21ce-4850-bf7e-19b13a663440')\"\n",
              "              title=\"Convert this dataframe to an interactive table.\"\n",
              "              style=\"display:none;\">\n",
              "        \n",
              "  <svg xmlns=\"http://www.w3.org/2000/svg\" height=\"24px\"viewBox=\"0 0 24 24\"\n",
              "       width=\"24px\">\n",
              "    <path d=\"M0 0h24v24H0V0z\" fill=\"none\"/>\n",
              "    <path d=\"M18.56 5.44l.94 2.06.94-2.06 2.06-.94-2.06-.94-.94-2.06-.94 2.06-2.06.94zm-11 1L8.5 8.5l.94-2.06 2.06-.94-2.06-.94L8.5 2.5l-.94 2.06-2.06.94zm10 10l.94 2.06.94-2.06 2.06-.94-2.06-.94-.94-2.06-.94 2.06-2.06.94z\"/><path d=\"M17.41 7.96l-1.37-1.37c-.4-.4-.92-.59-1.43-.59-.52 0-1.04.2-1.43.59L10.3 9.45l-7.72 7.72c-.78.78-.78 2.05 0 2.83L4 21.41c.39.39.9.59 1.41.59.51 0 1.02-.2 1.41-.59l7.78-7.78 2.81-2.81c.8-.78.8-2.07 0-2.86zM5.41 20L4 18.59l7.72-7.72 1.47 1.35L5.41 20z\"/>\n",
              "  </svg>\n",
              "      </button>\n",
              "      \n",
              "  <style>\n",
              "    .colab-df-container {\n",
              "      display:flex;\n",
              "      flex-wrap:wrap;\n",
              "      gap: 12px;\n",
              "    }\n",
              "\n",
              "    .colab-df-convert {\n",
              "      background-color: #E8F0FE;\n",
              "      border: none;\n",
              "      border-radius: 50%;\n",
              "      cursor: pointer;\n",
              "      display: none;\n",
              "      fill: #1967D2;\n",
              "      height: 32px;\n",
              "      padding: 0 0 0 0;\n",
              "      width: 32px;\n",
              "    }\n",
              "\n",
              "    .colab-df-convert:hover {\n",
              "      background-color: #E2EBFA;\n",
              "      box-shadow: 0px 1px 2px rgba(60, 64, 67, 0.3), 0px 1px 3px 1px rgba(60, 64, 67, 0.15);\n",
              "      fill: #174EA6;\n",
              "    }\n",
              "\n",
              "    [theme=dark] .colab-df-convert {\n",
              "      background-color: #3B4455;\n",
              "      fill: #D2E3FC;\n",
              "    }\n",
              "\n",
              "    [theme=dark] .colab-df-convert:hover {\n",
              "      background-color: #434B5C;\n",
              "      box-shadow: 0px 1px 3px 1px rgba(0, 0, 0, 0.15);\n",
              "      filter: drop-shadow(0px 1px 2px rgba(0, 0, 0, 0.3));\n",
              "      fill: #FFFFFF;\n",
              "    }\n",
              "  </style>\n",
              "\n",
              "      <script>\n",
              "        const buttonEl =\n",
              "          document.querySelector('#df-8ad515c8-21ce-4850-bf7e-19b13a663440 button.colab-df-convert');\n",
              "        buttonEl.style.display =\n",
              "          google.colab.kernel.accessAllowed ? 'block' : 'none';\n",
              "\n",
              "        async function convertToInteractive(key) {\n",
              "          const element = document.querySelector('#df-8ad515c8-21ce-4850-bf7e-19b13a663440');\n",
              "          const dataTable =\n",
              "            await google.colab.kernel.invokeFunction('convertToInteractive',\n",
              "                                                     [key], {});\n",
              "          if (!dataTable) return;\n",
              "\n",
              "          const docLinkHtml = 'Like what you see? Visit the ' +\n",
              "            '<a target=\"_blank\" href=https://colab.research.google.com/notebooks/data_table.ipynb>data table notebook</a>'\n",
              "            + ' to learn more about interactive tables.';\n",
              "          element.innerHTML = '';\n",
              "          dataTable['output_type'] = 'display_data';\n",
              "          await google.colab.output.renderOutput(dataTable, element);\n",
              "          const docLink = document.createElement('div');\n",
              "          docLink.innerHTML = docLinkHtml;\n",
              "          element.appendChild(docLink);\n",
              "        }\n",
              "      </script>\n",
              "    </div>\n",
              "  </div>\n",
              "  "
            ]
          },
          "metadata": {},
          "execution_count": 38
        }
      ]
    },
    {
      "cell_type": "markdown",
      "source": [
        "<a name='tokenize_extraction'></a>\n",
        "### Tokenize extracted sentences"
      ],
      "metadata": {
        "id": "AOYHas5tDyuQ"
      }
    },
    {
      "cell_type": "code",
      "source": [
        "!pip install word2number\n",
        "from sklearn.feature_extraction.text import CountVectorizer\n",
        "from nltk.stem import WordNetLemmatizer\n",
        "from nltk.stem.snowball import SnowballStemmer\n",
        "count = CountVectorizer(stop_words='english')\n",
        "import pandas as pd\n",
        "df11 = pd.DataFrame(all_sentences)\n",
        "\n",
        "bag_of_words11 = count.fit_transform(df11.squeeze())# transform df to a series\n",
        "X = pd.DataFrame(bag_of_words11.toarray(),\n",
        "                  columns=count.get_feature_names_out())\n",
        "X"
      ],
      "metadata": {
        "id": "hNXNAA4D9HTz",
        "colab": {
          "base_uri": "https://localhost:8080/",
          "height": 459
        },
        "outputId": "a7f2f08b-94a4-4c43-e5ca-d0220d63e669"
      },
      "execution_count": null,
      "outputs": [
        {
          "output_type": "stream",
          "name": "stdout",
          "text": [
            "Looking in indexes: https://pypi.org/simple, https://us-python.pkg.dev/colab-wheels/public/simple/\n",
            "Requirement already satisfied: word2number in /usr/local/lib/python3.8/dist-packages (1.1)\n"
          ]
        },
        {
          "output_type": "execute_result",
          "data": {
            "text/plain": [
              "      00  000  000s  0051  007  01  028  04m  05  0530  ...  zip  zodiac  \\\n",
              "0      0    0     0     0    0   0    0    0   0     0  ...    0       0   \n",
              "1      0    0     0     0    0   0    0    0   0     0  ...    0       0   \n",
              "2      0    0     0     0    0   0    0    0   0     0  ...    0       0   \n",
              "3      0    0     0     0    0   0    0    0   0     0  ...    0       0   \n",
              "4      0    0     0     0    0   0    0    0   0     0  ...    0       0   \n",
              "...   ..  ...   ...   ...  ...  ..  ...  ...  ..   ...  ...  ...     ...   \n",
              "9496   0    0     0     0    0   0    0    0   0     0  ...    0       0   \n",
              "9497   0    0     0     0    0   0    0    0   0     0  ...    0       0   \n",
              "9498   0    0     0     0    0   0    0    0   0     0  ...    0       0   \n",
              "9499   0    0     0     0    0   0    0    0   0     0  ...    0       0   \n",
              "9500   0    0     0     0    0   0    0    0   0     0  ...    0       0   \n",
              "\n",
              "      zombie  zombies  zone  zonealarm  zones  zoom  zooms  zurich  \n",
              "0          0        0     0          0      0     0      0       0  \n",
              "1          0        0     0          0      0     0      0       0  \n",
              "2          0        0     0          0      0     0      0       0  \n",
              "3          0        0     0          0      0     0      0       0  \n",
              "4          0        0     0          0      0     0      0       0  \n",
              "...      ...      ...   ...        ...    ...   ...    ...     ...  \n",
              "9496       0        0     0          0      0     0      0       0  \n",
              "9497       0        0     0          0      0     0      0       0  \n",
              "9498       0        0     0          0      0     0      0       0  \n",
              "9499       0        0     0          0      0     0      0       0  \n",
              "9500       0        0     0          0      0     0      0       0  \n",
              "\n",
              "[9501 rows x 11597 columns]"
            ],
            "text/html": [
              "\n",
              "  <div id=\"df-85fa9e41-0cd9-4708-a1a3-78b9c55ba21b\">\n",
              "    <div class=\"colab-df-container\">\n",
              "      <div>\n",
              "<style scoped>\n",
              "    .dataframe tbody tr th:only-of-type {\n",
              "        vertical-align: middle;\n",
              "    }\n",
              "\n",
              "    .dataframe tbody tr th {\n",
              "        vertical-align: top;\n",
              "    }\n",
              "\n",
              "    .dataframe thead th {\n",
              "        text-align: right;\n",
              "    }\n",
              "</style>\n",
              "<table border=\"1\" class=\"dataframe\">\n",
              "  <thead>\n",
              "    <tr style=\"text-align: right;\">\n",
              "      <th></th>\n",
              "      <th>00</th>\n",
              "      <th>000</th>\n",
              "      <th>000s</th>\n",
              "      <th>0051</th>\n",
              "      <th>007</th>\n",
              "      <th>01</th>\n",
              "      <th>028</th>\n",
              "      <th>04m</th>\n",
              "      <th>05</th>\n",
              "      <th>0530</th>\n",
              "      <th>...</th>\n",
              "      <th>zip</th>\n",
              "      <th>zodiac</th>\n",
              "      <th>zombie</th>\n",
              "      <th>zombies</th>\n",
              "      <th>zone</th>\n",
              "      <th>zonealarm</th>\n",
              "      <th>zones</th>\n",
              "      <th>zoom</th>\n",
              "      <th>zooms</th>\n",
              "      <th>zurich</th>\n",
              "    </tr>\n",
              "  </thead>\n",
              "  <tbody>\n",
              "    <tr>\n",
              "      <th>0</th>\n",
              "      <td>0</td>\n",
              "      <td>0</td>\n",
              "      <td>0</td>\n",
              "      <td>0</td>\n",
              "      <td>0</td>\n",
              "      <td>0</td>\n",
              "      <td>0</td>\n",
              "      <td>0</td>\n",
              "      <td>0</td>\n",
              "      <td>0</td>\n",
              "      <td>...</td>\n",
              "      <td>0</td>\n",
              "      <td>0</td>\n",
              "      <td>0</td>\n",
              "      <td>0</td>\n",
              "      <td>0</td>\n",
              "      <td>0</td>\n",
              "      <td>0</td>\n",
              "      <td>0</td>\n",
              "      <td>0</td>\n",
              "      <td>0</td>\n",
              "    </tr>\n",
              "    <tr>\n",
              "      <th>1</th>\n",
              "      <td>0</td>\n",
              "      <td>0</td>\n",
              "      <td>0</td>\n",
              "      <td>0</td>\n",
              "      <td>0</td>\n",
              "      <td>0</td>\n",
              "      <td>0</td>\n",
              "      <td>0</td>\n",
              "      <td>0</td>\n",
              "      <td>0</td>\n",
              "      <td>...</td>\n",
              "      <td>0</td>\n",
              "      <td>0</td>\n",
              "      <td>0</td>\n",
              "      <td>0</td>\n",
              "      <td>0</td>\n",
              "      <td>0</td>\n",
              "      <td>0</td>\n",
              "      <td>0</td>\n",
              "      <td>0</td>\n",
              "      <td>0</td>\n",
              "    </tr>\n",
              "    <tr>\n",
              "      <th>2</th>\n",
              "      <td>0</td>\n",
              "      <td>0</td>\n",
              "      <td>0</td>\n",
              "      <td>0</td>\n",
              "      <td>0</td>\n",
              "      <td>0</td>\n",
              "      <td>0</td>\n",
              "      <td>0</td>\n",
              "      <td>0</td>\n",
              "      <td>0</td>\n",
              "      <td>...</td>\n",
              "      <td>0</td>\n",
              "      <td>0</td>\n",
              "      <td>0</td>\n",
              "      <td>0</td>\n",
              "      <td>0</td>\n",
              "      <td>0</td>\n",
              "      <td>0</td>\n",
              "      <td>0</td>\n",
              "      <td>0</td>\n",
              "      <td>0</td>\n",
              "    </tr>\n",
              "    <tr>\n",
              "      <th>3</th>\n",
              "      <td>0</td>\n",
              "      <td>0</td>\n",
              "      <td>0</td>\n",
              "      <td>0</td>\n",
              "      <td>0</td>\n",
              "      <td>0</td>\n",
              "      <td>0</td>\n",
              "      <td>0</td>\n",
              "      <td>0</td>\n",
              "      <td>0</td>\n",
              "      <td>...</td>\n",
              "      <td>0</td>\n",
              "      <td>0</td>\n",
              "      <td>0</td>\n",
              "      <td>0</td>\n",
              "      <td>0</td>\n",
              "      <td>0</td>\n",
              "      <td>0</td>\n",
              "      <td>0</td>\n",
              "      <td>0</td>\n",
              "      <td>0</td>\n",
              "    </tr>\n",
              "    <tr>\n",
              "      <th>4</th>\n",
              "      <td>0</td>\n",
              "      <td>0</td>\n",
              "      <td>0</td>\n",
              "      <td>0</td>\n",
              "      <td>0</td>\n",
              "      <td>0</td>\n",
              "      <td>0</td>\n",
              "      <td>0</td>\n",
              "      <td>0</td>\n",
              "      <td>0</td>\n",
              "      <td>...</td>\n",
              "      <td>0</td>\n",
              "      <td>0</td>\n",
              "      <td>0</td>\n",
              "      <td>0</td>\n",
              "      <td>0</td>\n",
              "      <td>0</td>\n",
              "      <td>0</td>\n",
              "      <td>0</td>\n",
              "      <td>0</td>\n",
              "      <td>0</td>\n",
              "    </tr>\n",
              "    <tr>\n",
              "      <th>...</th>\n",
              "      <td>...</td>\n",
              "      <td>...</td>\n",
              "      <td>...</td>\n",
              "      <td>...</td>\n",
              "      <td>...</td>\n",
              "      <td>...</td>\n",
              "      <td>...</td>\n",
              "      <td>...</td>\n",
              "      <td>...</td>\n",
              "      <td>...</td>\n",
              "      <td>...</td>\n",
              "      <td>...</td>\n",
              "      <td>...</td>\n",
              "      <td>...</td>\n",
              "      <td>...</td>\n",
              "      <td>...</td>\n",
              "      <td>...</td>\n",
              "      <td>...</td>\n",
              "      <td>...</td>\n",
              "      <td>...</td>\n",
              "      <td>...</td>\n",
              "    </tr>\n",
              "    <tr>\n",
              "      <th>9496</th>\n",
              "      <td>0</td>\n",
              "      <td>0</td>\n",
              "      <td>0</td>\n",
              "      <td>0</td>\n",
              "      <td>0</td>\n",
              "      <td>0</td>\n",
              "      <td>0</td>\n",
              "      <td>0</td>\n",
              "      <td>0</td>\n",
              "      <td>0</td>\n",
              "      <td>...</td>\n",
              "      <td>0</td>\n",
              "      <td>0</td>\n",
              "      <td>0</td>\n",
              "      <td>0</td>\n",
              "      <td>0</td>\n",
              "      <td>0</td>\n",
              "      <td>0</td>\n",
              "      <td>0</td>\n",
              "      <td>0</td>\n",
              "      <td>0</td>\n",
              "    </tr>\n",
              "    <tr>\n",
              "      <th>9497</th>\n",
              "      <td>0</td>\n",
              "      <td>0</td>\n",
              "      <td>0</td>\n",
              "      <td>0</td>\n",
              "      <td>0</td>\n",
              "      <td>0</td>\n",
              "      <td>0</td>\n",
              "      <td>0</td>\n",
              "      <td>0</td>\n",
              "      <td>0</td>\n",
              "      <td>...</td>\n",
              "      <td>0</td>\n",
              "      <td>0</td>\n",
              "      <td>0</td>\n",
              "      <td>0</td>\n",
              "      <td>0</td>\n",
              "      <td>0</td>\n",
              "      <td>0</td>\n",
              "      <td>0</td>\n",
              "      <td>0</td>\n",
              "      <td>0</td>\n",
              "    </tr>\n",
              "    <tr>\n",
              "      <th>9498</th>\n",
              "      <td>0</td>\n",
              "      <td>0</td>\n",
              "      <td>0</td>\n",
              "      <td>0</td>\n",
              "      <td>0</td>\n",
              "      <td>0</td>\n",
              "      <td>0</td>\n",
              "      <td>0</td>\n",
              "      <td>0</td>\n",
              "      <td>0</td>\n",
              "      <td>...</td>\n",
              "      <td>0</td>\n",
              "      <td>0</td>\n",
              "      <td>0</td>\n",
              "      <td>0</td>\n",
              "      <td>0</td>\n",
              "      <td>0</td>\n",
              "      <td>0</td>\n",
              "      <td>0</td>\n",
              "      <td>0</td>\n",
              "      <td>0</td>\n",
              "    </tr>\n",
              "    <tr>\n",
              "      <th>9499</th>\n",
              "      <td>0</td>\n",
              "      <td>0</td>\n",
              "      <td>0</td>\n",
              "      <td>0</td>\n",
              "      <td>0</td>\n",
              "      <td>0</td>\n",
              "      <td>0</td>\n",
              "      <td>0</td>\n",
              "      <td>0</td>\n",
              "      <td>0</td>\n",
              "      <td>...</td>\n",
              "      <td>0</td>\n",
              "      <td>0</td>\n",
              "      <td>0</td>\n",
              "      <td>0</td>\n",
              "      <td>0</td>\n",
              "      <td>0</td>\n",
              "      <td>0</td>\n",
              "      <td>0</td>\n",
              "      <td>0</td>\n",
              "      <td>0</td>\n",
              "    </tr>\n",
              "    <tr>\n",
              "      <th>9500</th>\n",
              "      <td>0</td>\n",
              "      <td>0</td>\n",
              "      <td>0</td>\n",
              "      <td>0</td>\n",
              "      <td>0</td>\n",
              "      <td>0</td>\n",
              "      <td>0</td>\n",
              "      <td>0</td>\n",
              "      <td>0</td>\n",
              "      <td>0</td>\n",
              "      <td>...</td>\n",
              "      <td>0</td>\n",
              "      <td>0</td>\n",
              "      <td>0</td>\n",
              "      <td>0</td>\n",
              "      <td>0</td>\n",
              "      <td>0</td>\n",
              "      <td>0</td>\n",
              "      <td>0</td>\n",
              "      <td>0</td>\n",
              "      <td>0</td>\n",
              "    </tr>\n",
              "  </tbody>\n",
              "</table>\n",
              "<p>9501 rows × 11597 columns</p>\n",
              "</div>\n",
              "      <button class=\"colab-df-convert\" onclick=\"convertToInteractive('df-85fa9e41-0cd9-4708-a1a3-78b9c55ba21b')\"\n",
              "              title=\"Convert this dataframe to an interactive table.\"\n",
              "              style=\"display:none;\">\n",
              "        \n",
              "  <svg xmlns=\"http://www.w3.org/2000/svg\" height=\"24px\"viewBox=\"0 0 24 24\"\n",
              "       width=\"24px\">\n",
              "    <path d=\"M0 0h24v24H0V0z\" fill=\"none\"/>\n",
              "    <path d=\"M18.56 5.44l.94 2.06.94-2.06 2.06-.94-2.06-.94-.94-2.06-.94 2.06-2.06.94zm-11 1L8.5 8.5l.94-2.06 2.06-.94-2.06-.94L8.5 2.5l-.94 2.06-2.06.94zm10 10l.94 2.06.94-2.06 2.06-.94-2.06-.94-.94-2.06-.94 2.06-2.06.94z\"/><path d=\"M17.41 7.96l-1.37-1.37c-.4-.4-.92-.59-1.43-.59-.52 0-1.04.2-1.43.59L10.3 9.45l-7.72 7.72c-.78.78-.78 2.05 0 2.83L4 21.41c.39.39.9.59 1.41.59.51 0 1.02-.2 1.41-.59l7.78-7.78 2.81-2.81c.8-.78.8-2.07 0-2.86zM5.41 20L4 18.59l7.72-7.72 1.47 1.35L5.41 20z\"/>\n",
              "  </svg>\n",
              "      </button>\n",
              "      \n",
              "  <style>\n",
              "    .colab-df-container {\n",
              "      display:flex;\n",
              "      flex-wrap:wrap;\n",
              "      gap: 12px;\n",
              "    }\n",
              "\n",
              "    .colab-df-convert {\n",
              "      background-color: #E8F0FE;\n",
              "      border: none;\n",
              "      border-radius: 50%;\n",
              "      cursor: pointer;\n",
              "      display: none;\n",
              "      fill: #1967D2;\n",
              "      height: 32px;\n",
              "      padding: 0 0 0 0;\n",
              "      width: 32px;\n",
              "    }\n",
              "\n",
              "    .colab-df-convert:hover {\n",
              "      background-color: #E2EBFA;\n",
              "      box-shadow: 0px 1px 2px rgba(60, 64, 67, 0.3), 0px 1px 3px 1px rgba(60, 64, 67, 0.15);\n",
              "      fill: #174EA6;\n",
              "    }\n",
              "\n",
              "    [theme=dark] .colab-df-convert {\n",
              "      background-color: #3B4455;\n",
              "      fill: #D2E3FC;\n",
              "    }\n",
              "\n",
              "    [theme=dark] .colab-df-convert:hover {\n",
              "      background-color: #434B5C;\n",
              "      box-shadow: 0px 1px 3px 1px rgba(0, 0, 0, 0.15);\n",
              "      filter: drop-shadow(0px 1px 2px rgba(0, 0, 0, 0.3));\n",
              "      fill: #FFFFFF;\n",
              "    }\n",
              "  </style>\n",
              "\n",
              "      <script>\n",
              "        const buttonEl =\n",
              "          document.querySelector('#df-85fa9e41-0cd9-4708-a1a3-78b9c55ba21b button.colab-df-convert');\n",
              "        buttonEl.style.display =\n",
              "          google.colab.kernel.accessAllowed ? 'block' : 'none';\n",
              "\n",
              "        async function convertToInteractive(key) {\n",
              "          const element = document.querySelector('#df-85fa9e41-0cd9-4708-a1a3-78b9c55ba21b');\n",
              "          const dataTable =\n",
              "            await google.colab.kernel.invokeFunction('convertToInteractive',\n",
              "                                                     [key], {});\n",
              "          if (!dataTable) return;\n",
              "\n",
              "          const docLinkHtml = 'Like what you see? Visit the ' +\n",
              "            '<a target=\"_blank\" href=https://colab.research.google.com/notebooks/data_table.ipynb>data table notebook</a>'\n",
              "            + ' to learn more about interactive tables.';\n",
              "          element.innerHTML = '';\n",
              "          dataTable['output_type'] = 'display_data';\n",
              "          await google.colab.output.renderOutput(dataTable, element);\n",
              "          const docLink = document.createElement('div');\n",
              "          docLink.innerHTML = docLinkHtml;\n",
              "          element.appendChild(docLink);\n",
              "        }\n",
              "      </script>\n",
              "    </div>\n",
              "  </div>\n",
              "  "
            ]
          },
          "metadata": {},
          "execution_count": 39
        }
      ]
    },
    {
      "cell_type": "markdown",
      "source": [
        "### Define loss and metric functions specific to our needs as shown in [this diagram](https://jamboard.google.com/d/1Y4RLqzei8dQ9WPPLmTcEcv2ox6RcYCrYjJrpkhGFx6Q/edit?usp=sharing)"
      ],
      "metadata": {
        "id": "V6YKkvJNAAWs"
      }
    },
    {
      "cell_type": "markdown",
      "source": [
        "### Build the Keras Neural Networks with the loss and metric functions"
      ],
      "metadata": {
        "id": "iIgpE_TiAJpg"
      }
    },
    {
      "cell_type": "code",
      "source": [
        "# Convolutional Neural Network\n",
        "# from keras.utils import plot_model\n",
        "from keras.utils.vis_utils import plot_model\n",
        "from keras.models import Model\n",
        "from keras.layers import Input\n",
        "from keras.layers import Dense\n",
        "from keras.layers import Flatten\n",
        "from keras.layers import Dropout\n",
        "from keras.layers.convolutional import Conv2D\n",
        "from keras.layers.pooling import MaxPooling2D,MaxPooling1D\n",
        "from IPython.display import SVG\n",
        "from keras.utils.vis_utils import model_to_dot\n",
        "\n",
        "from keras.models import Sequential\n",
        "from keras.layers import Dense\n",
        "import tensorflow as tf\n",
        "from tensorflow import keras\n"
      ],
      "metadata": {
        "id": "w0XYOVCgEh3l"
      },
      "execution_count": null,
      "outputs": []
    },
    {
      "cell_type": "code",
      "source": [
        "X.shape, y.shape, F_score.shape\n",
        "from sklearn.model_selection import train_test_split\n",
        "\n",
        "X_train, X_test, y_train, y_test = train_test_split(X, F_score, test_size=0.1, random_state=42)"
      ],
      "metadata": {
        "id": "TcWkl-qiE8Cp"
      },
      "execution_count": null,
      "outputs": []
    },
    {
      "cell_type": "code",
      "source": [
        "model = keras.models.Sequential()\n",
        "input_size = X.shape[1]\n",
        "model.add(Dense(input_size//2, input_dim=input_size, activation='relu'))\n",
        "model.add(Dense(1024, activation='relu'))\n",
        "model.add(Dense(128, activation='relu'))\n",
        "model.add(Dense(6, activation='softmax'))"
      ],
      "metadata": {
        "id": "_MsfQ77egbkK"
      },
      "execution_count": null,
      "outputs": []
    },
    {
      "cell_type": "code",
      "source": [
        "model.summary()"
      ],
      "metadata": {
        "id": "9yeNDizEgeSh",
        "colab": {
          "base_uri": "https://localhost:8080/"
        },
        "outputId": "2c1c6c7c-0ebf-43b7-decb-9635ccf94fc4"
      },
      "execution_count": null,
      "outputs": [
        {
          "output_type": "stream",
          "name": "stdout",
          "text": [
            "Model: \"sequential_2\"\n",
            "_________________________________________________________________\n",
            " Layer (type)                Output Shape              Param #   \n",
            "=================================================================\n",
            " dense_8 (Dense)             (None, 5798)              67245204  \n",
            "                                                                 \n",
            " dense_9 (Dense)             (None, 1024)              5938176   \n",
            "                                                                 \n",
            " dense_10 (Dense)            (None, 128)               131200    \n",
            "                                                                 \n",
            " dense_11 (Dense)            (None, 6)                 774       \n",
            "                                                                 \n",
            "=================================================================\n",
            "Total params: 73,315,354\n",
            "Trainable params: 73,315,354\n",
            "Non-trainable params: 0\n",
            "_________________________________________________________________\n"
          ]
        }
      ]
    },
    {
      "cell_type": "code",
      "source": [
        "tf.config.run_functions_eagerly(True)\n",
        "from tensorflow.keras import backend as K\n",
        "weights_ = []\n",
        "\n",
        "def custom_loss(F_scores, weights):\n",
        "    indices = [6]\n",
        "    weights_.append(weights.numpy())\n",
        "    y_true = tf.gather(F_scores, indices, axis=1)\n",
        "\n",
        "    f_indices = [0,1,2,3,4,5]\n",
        "    f_weights = tf.gather(F_scores, f_indices, axis=1)\n",
        "    # print(f_weights.shape, weights.shape)\n",
        "    num = tf.reduce_sum(f_weights * weights, 1)\n",
        "    den = tf.reduce_sum(weights, 1)\n",
        "\n",
        "    y_pred = tf.divide(num,den)\n",
        "\n",
        "    bce = tf.keras.losses.BinaryCrossentropy(from_logits=False)\n",
        "\n",
        "    loss = bce(y_true, y_pred)\n",
        "    return loss\n",
        "\n",
        "model.compile(loss=custom_loss, optimizer='adam')\n",
        "\n",
        "# tf.config.run_functions_eagerly(True)\n",
        "# from tensorflow.keras import backend as K\n",
        "# weights_ = []\n",
        "\n",
        "# def custom_loss(F_scores, weights):\n",
        "#     indices = [0]\n",
        "#     weights_.append(weights.numpy())\n",
        "\n",
        "#     col1 = tf.gather(F_scores, indices, axis=1)\n",
        "#     new_indices = []\n",
        "#     for i in range(len(col1)):\n",
        "#       new_indices.append(int(col1[i].numpy()[0]))\n",
        "\n",
        "#     y_true = y.iloc[new_indices]\n",
        "#     #print(y_true)\n",
        "#     f_weights = tf.gather(F_scores, [0,1,2,3,4,5], axis=1)\n",
        "#     f_weights = tf.concat([tf.subtract(col1, tf.math.floor(col1)),f_weights[:,1:] ], 1)\n",
        "#     #print(f_weights.shape, weights.shape)\n",
        "#     #print(f_weights)\n",
        "#     num = tf.reduce_sum(f_weights * weights, 1)\n",
        "#     den = tf.reduce_sum(weights, 1)\n",
        "\n",
        "#     y_pred = tf.divide(num,den)\n",
        "\n",
        "#     bce = tf.keras.losses.BinaryCrossentropy(from_logits=False)\n",
        "\n",
        "#     loss = bce(y_true, y_pred)\n",
        "#     return loss\n",
        "\n",
        "model.compile(loss=custom_loss, optimizer='adam')"
      ],
      "metadata": {
        "id": "IgNDBdrMgeYK"
      },
      "execution_count": null,
      "outputs": []
    },
    {
      "cell_type": "markdown",
      "source": [
        "### Train the model with summary data and find out the what each of the weights converge to"
      ],
      "metadata": {
        "id": "Ur-BKTH9gxld"
      }
    },
    {
      "cell_type": "code",
      "source": [
        "# fit the keras model on the dataset\n",
        "# print(F_score)\n",
        "# F_score['F1'] = F_score.index + F_score['F1']\n",
        "history = model.fit(X_train, y_train, epochs=30, batch_size=64)\n"
      ],
      "metadata": {
        "id": "gUEHTdHXgebI",
        "colab": {
          "base_uri": "https://localhost:8080/"
        },
        "outputId": "1d8e836b-d9be-4f02-ce3a-05f2fc48f702"
      },
      "execution_count": null,
      "outputs": [
        {
          "output_type": "stream",
          "name": "stderr",
          "text": [
            "/usr/local/lib/python3.8/dist-packages/tensorflow/python/data/ops/structured_function.py:264: UserWarning: Even though the `tf.config.experimental_run_functions_eagerly` option is set, this option does not apply to tf.data functions. To force eager execution of tf.data functions, please use `tf.data.experimental.enable_debug_mode()`.\n",
            "  warnings.warn(\n"
          ]
        },
        {
          "output_type": "stream",
          "name": "stdout",
          "text": [
            "Epoch 1/30\n",
            "  1/134 [..............................] - ETA: 16s - loss: 0.1762"
          ]
        },
        {
          "output_type": "stream",
          "name": "stderr",
          "text": [
            "/usr/local/lib/python3.8/dist-packages/tensorflow/python/data/ops/structured_function.py:264: UserWarning: Even though the `tf.config.experimental_run_functions_eagerly` option is set, this option does not apply to tf.data functions. To force eager execution of tf.data functions, please use `tf.data.experimental.enable_debug_mode()`.\n",
            "  warnings.warn(\n"
          ]
        },
        {
          "output_type": "stream",
          "name": "stdout",
          "text": [
            "134/134 [==============================] - 5s 37ms/step - loss: 0.2644\n",
            "Epoch 2/30\n",
            "134/134 [==============================] - 5s 37ms/step - loss: 0.2672\n",
            "Epoch 3/30\n",
            "134/134 [==============================] - 5s 38ms/step - loss: 0.2632\n",
            "Epoch 4/30\n",
            "134/134 [==============================] - 5s 36ms/step - loss: 0.2574\n",
            "Epoch 5/30\n",
            "134/134 [==============================] - 5s 36ms/step - loss: 0.2588\n",
            "Epoch 6/30\n",
            "134/134 [==============================] - 5s 37ms/step - loss: 0.2609\n",
            "Epoch 7/30\n",
            "134/134 [==============================] - 5s 36ms/step - loss: 0.2615\n",
            "Epoch 8/30\n",
            "134/134 [==============================] - 5s 36ms/step - loss: 0.2790\n",
            "Epoch 9/30\n",
            "134/134 [==============================] - 5s 36ms/step - loss: 0.2660\n",
            "Epoch 10/30\n",
            "134/134 [==============================] - 5s 36ms/step - loss: 0.2641\n",
            "Epoch 11/30\n",
            "134/134 [==============================] - 5s 37ms/step - loss: 0.2622\n",
            "Epoch 12/30\n",
            "134/134 [==============================] - 5s 36ms/step - loss: 0.2660\n",
            "Epoch 13/30\n",
            "134/134 [==============================] - 5s 36ms/step - loss: 0.2614\n",
            "Epoch 14/30\n",
            "134/134 [==============================] - 6s 42ms/step - loss: 0.2654\n",
            "Epoch 15/30\n",
            "134/134 [==============================] - 5s 36ms/step - loss: 0.2695\n",
            "Epoch 16/30\n",
            "134/134 [==============================] - 5s 36ms/step - loss: 0.2806\n",
            "Epoch 17/30\n",
            "134/134 [==============================] - 5s 36ms/step - loss: 0.2760\n",
            "Epoch 18/30\n",
            "134/134 [==============================] - 5s 37ms/step - loss: 0.2668\n",
            "Epoch 19/30\n",
            "134/134 [==============================] - 5s 36ms/step - loss: 0.2672\n",
            "Epoch 20/30\n",
            "134/134 [==============================] - 5s 36ms/step - loss: 0.2644\n",
            "Epoch 21/30\n",
            "134/134 [==============================] - 5s 36ms/step - loss: 0.2711\n",
            "Epoch 22/30\n",
            "134/134 [==============================] - 5s 36ms/step - loss: 0.2678\n",
            "Epoch 23/30\n",
            "134/134 [==============================] - 5s 36ms/step - loss: 0.2636\n",
            "Epoch 24/30\n",
            "134/134 [==============================] - 5s 36ms/step - loss: 0.2635\n",
            "Epoch 25/30\n",
            "134/134 [==============================] - 5s 36ms/step - loss: 0.2636\n",
            "Epoch 26/30\n",
            "134/134 [==============================] - 5s 36ms/step - loss: 0.2623\n",
            "Epoch 27/30\n",
            "134/134 [==============================] - 5s 36ms/step - loss: 0.2818\n",
            "Epoch 28/30\n",
            "134/134 [==============================] - 5s 36ms/step - loss: 0.2715\n",
            "Epoch 29/30\n",
            "134/134 [==============================] - 5s 36ms/step - loss: 0.2572\n",
            "Epoch 30/30\n",
            "134/134 [==============================] - 5s 36ms/step - loss: 0.2571\n"
          ]
        }
      ]
    },
    {
      "cell_type": "code",
      "source": [
        "new_weights = []\n",
        "for i in range(0 , len(weights_), 134):\n",
        "  new_weights.append(weights_[i:i+134])"
      ],
      "metadata": {
        "id": "SJvLN5G8gm6F"
      },
      "execution_count": null,
      "outputs": []
    },
    {
      "cell_type": "code",
      "source": [
        "epoch_weight = []\n",
        "for epoch in new_weights:\n",
        "  final = []\n",
        "  for step in epoch:\n",
        "    new_sum = [sum(x) for x in zip(*step)]\n",
        "    new_sum = [x/64 for x in new_sum]\n",
        "    final.append(new_sum)\n",
        "  epoch_sum = [sum(x) for x in zip(*final)]\n",
        "  epoch_sum = [x/134 for x in epoch_sum]\n",
        "  epoch_weight.append(epoch_sum)"
      ],
      "metadata": {
        "id": "whq3RQhJgm-G"
      },
      "execution_count": null,
      "outputs": []
    },
    {
      "cell_type": "code",
      "source": [
        "import gc\n",
        "collected = gc.collect()\n",
        "print(\"Garbage collector: collected\",\n",
        "          \"%d objects.\" % collected)"
      ],
      "metadata": {
        "id": "F_G8QgoPgsL0",
        "colab": {
          "base_uri": "https://localhost:8080/"
        },
        "outputId": "fc86f42e-cf92-4a90-ce53-e6e7b6904ee3"
      },
      "execution_count": null,
      "outputs": [
        {
          "output_type": "stream",
          "name": "stdout",
          "text": [
            "Garbage collector: collected 0 objects.\n"
          ]
        }
      ]
    },
    {
      "cell_type": "code",
      "source": [
        "w1, w2, w3, w4, w5, w6 = [], [], [], [], [], []\n",
        "for w in epoch_weight:\n",
        "  w1.append(w[0])\n",
        "  w2.append(w[1])\n",
        "  w3.append(w[2])\n",
        "  w4.append(w[3])\n",
        "  w5.append(w[4])\n",
        "  w6.append(w[5])"
      ],
      "metadata": {
        "id": "CsurfQtSgnCc"
      },
      "execution_count": null,
      "outputs": []
    },
    {
      "cell_type": "markdown",
      "source": [
        "### Plot the weights as training goes one similar to the following:"
      ],
      "metadata": {
        "id": "tNJMj5Slg01h"
      }
    },
    {
      "cell_type": "code",
      "source": [
        "x_axis = [i for i in range(30)]\n",
        "plt.plot(x_axis, w1)\n",
        "plt.plot(x_axis, w2)\n",
        "plt.plot(x_axis, w3)\n",
        "plt.plot(x_axis, w4)\n",
        "plt.plot(x_axis, w5)\n",
        "plt.plot(x_axis, w6)\n",
        "plt.legend(['w1', 'w2', 'w3', 'w4', 'w5', 'w6'],loc='upper left')\n",
        "plt.xlabel(\"Epochs\")\n",
        "plt.ylabel('Weights')\n",
        "plt.show()"
      ],
      "metadata": {
        "id": "-EfFCFCZgsPF",
        "colab": {
          "base_uri": "https://localhost:8080/",
          "height": 279
        },
        "outputId": "80d661b5-f9d7-43e7-848d-fd5ed42493bd"
      },
      "execution_count": null,
      "outputs": [
        {
          "output_type": "display_data",
          "data": {
            "text/plain": [
              "<Figure size 432x288 with 1 Axes>"
            ],
            "image/png": "[encoded data removed]"
          },
          "metadata": {
            "needs_background": "light"
          }
        }
      ]
    },
    {
      "cell_type": "markdown",
      "source": [
        "### Repeat the process for 10 or more times and summarize what does each weight converge to in a table (or similar) below.\n",
        "\n",
        "### Provide your reasons for arriving at your conclusion"
      ],
      "metadata": {
        "id": "4gGodgJOECLi"
      }
    },
    {
      "cell_type": "code",
      "source": [
        "def repeat_10_times():\n",
        "  collected = gc.collect()\n",
        "  print(\"Garbage collector: collected\",\n",
        "          \"%d objects.\" % collected)\n",
        "  epochs = 30\n",
        "  history = model.fit(X_train, y_train, epochs=epochs, batch_size=64, verbose=0)\n",
        "\n",
        "  new_weights = []\n",
        "  for i in range(0, len(weights_), 134):\n",
        "    new_weights.append(weights_[i:i+134])\n",
        "\n",
        "  epoch_weight = []\n",
        "  for epoch in new_weights:\n",
        "    final = []\n",
        "    for step in epoch:\n",
        "      new_sum = [sum(x) for x in zip(*step)]\n",
        "      new_sum = [x/64 for x in new_sum]\n",
        "      final.append(new_sum)\n",
        "    epoch_sum = [sum(x) for x in zip(*final)]\n",
        "    epoch_sum = [x/134 for x in epoch_sum]\n",
        "    epoch_weight.append(epoch_sum)\n",
        "\n",
        "  w1, w2, w3, w4, w5, w6 = [], [], [], [], [], []\n",
        "  for w in epoch_weight:\n",
        "    w1.append(w[0])\n",
        "    w2.append(w[1])\n",
        "    w3.append(w[2])\n",
        "    w4.append(w[3])\n",
        "    w5.append(w[4])\n",
        "    w6.append(w[5])\n",
        "\n",
        "  return w1[-1], w2[-1], w3[-1], w4[-1], w5[-1], w6[-1]"
      ],
      "metadata": {
        "id": "yS4YeMP39nrE"
      },
      "execution_count": null,
      "outputs": []
    },
    {
      "cell_type": "code",
      "source": [
        "fw1, fw2, fw3, fw4, fw5, fw6 = [], [], [], [], [], []\n",
        "for i in range(10):\n",
        "  weights_ = []\n",
        "  f1, f2, f3, f4, f5, f6 = repeat_10_times()\n",
        "  fw1.append(f1)\n",
        "  fw2.append(f2)\n",
        "  fw3.append(f3)\n",
        "  fw4.append(f4)\n",
        "  fw5.append(f5)\n",
        "  fw6.append(f6)"
      ],
      "metadata": {
        "colab": {
          "base_uri": "https://localhost:8080/"
        },
        "id": "PWZua74K-d0_",
        "outputId": "4c00674d-7e3e-4260-8410-bb52dd72f3cf"
      },
      "execution_count": null,
      "outputs": [
        {
          "output_type": "stream",
          "name": "stdout",
          "text": [
            "Garbage collector: collected 0 objects.\n"
          ]
        },
        {
          "output_type": "stream",
          "name": "stderr",
          "text": [
            "/usr/local/lib/python3.8/dist-packages/tensorflow/python/data/ops/structured_function.py:264: UserWarning: Even though the `tf.config.experimental_run_functions_eagerly` option is set, this option does not apply to tf.data functions. To force eager execution of tf.data functions, please use `tf.data.experimental.enable_debug_mode()`.\n",
            "  warnings.warn(\n"
          ]
        },
        {
          "output_type": "stream",
          "name": "stdout",
          "text": [
            "Garbage collector: collected 1041 objects.\n"
          ]
        },
        {
          "output_type": "stream",
          "name": "stderr",
          "text": [
            "/usr/local/lib/python3.8/dist-packages/tensorflow/python/data/ops/structured_function.py:264: UserWarning: Even though the `tf.config.experimental_run_functions_eagerly` option is set, this option does not apply to tf.data functions. To force eager execution of tf.data functions, please use `tf.data.experimental.enable_debug_mode()`.\n",
            "  warnings.warn(\n"
          ]
        },
        {
          "output_type": "stream",
          "name": "stdout",
          "text": [
            "Garbage collector: collected 798 objects.\n"
          ]
        },
        {
          "output_type": "stream",
          "name": "stderr",
          "text": [
            "/usr/local/lib/python3.8/dist-packages/tensorflow/python/data/ops/structured_function.py:264: UserWarning: Even though the `tf.config.experimental_run_functions_eagerly` option is set, this option does not apply to tf.data functions. To force eager execution of tf.data functions, please use `tf.data.experimental.enable_debug_mode()`.\n",
            "  warnings.warn(\n"
          ]
        },
        {
          "output_type": "stream",
          "name": "stdout",
          "text": [
            "Garbage collector: collected 826 objects.\n"
          ]
        },
        {
          "output_type": "stream",
          "name": "stderr",
          "text": [
            "/usr/local/lib/python3.8/dist-packages/tensorflow/python/data/ops/structured_function.py:264: UserWarning: Even though the `tf.config.experimental_run_functions_eagerly` option is set, this option does not apply to tf.data functions. To force eager execution of tf.data functions, please use `tf.data.experimental.enable_debug_mode()`.\n",
            "  warnings.warn(\n"
          ]
        },
        {
          "output_type": "stream",
          "name": "stdout",
          "text": [
            "Garbage collector: collected 926 objects.\n"
          ]
        },
        {
          "output_type": "stream",
          "name": "stderr",
          "text": [
            "/usr/local/lib/python3.8/dist-packages/tensorflow/python/data/ops/structured_function.py:264: UserWarning: Even though the `tf.config.experimental_run_functions_eagerly` option is set, this option does not apply to tf.data functions. To force eager execution of tf.data functions, please use `tf.data.experimental.enable_debug_mode()`.\n",
            "  warnings.warn(\n"
          ]
        }
      ]
    },
    {
      "cell_type": "markdown",
      "source": [
        "All the weights are converging to similar values after 10 runs"
      ],
      "metadata": {
        "id": "dEoEQAjY2-w-"
      }
    },
    {
      "cell_type": "markdown",
      "source": [
        "* W1, W5, and W6 all converge to 0  \n",
        "   * Title features, proper nouns, numerical data\n",
        "* W3 and W4 are given equal importance\n",
        "   * Sentence position and term weight\n",
        "* W2 is given the highest importance\n",
        "   * Sentence length\n",
        "* This makes sense that some features would converge to 0, mostly special cases like proper nouns and numerical data.\n",
        "* Seems like sentence length is given a higher rank than sentence position, which was surprising to see\n"
      ],
      "metadata": {
        "id": "XYF8z6jWv4yF"
      }
    },
    {
      "cell_type": "markdown",
      "source": [
        "### Show the classification report of your trained model.    \n",
        "### Comment on how many of your representative sentences actually show up in the Summary section."
      ],
      "metadata": {
        "id": "-rsYzvr-hoj2"
      }
    },
    {
      "cell_type": "code",
      "source": [
        "from sklearn.metrics import classification_report"
      ],
      "metadata": {
        "id": "mOWfNnbjguqt"
      },
      "execution_count": null,
      "outputs": []
    },
    {
      "cell_type": "code",
      "source": [
        "y_pred = model.predict(X_test, batch_size=64, verbose=1)"
      ],
      "metadata": {
        "id": "uWbiDfT8guuj",
        "colab": {
          "base_uri": "https://localhost:8080/"
        },
        "outputId": "2dc8e167-8478-4d58-da0d-d663a0ba0407"
      },
      "execution_count": null,
      "outputs": [
        {
          "output_type": "stream",
          "name": "stdout",
          "text": [
            "15/15 [==============================] - 0s 10ms/step\n"
          ]
        },
        {
          "output_type": "stream",
          "name": "stderr",
          "text": [
            "/usr/local/lib/python3.8/dist-packages/tensorflow/python/data/ops/structured_function.py:264: UserWarning: Even though the `tf.config.experimental_run_functions_eagerly` option is set, this option does not apply to tf.data functions. To force eager execution of tf.data functions, please use `tf.data.experimental.enable_debug_mode()`.\n",
            "  warnings.warn(\n"
          ]
        }
      ]
    },
    {
      "cell_type": "code",
      "source": [
        "y_pred_df = pd.DataFrame(y_pred)\n",
        "y_test_F = y_test[['F1', 'F2', 'F3', 'F5', 'F6', 'F7']]\n",
        "true_y_test = y_test['Label']\n"
      ],
      "metadata": {
        "id": "FR040GJWuJOb"
      },
      "execution_count": null,
      "outputs": []
    },
    {
      "cell_type": "code",
      "source": [
        "multiplied = pd.DataFrame(y_pred_df.values*y_test_F.values, columns=y_test_F.columns, index=y_test_F.index)\n",
        "y_pred_sum = [sum(x) for x in y_pred]\n",
        "multiplied['sum'] = multiplied.sum(axis=1)\n",
        "y_pred_final = np.array(multiplied['sum']/y_pred_sum)\n",
        "y_pred_ = []\n",
        "for x in y_pred_final:\n",
        "  if x > 0.2:\n",
        "    y_pred_.append(1)\n",
        "  else:\n",
        "    y_pred_.append(0)"
      ],
      "metadata": {
        "id": "PSSoNDWzuKGd"
      },
      "execution_count": null,
      "outputs": []
    },
    {
      "cell_type": "code",
      "source": [
        "print(classification_report(true_y_test, y_pred_))"
      ],
      "metadata": {
        "colab": {
          "base_uri": "https://localhost:8080/"
        },
        "id": "iEx8UcnBuNC_",
        "outputId": "fa21f628-0666-42bf-c70f-05a7310a7fed"
      },
      "execution_count": null,
      "outputs": [
        {
          "output_type": "stream",
          "name": "stdout",
          "text": [
            "              precision    recall  f1-score   support\n",
            "\n",
            "           0       0.79      0.71      0.75       584\n",
            "           1       0.60      0.70      0.65       367\n",
            "\n",
            "    accuracy                           0.71       951\n",
            "   macro avg       0.70      0.71      0.70       951\n",
            "weighted avg       0.72      0.71      0.71       951\n",
            "\n"
          ]
        }
      ]
    },
    {
      "cell_type": "markdown",
      "source": [
        "<a name='grid'></a>\n",
        "### Use Grid search with hyperparameter to find an optimal NN\n",
        "- must have at least 4 parameters with 3 variations or more on each parameter.   \n",
        "- Show the optimal paramter set and the optimal results with the optimal grid hyperparameters (in the form of a classification report, F1 score)"
      ],
      "metadata": {
        "id": "WEVcDCckHJCP"
      }
    },
    {
      "cell_type": "code",
      "source": [
        "def create_model(activation, dropout_rate):\n",
        "  model = keras.models.Sequential()\n",
        "  input_size = X.shape[1]\n",
        "  model.add(Dense(input_size//2, input_dim=input_size, activation=activation))\n",
        "  model.add(Dropout(dropout_rate))\n",
        "  model.add(Dense(1024, activation=activation))\n",
        "  model.add(Dropout(dropout_rate))\n",
        "  model.add(Dense(128, activation=activation))\n",
        "  model.add(Dense(6, activation='softmax'))\n",
        "  model.compile(loss=custom_loss, optimizer='adam')\n",
        "  return model"
      ],
      "metadata": {
        "id": "IREJKUFDNvTi"
      },
      "execution_count": null,
      "outputs": []
    },
    {
      "cell_type": "code",
      "source": [
        "!pip install scikeras"
      ],
      "metadata": {
        "id": "qUlP0jMXNxQ_"
      },
      "execution_count": null,
      "outputs": []
    },
    {
      "cell_type": "code",
      "source": [
        "from sklearn.model_selection import GridSearchCV\n",
        "from scikeras.wrappers import KerasClassifier, KerasRegressor\n",
        "\n",
        "tuned_parameters= {\n",
        "   'epochs': [10,20,25],\n",
        "   'optimizer__learning_rate': [0.001,0.01,0.1],\n",
        "   'model__activation': ['sigmoid', 'relu', 'tanh'],\n",
        "   'model__dropout_rate': [0.1, 0.2, 0.3],\n",
        "}"
      ],
      "metadata": {
        "id": "H1mRPJwmMfuW"
      },
      "execution_count": null,
      "outputs": []
    },
    {
      "cell_type": "code",
      "source": [
        "from sklearn.model_selection import KFold\n",
        "keras_clf = KerasClassifier(model = create_model, verbose=0)\n",
        "\n",
        "clf = GridSearchCV(estimator=keras_clf, param_grid=tuned_parameters, cv=KFold(), verbose=0)\n",
        "\n",
        "clf.fit(X, y)"
      ],
      "metadata": {
        "id": "zinjoBPuMhBW",
        "colab": {
          "base_uri": "https://localhost:8080/",
          "height": 131
        },
        "outputId": "1ad7272d-336b-4e56-f080-d4d6705c0ab5"
      },
      "execution_count": null,
      "outputs": [
        {
          "output_type": "error",
          "ename": "SyntaxError",
          "evalue": "ignored",
          "traceback": [
            "\u001b[0;36m  File \u001b[0;32m\"<ipython-input-49-0385a3996caa>\"\u001b[0;36m, line \u001b[0;32m1\u001b[0m\n\u001b[0;31m    clf = GridSearchCV(estimator=model, tuned_parameters, n_jobs=-1, cv=5, verbose=0)\u001b[0m\n\u001b[0m                                        ^\u001b[0m\n\u001b[0;31mSyntaxError\u001b[0m\u001b[0;31m:\u001b[0m positional argument follows keyword argument\n"
          ]
        }
      ]
    },
    {
      "cell_type": "code",
      "source": [
        "print(\"Best parameters set found on development set:\")\n",
        "print()\n",
        "print(clf.best_params_)\n",
        "print('yields the best score: %.3f' %(clf.best_score_))\n",
        "print()\n",
        "print(\"Grid scores on development set:\")\n",
        "print()\n",
        "means = clf.cv_results_['mean_test_score']\n",
        "stds = clf.cv_results_['std_test_score']\n",
        "for mean, std, params in zip(means, stds, clf.cv_results_['params']):\n",
        "    print(\"%0.3f (+/-%0.03f) for %r\"\n",
        "          % (mean, std * 2, params))"
      ],
      "metadata": {
        "id": "rF_j26CZMk5M"
      },
      "execution_count": null,
      "outputs": []
    },
    {
      "cell_type": "markdown",
      "source": [
        "Due to Google Colab RAM limits, we were unable to fully run the code for its ideal hyperparameters. During test runs, the fitting on the Grid Search CV would take up to an hour and then cancel due to high usage on RAM. Taking it slow with n_jobs=1 took up to more than 6 hours with no results in sight."
      ],
      "metadata": {
        "id": "xTGWYKJA8U3B"
      }
    },
    {
      "cell_type": "markdown",
      "source": [
        "# The following are optional bonus parts\n",
        "### Must indicate clearly who collaborate for each optional part (if any)"
      ],
      "metadata": {
        "id": "Q5WYovVIHM7s"
      }
    },
    {
      "cell_type": "markdown",
      "source": [
        "### Use the pre-trained model TextRank to extract the most importatn sentence from each article of your given domain\n",
        "### Show your TextRank results in the form of a classification report\n",
        "### Compare and comment on the result with that from the weighted feature score approach.   - Shruti Sharma\n"
      ],
      "metadata": {
        "id": "cD6B3XVTHPG8"
      }
    },
    {
      "cell_type": "code",
      "source": [
        "from sklearn.metrics import classification_report\n",
        "## for textrank\n",
        "import gensim  #(3.8.1)\n",
        "\n",
        "def textrank(corpus, ratio=0.3):\n",
        "    if type(corpus) is str:\n",
        "       corpus = [corpus]\n",
        "    lst_summaries = []\n",
        "    all_summaries = []\n",
        "    for txt in corpus:\n",
        "      summary = gensim.summarization.summarize(\" \".join(txt),\n",
        "                      ratio=ratio, split=\"True\")\n",
        "      all_summaries.append(summary)\n",
        "      if len(summary) > 0:\n",
        "        lst_summaries.append(summary[0])\n",
        "      else:\n",
        "        lst_summaries.append(\"\")\n",
        "    return lst_summaries, all_summaries"
      ],
      "metadata": {
        "id": "RS8wO0uWHR99"
      },
      "execution_count": null,
      "outputs": []
    },
    {
      "cell_type": "code",
      "source": [
        "predicted, txt_rank_summaries = textrank(corpus=sents, ratio=0.13)\n",
        "count = 0\n",
        "pred_y = []\n",
        "y_true = []\n",
        "for i in range(len(sents)):\n",
        "  doc = sents[i]\n",
        "  for sent in doc:\n",
        "    pred_y.append(getLabel(i,sent,txt_rank_summaries))\n",
        "    y_true.append(getLabel(i,sent,summaries))\n",
        "target_names = [\"Not in Summary\",\"In Summary\"]\n",
        "print(classification_report(y_true, pred_y, target_names=target_names))"
      ],
      "metadata": {
        "id": "gI2UzrYaHRnO"
      },
      "execution_count": null,
      "outputs": []
    },
    {
      "cell_type": "markdown",
      "source": [
        "### Use the pre-trained model TFHub to extract the most importatn sentence from each article of your given domain.\n",
        "### Use the article title sentence as the topic sentence for this application\n",
        "### Show your TFHub results in the form of a classification report (F1-score)\n",
        "### Compare and comment on the result with that from the weighted feature score approach."
      ],
      "metadata": {
        "id": "PzhAqVJEHSTR"
      }
    },
    {
      "cell_type": "code",
      "source": [],
      "metadata": {
        "id": "AeGXSzX9HV_l"
      },
      "execution_count": null,
      "outputs": []
    },
    {
      "cell_type": "code",
      "source": [],
      "metadata": {
        "id": "8XllVIkAHVzw"
      },
      "execution_count": null,
      "outputs": []
    },
    {
      "cell_type": "markdown",
      "source": [
        "### Add the following additional feature to your feature list and repeat your NN training to see if there is any change in the final weights\n",
        "### (a) Sentence to Sentence Similarity\n",
        "This  feature  is  a  similarity  between  sentences.  For  each\n",
        "sentence S, the similarity between S and each other sentence is\n",
        "computed  by  the  cosine  similarity  measure  with  a  resulting\n",
        "value between 0 and 1.   \n",
        "The  score  of  this  feature  for  a  sentence  S  is  obtained  by\n",
        "computing the ratio of the summary of sentence similarity of\n",
        "sentence  S  with  each  other  sentence  over  the  maximum  of\n",
        "summary\n",
        "### (b) Thematic Word\n",
        "The number  of  thematic word  in  sentence, this  feature  is\n",
        "important because terms that occur frequently in a document\n",
        "are probably related to topic. The number of thematic words\n",
        "indicates  the  words  with  maximum  possible  relativity.  The top (10, or you choice) most frequent content word can be considered as thematic. The score for this feature is calculated as the ratio of  the  number  of  thematic  words  that  occur  in  the  sentence over  the  maximum  summary  of  thematic  words  in  the\n",
        "sentence."
      ],
      "metadata": {
        "id": "9Px6NFhkHYEW"
      }
    },
    {
      "cell_type": "code",
      "source": [],
      "metadata": {
        "id": "6o1nbmsVHY00"
      },
      "execution_count": null,
      "outputs": []
    },
    {
      "cell_type": "code",
      "source": [],
      "metadata": {
        "id": "Ohqm9VWgdXFN"
      },
      "execution_count": null,
      "outputs": []
    },
    {
      "cell_type": "markdown",
      "source": [
        "#B4.\n",
        "### [ROUGE (Metric for measuring similarity in NLP)](https://medium.com/nlplanet/two-minutes-nlp-learn-the-rouge-metric-by-examples-f179cc285499):\n",
        "[Pypi ROUGE score package](https://pypi.org/project/rouge-score/)\n",
        "### Evaluate how good is the Summary for each article in your assigned domain by evaluating the ROUGE F1 score for your assigned domain."
      ],
      "metadata": {
        "id": "UP97z59YdZhE"
      }
    },
    {
      "cell_type": "code",
      "source": [
        "from rouge_score import rouge_scorer\n",
        "\n",
        "scorer = rouge_scorer.RougeScorer(['rouge1', 'rouge2'], use_stemmer=True)\n",
        "scores = scorer.score('The quick brown fox jumps over the lazy dog',\n",
        "                      'The quick brown dog jumps on the log.')\n",
        "print(scores)"
      ],
      "metadata": {
        "id": "I0Ieppkhdb_4"
      },
      "execution_count": null,
      "outputs": []
    },
    {
      "cell_type": "code",
      "source": [
        "\n",
        "'''\n",
        "Calculate ROUGE score.\n",
        ":parameter\n",
        "    :param y_test: string or list\n",
        "    :param predicted: string or list\n",
        "'''\n",
        "def evaluate_summary(y_test, predicted):\n",
        "   rouge_score = rouge.Rouge()\n",
        "   scores = rouge_score.get_scores(y_test, predicted, avg=True)\n",
        "   score_1 = round(scores['rouge-1']['f'], 2)\n",
        "   score_2 = round(scores['rouge-2']['f'], 2)\n",
        "   score_L = round(scores['rouge-l']['f'], 2)\n",
        "   print(\"rouge1:\", score_1, \"| rouge2:\", score_2, \"| rougeL:\",\n",
        "         score_2, \"--> avg rouge:\", round(np.mean(\n",
        "         [score_1,score_2,score_L]), 2))\n",
        "## Apply the function to predicted\n",
        "i = 5\n",
        "evaluate_summary(dtf_test[\"y\"][i], predicted[i])"
      ],
      "metadata": {
        "id": "ztPFAcGydxZ-"
      },
      "execution_count": null,
      "outputs": []
    }
  ]
}